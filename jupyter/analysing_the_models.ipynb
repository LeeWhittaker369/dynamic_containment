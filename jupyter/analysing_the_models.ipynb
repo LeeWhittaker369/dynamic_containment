{
 "cells": [
  {
   "cell_type": "markdown",
   "id": "c0ab80d3",
   "metadata": {},
   "source": [
    "# Analysing the models\n",
    "\n",
    "In this notebook we work under using simulations developed in the `modelling the data` notebook "
   ]
  },
  {
   "cell_type": "code",
   "execution_count": 1,
   "id": "273839cd",
   "metadata": {},
   "outputs": [],
   "source": [
    "import pandas as pd\n",
    "from datetime import timedelta, date\n",
    "import matplotlib.pyplot as plt\n",
    "import numpy as np\n",
    "from scipy import signal\n",
    "from scipy import special\n",
    "import openturns as ot\n",
    "from scipy.optimize import least_squares\n",
    "from scipy.optimize import minimize\n",
    "import warnings\n",
    "from scipy.interpolate import interp1d\n",
    "warnings.filterwarnings('ignore')\n",
    "from tqdm.notebook import tqdm\n",
    "\n",
    "from dynamic_containment import utils\n",
    "\n",
    "plt.rcParams['text.usetex'] = False"
   ]
  },
  {
   "cell_type": "markdown",
   "id": "875c472f",
   "metadata": {},
   "source": [
    "The goal in this notebook is to investigate how dynamic containment can be used to complement power grid when frequency in the grid changes.\n",
    "\n",
    "We assume three different battery powers: 2 MW, 5 MW and 10 MW\n",
    "\n",
    "First, assming white noise, following the previous notebook, we can calculate the expected rate of change of the charge for all three cases"
   ]
  },
  {
   "cell_type": "code",
   "execution_count": 2,
   "id": "03c9abf9",
   "metadata": {},
   "outputs": [],
   "source": [
    "service_powers = np.array([2, 5, 10])\n",
    "\n",
    "max_charge = 4\n",
    "\n",
    "max_charge_rate = 4.0\n",
    "max_discharge_rate = 5.0\n",
    "\n",
    "max_percent = max_charge_rate / service_powers\n",
    "min_percent = max_discharge_rate / service_powers\n",
    "\n",
    "alpha = 0.95/0.3\n",
    "ccharge = 1 - 0.5 * alpha\n",
    "    \n",
    "delta_freq_max = (max_percent - ccharge) / alpha\n",
    "delta_freq_min = (min_percent - ccharge) / alpha"
   ]
  },
  {
   "cell_type": "markdown",
   "id": "82d1c883",
   "metadata": {},
   "source": [
    "Let's use the data for our variances. Note, we are using the data to cteate our simulations. In this notebook we do not cut the data, since missing data does not impact the covariance, but cutting and moving data around will likely affect the it."
   ]
  },
  {
   "cell_type": "code",
   "execution_count": 3,
   "id": "723c62d9",
   "metadata": {},
   "outputs": [],
   "source": [
    "freq_table = utils.read_and_clean()"
   ]
  },
  {
   "cell_type": "code",
   "execution_count": 4,
   "id": "e39d5163",
   "metadata": {},
   "outputs": [],
   "source": [
    "dcdt = np.array([\n",
    "    utils.calc_gaussian_slope(freq_table.delta_freq.std(), sp)\n",
    "    for sp in service_powers\n",
    "])"
   ]
  },
  {
   "cell_type": "code",
   "execution_count": 5,
   "id": "2f8ea773",
   "metadata": {},
   "outputs": [
    {
     "data": {
      "text/plain": [
       "array([-3.23914437e-07, -8.09786093e-07, -1.61958050e-06])"
      ]
     },
     "execution_count": 5,
     "metadata": {},
     "output_type": "execute_result"
    }
   ],
   "source": [
    "dcdt"
   ]
  },
  {
   "cell_type": "code",
   "execution_count": 6,
   "id": "f5ff0e91",
   "metadata": {},
   "outputs": [
    {
     "name": "stdout",
     "output_type": "stream",
     "text": [
      "The maximum charge rates are at [200.  80.  40.] power\n",
      "This is when delta freq of [0.82 0.44 0.31] Hz\n"
     ]
    }
   ],
   "source": [
    "print(f\"The maximum charge rates are at {100*max_percent} power\")\n",
    "print(f\"This is when delta freq of {np.round(delta_freq_max, 2)} Hz\")"
   ]
  },
  {
   "cell_type": "code",
   "execution_count": 7,
   "id": "8696d607",
   "metadata": {},
   "outputs": [
    {
     "name": "stdout",
     "output_type": "stream",
     "text": [
      "The maximum discharge rates are at [250. 100.  50.] power\n",
      "This is when delta freq of [-0.97 -0.5  -0.34] Hz\n"
     ]
    }
   ],
   "source": [
    "print(f\"The maximum discharge rates are at {100*min_percent} power\")\n",
    "print(f\"This is when delta freq of {-np.round(delta_freq_min, 2)} Hz\")"
   ]
  },
  {
   "cell_type": "markdown",
   "id": "9eb43093",
   "metadata": {},
   "source": [
    "From these slopes, we can calculate how long it would take to use up a full battery (if we chose to start with one!)"
   ]
  },
  {
   "cell_type": "code",
   "execution_count": 8,
   "id": "1e0ab5b8",
   "metadata": {},
   "outputs": [
    {
     "data": {
      "text/plain": [
       "array([142.92754806,  57.17101922,  28.58536289])"
      ]
     },
     "execution_count": 8,
     "metadata": {},
     "output_type": "execute_result"
    }
   ],
   "source": [
    "-max_charge/(dcdt*(3600.0 * 24.0))"
   ]
  },
  {
   "cell_type": "markdown",
   "id": "ff78c30b",
   "metadata": {},
   "source": [
    "That is, 143 days for the 2 MW battery, 57 days for the 5 MW battery and 29 days for the 10 MW battery."
   ]
  },
  {
   "cell_type": "code",
   "execution_count": 9,
   "id": "8cc09ba6",
   "metadata": {},
   "outputs": [
    {
     "data": {
      "text/plain": [
       "<matplotlib.legend.Legend at 0x7f8782919370>"
      ]
     },
     "execution_count": 9,
     "metadata": {},
     "output_type": "execute_result"
    },
    {
     "data": {
      "image/png": "[encoded data removed]",
      "text/plain": [
       "<Figure size 432x288 with 1 Axes>"
      ]
     },
     "metadata": {
      "needs_background": "light"
     },
     "output_type": "display_data"
    }
   ],
   "source": [
    "days = np.arange(150)\n",
    "plt.plot(days, max_charge + days * (dcdt[0]*(3600.0 * 24.0)), label=\"2 MW\")\n",
    "plt.plot(days, max_charge + days * (dcdt[1]*(3600.0 * 24.0)), label=\"5 MW\")\n",
    "plt.plot(days, max_charge + days * (dcdt[2]*(3600.0 * 24.0)), label=\"10 MW\")\n",
    "plt.axhline(0, color='red', label=\"empty battery\")\n",
    "plt.ylabel(\"% Charge\")\n",
    "plt.xlabel(\"days\")\n",
    "plt.xlim([0, 150])\n",
    "plt.ylim([-0.5, max_charge + 0.5])\n",
    "plt.legend()\n"
   ]
  },
  {
   "cell_type": "code",
   "execution_count": 10,
   "id": "5e41d524",
   "metadata": {},
   "outputs": [
    {
     "data": {
      "application/vnd.jupyter.widget-view+json": {
       "model_id": "b517a100fd754e4185e59e64e1be178a",
       "version_major": 2,
       "version_minor": 0
      },
      "text/plain": [
       "  0%|          | 0/361 [00:00<?, ?it/s]"
      ]
     },
     "metadata": {},
     "output_type": "display_data"
    }
   ],
   "source": [
    "real_space_cov = utils.temporal_covariance(freq_table, max_sep=18001, step=50)"
   ]
  },
  {
   "cell_type": "code",
   "execution_count": 11,
   "id": "c44636fe",
   "metadata": {},
   "outputs": [],
   "source": [
    "# first makes sure I generate enough data (18000s = 5hrs)\n",
    "\n",
    "num_blocks = np.ceil(500 * 24 * 3600 / (18000.0))\n",
    "\n",
    "# This is the number of realisations. I have tested at higher values, but takes longer to run\n",
    "nreals = 200\n",
    "\n",
    "time_step = 1200\n",
    "num_samples = [nreals, int(num_blocks)]"
   ]
  },
  {
   "cell_type": "markdown",
   "id": "805deb80",
   "metadata": {},
   "source": [
    "This takes a while, as we need to process the sims for three service powers! Note, we create independent simuations for each case"
   ]
  },
  {
   "cell_type": "code",
   "execution_count": 12,
   "id": "ac6eed07",
   "metadata": {},
   "outputs": [
    {
     "name": "stdout",
     "output_type": "stream",
     "text": [
      "creating covariance\n",
      "creating samples\n"
     ]
    },
    {
     "data": {
      "application/vnd.jupyter.widget-view+json": {
       "model_id": "fe85fd9cb7434544bfb522f125ae4fc3",
       "version_major": 2,
       "version_minor": 0
      },
      "text/plain": [
       "  0%|          | 0/200 [00:00<?, ?it/s]"
      ]
     },
     "metadata": {},
     "output_type": "display_data"
    },
    {
     "name": "stdout",
     "output_type": "stream",
     "text": [
      "creating covariance\n",
      "creating samples\n"
     ]
    },
    {
     "data": {
      "application/vnd.jupyter.widget-view+json": {
       "model_id": "3694e1477a9241399af327daba97624c",
       "version_major": 2,
       "version_minor": 0
      },
      "text/plain": [
       "  0%|          | 0/200 [00:00<?, ?it/s]"
      ]
     },
     "metadata": {},
     "output_type": "display_data"
    },
    {
     "name": "stdout",
     "output_type": "stream",
     "text": [
      "creating covariance\n",
      "creating samples\n"
     ]
    },
    {
     "data": {
      "application/vnd.jupyter.widget-view+json": {
       "model_id": "7554b19644e74a919b3db7743ec2aa87",
       "version_major": 2,
       "version_minor": 0
      },
      "text/plain": [
       "  0%|          | 0/200 [00:00<?, ?it/s]"
      ]
     },
     "metadata": {},
     "output_type": "display_data"
    }
   ],
   "source": [
    "reals = {}\n",
    "\n",
    "summaries = {}\n",
    "\n",
    "num_seconds = 150 * 24 * 3600\n",
    "\n",
    "for p in service_powers:\n",
    "    \n",
    "    samples = utils.simulate_grf_using_cov(real_space_cov, max_time=18000, time_step=time_step, num_samples=num_samples)\n",
    "    \n",
    "    new_samples = [s.flatten()[:num_seconds] for s in samples]\n",
    "    \n",
    "    #new_samples = utils.interp_samples(samples, max_time=num_seconds, step_samples=time_step)\n",
    "    \n",
    "    count = 0\n",
    "    \n",
    "    reals[p] = {}\n",
    "\n",
    "    for s in tqdm(new_samples):\n",
    "        \n",
    "        df = pd.DataFrame()\n",
    "        df[\"date\"] = np.arange(len(s))*time_step\n",
    "        df[\"delta_freq\"] = s\n",
    "        df = utils.add_charge_info(df, p, time_step)\n",
    "\n",
    "        reals[p][count] = df\n",
    "    \n",
    "        count+=1\n",
    "        \n",
    "    summaries[p] = reals[p][0].copy()\n",
    "    summaries[p]['culm_charge'] = 0.0\n",
    "    summaries[p]['culm_charge_sq'] = 0.0\n",
    "\n",
    "    for s in reals[p]:\n",
    "    \n",
    "        summaries[p]['culm_charge'] += reals[p][s]['culm_charge']\n",
    "        summaries[p]['culm_charge_sq'] += reals[p][s]['culm_charge']**2.0\n",
    "\n",
    "    summaries[p]['culm_charge'] = summaries[p]['culm_charge'] / len(reals[p])\n",
    "    \n",
    "    summaries[p]['var_charge'] = (\n",
    "        summaries[p]['culm_charge_sq'] / (len(reals[p]) - 1)\n",
    "        - summaries[p]['culm_charge']**2.0 * len(reals[p]) / (len(reals[p]) - 1)\n",
    "    )\n",
    "    \n",
    "    summaries[p]['std_charge'] = np.sqrt(summaries[p]['var_charge'])\n",
    "    "
   ]
  },
  {
   "cell_type": "code",
   "execution_count": 13,
   "id": "bc79acbb",
   "metadata": {},
   "outputs": [],
   "source": [
    "keep_charge = 10000\n",
    "samp_charge = []\n",
    "\n",
    "\n",
    "for s in reals[10]:\n",
    "    \n",
    "    samp_charge.append(float(reals[2][s].iloc[keep_charge].culm_charge))"
   ]
  },
  {
   "cell_type": "code",
   "execution_count": 14,
   "id": "d4f4fdbf",
   "metadata": {},
   "outputs": [
    {
     "data": {
      "image/png": "[encoded data removed]",
      "text/plain": [
       "<Figure size 432x288 with 1 Axes>"
      ]
     },
     "metadata": {
      "needs_background": "light"
     },
     "output_type": "display_data"
    }
   ],
   "source": [
    "hist = plt.hist(samp_charge, bins=20)"
   ]
  },
  {
   "cell_type": "code",
   "execution_count": 15,
   "id": "e53a63e3",
   "metadata": {
    "scrolled": true
   },
   "outputs": [
    {
     "name": "stdout",
     "output_type": "stream",
     "text": [
      "For the `both` service with service power 2 MW, it is best to start with a charge of 2.57 MWh\n"
     ]
    },
    {
     "data": {
      "image/png": "[encoded data removed]",
      "text/plain": [
       "<Figure size 432x288 with 1 Axes>"
      ]
     },
     "metadata": {
      "needs_background": "light"
     },
     "output_type": "display_data"
    }
   ],
   "source": [
    "p = 2\n",
    "nsig = 4\n",
    "\n",
    "stds = np.array(summaries[p].std_charge)\n",
    "charge = np.array(summaries[p].culm_charge)\n",
    "\n",
    "equal_date = np.min(np.where(np.abs(nsig*stds) > 0.5 * max_charge))\n",
    "charge = float(summaries[p].culm_charge.iloc[equal_date])\n",
    "E0 = -0.5*max_charge - charge\n",
    "\n",
    "days = np.arange(500)\n",
    "\n",
    "plt.plot(summaries[p].date/(3600.0 * 24.0), max_charge + E0 + summaries[p].culm_charge, label=f\"{p} MW (sims)\")\n",
    "plt.plot(days, max_charge + E0 + days * dcdt[np.where(service_powers==p)[0]]*(3600.0 * 24.0),  '--', label=f\"{p} MW (theory)\")\n",
    "plt.plot(summaries[p].date/(3600.0 * 24.0), max_charge + E0 + summaries[p].culm_charge-nsig*summaries[p].std_charge, color='green')\n",
    "plt.plot(summaries[p].date/(3600.0 * 24.0), max_charge + E0 + summaries[p].culm_charge+nsig*summaries[p].std_charge, color='green')\n",
    "plt.axhline(max_charge, color='blue', label=\"max charge\")\n",
    "plt.axhline(0.0, color='red', label=\"empty battery\")\n",
    "plt.ylabel(\"% Charge\")\n",
    "plt.xlabel(\"days\")\n",
    "plt.ylim([-0.5, max_charge+0.5])\n",
    "plt.xlim([-0.01, summaries[p].date.iloc[int(equal_date)]/(3600.0 * 24.0)])\n",
    "plt.legend()\n",
    "\n",
    "print(f\"For the `both` service with service power {p} MW, it is best to start with a charge of {np.round(max_charge + E0, 2)} MWh\")\n"
   ]
  },
  {
   "cell_type": "code",
   "execution_count": 16,
   "id": "8ee6890b",
   "metadata": {},
   "outputs": [
    {
     "name": "stdout",
     "output_type": "stream",
     "text": [
      "The average time to fully empty when starting with charge 2.57 MWh\n",
      "    is 94.08 +/- 38.66 days\n"
     ]
    }
   ],
   "source": [
    "full_discharge_dates = []\n",
    "\n",
    "for s in reals[p]:\n",
    "    \n",
    "    charge = np.array(reals[p][s].culm_charge)\n",
    "    \n",
    "    full_discharge_dates.append(np.min(np.where(np.abs(max_charge + E0 + charge < 0))) * time_step/(24.0 * 3600))\n",
    "    \n",
    "print(\n",
    "    f\"\"\"The average time to fully empty when starting with charge {np.round(max_charge + E0, 2)} MWh\n",
    "    is {np.round(np.mean(full_discharge_dates), 2)} +/- {np.round(np.std(full_discharge_dates), 2)} days\"\"\"\n",
    ")"
   ]
  },
  {
   "cell_type": "code",
   "execution_count": 17,
   "id": "160a4281",
   "metadata": {},
   "outputs": [
    {
     "name": "stdout",
     "output_type": "stream",
     "text": [
      "31.930555555555557\n",
      "287.4166666666667\n"
     ]
    }
   ],
   "source": [
    "print(min(full_discharge_dates))\n",
    "print(max(full_discharge_dates))"
   ]
  },
  {
   "cell_type": "code",
   "execution_count": 18,
   "id": "1dfe79f8",
   "metadata": {
    "scrolled": true
   },
   "outputs": [
    {
     "data": {
      "text/plain": [
       "(array([31., 59., 53., 34., 13.,  4.,  2.,  2.,  1.,  1.]),\n",
       " array([ 31.93055556,  57.47916667,  83.02777778, 108.57638889,\n",
       "        134.125     , 159.67361111, 185.22222222, 210.77083333,\n",
       "        236.31944444, 261.86805556, 287.41666667]),\n",
       " <BarContainer object of 10 artists>)"
      ]
     },
     "execution_count": 18,
     "metadata": {},
     "output_type": "execute_result"
    },
    {
     "data": {
      "image/png": "[encoded data removed]",
      "text/plain": [
       "<Figure size 432x288 with 1 Axes>"
      ]
     },
     "metadata": {
      "needs_background": "light"
     },
     "output_type": "display_data"
    }
   ],
   "source": [
    "plt.hist(full_discharge_dates)"
   ]
  },
  {
   "cell_type": "code",
   "execution_count": 19,
   "id": "43741b4a",
   "metadata": {},
   "outputs": [],
   "source": [
    "def max_date_func(E0, reals, p):\n",
    "    \n",
    "    date_end = []\n",
    "\n",
    "    for s in reals[p]:\n",
    "\n",
    "        charge = E0 + np.array(reals[p][s].culm_charge)\n",
    "\n",
    "        min_date = np.where(charge <= 0.0)[0]\n",
    "        if len(min_date):\n",
    "            min_date = np.min(min_date)\n",
    "        else:\n",
    "            min_date = 1e10\n",
    "        max_date = np.where(charge >= max_charge)[0]\n",
    "        if len(max_date):\n",
    "            max_date = np.min(max_date)\n",
    "        else:\n",
    "            max_date = 1e10\n",
    "        date_end.append(np.min([min_date, max_date]))\n",
    "        \n",
    "    return np.array(date_end)"
   ]
  },
  {
   "cell_type": "code",
   "execution_count": 20,
   "id": "8efad8f8",
   "metadata": {},
   "outputs": [],
   "source": [
    "E_arr = np.linspace(0,4.0, num=401)"
   ]
  },
  {
   "cell_type": "code",
   "execution_count": 21,
   "id": "478bc904",
   "metadata": {},
   "outputs": [],
   "source": [
    "p = 2\n",
    "\n",
    "d_mean = []\n",
    "for e in E_arr:\n",
    "    d_mean.append(np.mean(max_date_func(e, reals, p)))"
   ]
  },
  {
   "cell_type": "code",
   "execution_count": 22,
   "id": "cbccde3b",
   "metadata": {},
   "outputs": [
    {
     "data": {
      "text/plain": [
       "[<matplotlib.lines.Line2D at 0x7f874ba94550>]"
      ]
     },
     "execution_count": 22,
     "metadata": {},
     "output_type": "execute_result"
    },
    {
     "data": {
      "image/png": "[encoded data removed]",
      "text/plain": [
       "<Figure size 432x288 with 1 Axes>"
      ]
     },
     "metadata": {
      "needs_background": "light"
     },
     "output_type": "display_data"
    }
   ],
   "source": [
    "plt.plot(E_arr, d_mean)"
   ]
  },
  {
   "cell_type": "code",
   "execution_count": 23,
   "id": "d7ac452e",
   "metadata": {},
   "outputs": [],
   "source": [
    "res = np.polyfit(E_arr, d_mean, deg=8)"
   ]
  },
  {
   "cell_type": "code",
   "execution_count": 24,
   "id": "ae25f032",
   "metadata": {},
   "outputs": [
    {
     "data": {
      "text/plain": [
       "[<matplotlib.lines.Line2D at 0x7f874b8bcf70>]"
      ]
     },
     "execution_count": 24,
     "metadata": {},
     "output_type": "execute_result"
    },
    {
     "data": {
      "image/png": "[encoded data removed]",
      "text/plain": [
       "<Figure size 432x288 with 1 Axes>"
      ]
     },
     "metadata": {
      "needs_background": "light"
     },
     "output_type": "display_data"
    }
   ],
   "source": [
    "plt.plot(E_arr, d_mean)\n",
    "plt.plot(E_arr, np.poly1d(res)(E_arr))"
   ]
  },
  {
   "cell_type": "code",
   "execution_count": 25,
   "id": "98c33aab",
   "metadata": {},
   "outputs": [],
   "source": [
    "Ebest = E_arr[np.where(np.poly1d(res)(E_arr)==np.max(np.poly1d(res)(E_arr)))[0]]"
   ]
  },
  {
   "cell_type": "code",
   "execution_count": 26,
   "id": "e58cc126",
   "metadata": {},
   "outputs": [
    {
     "data": {
      "text/plain": [
       "array([3.35])"
      ]
     },
     "execution_count": 26,
     "metadata": {},
     "output_type": "execute_result"
    }
   ],
   "source": [
    "Ebest"
   ]
  },
  {
   "cell_type": "code",
   "execution_count": 27,
   "id": "125f251f",
   "metadata": {},
   "outputs": [],
   "source": [
    "dates = max_date_func(Ebest, reals, p)"
   ]
  },
  {
   "cell_type": "code",
   "execution_count": 28,
   "id": "5f9c7485",
   "metadata": {},
   "outputs": [
    {
     "data": {
      "image/png": "[encoded data removed]",
      "text/plain": [
       "<Figure size 432x288 with 1 Axes>"
      ]
     },
     "metadata": {
      "needs_background": "light"
     },
     "output_type": "display_data"
    }
   ],
   "source": [
    "hist = plt.hist(dates * time_step /(3600.0 * 24.0), bins=20)"
   ]
  },
  {
   "cell_type": "code",
   "execution_count": 29,
   "id": "8513d0e2",
   "metadata": {},
   "outputs": [
    {
     "data": {
      "text/plain": [
       "114.70201388888889"
      ]
     },
     "execution_count": 29,
     "metadata": {},
     "output_type": "execute_result"
    }
   ],
   "source": [
    "np.mean(dates) * time_step /(3600.0 * 24.0)"
   ]
  },
  {
   "cell_type": "code",
   "execution_count": null,
   "id": "c6914591",
   "metadata": {},
   "outputs": [],
   "source": []
  }
 ],
 "metadata": {
  "kernelspec": {
   "display_name": "my_env",
   "language": "python",
   "name": "my_env"
  },
  "language_info": {
   "codemirror_mode": {
    "name": "ipython",
    "version": 3
   },
   "file_extension": ".py",
   "mimetype": "text/x-python",
   "name": "python",
   "nbconvert_exporter": "python",
   "pygments_lexer": "ipython3",
   "version": "3.8.8"
  }
 },
 "nbformat": 4,
 "nbformat_minor": 5
}
