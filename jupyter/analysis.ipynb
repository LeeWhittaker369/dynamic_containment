{
 "cells": [
  {
   "cell_type": "markdown",
   "id": "51508742",
   "metadata": {},
   "source": [
    "# Investigating the frequency and battery charge\n",
    "\n",
    "We start by importing libaries that should have been installed when installing the package\n",
    "\n",
    "The `dynamic_containment` module is part of this package"
   ]
  },
  {
   "cell_type": "code",
   "execution_count": 1,
   "id": "0bd59a5c",
   "metadata": {},
   "outputs": [],
   "source": [
    "import pandas as pd\n",
    "from datetime import timedelta, date\n",
    "import matplotlib.pyplot as plt\n",
    "import numpy as np\n",
    "from scipy import signal\n",
    "from scipy import special\n",
    "import openturns as ot\n",
    "from scipy.optimize import least_squares\n",
    "import warnings\n",
    "from scipy.interpolate import interp1d\n",
    "warnings.filterwarnings('ignore')\n",
    "from tqdm.notebook import tqdm\n",
    "\n",
    "from dynamic_containment import utils\n",
    "\n",
    "plt.rcParams['text.usetex'] = False"
   ]
  },
  {
   "cell_type": "markdown",
   "id": "ea03db32",
   "metadata": {},
   "source": [
    "We have set up a function within `dynamic_containment` to calculate the charge associated with each change in frequency"
   ]
  },
  {
   "cell_type": "code",
   "execution_count": 2,
   "id": "83a4abc6",
   "metadata": {
    "scrolled": true
   },
   "outputs": [
    {
     "data": {
      "text/plain": [
       "Text(0, 0.5, 'Charge %')"
      ]
     },
     "execution_count": 2,
     "metadata": {},
     "output_type": "execute_result"
    },
    {
     "data": {
      "image/png": "[encoded data removed]",
      "text/plain": [
       "<Figure size 432x288 with 1 Axes>"
      ]
     },
     "metadata": {
      "needs_background": "light"
     },
     "output_type": "display_data"
    }
   ],
   "source": [
    "df = np.linspace(-0.6, 0.6, num=1000)\n",
    "\n",
    "plt.plot(df, [100*utils.battery_power(dfi, 5) for dfi in df])\n",
    "plt.xlabel(\"$\\delta f$\")\n",
    "plt.ylabel(\"Charge %\")"
   ]
  },
  {
   "cell_type": "code",
   "execution_count": 8,
   "id": "c0e2e500",
   "metadata": {},
   "outputs": [
    {
     "ename": "UnicodeDecodeError",
     "evalue": "'utf-8' codec can't decode byte 0xb0 in position 549: invalid start byte",
     "output_type": "error",
     "traceback": [
      "\u001b[0;31m---------------------------------------------------------------------------\u001b[0m",
      "\u001b[0;31mUnicodeDecodeError\u001b[0m                        Traceback (most recent call last)",
      "\u001b[0;32m/var/folders/r5/zstjbthd73gb2c3mz36cnvqr0000gp/T/ipykernel_17496/3258733607.py\u001b[0m in \u001b[0;36m<module>\u001b[0;34m\u001b[0m\n\u001b[0;32m----> 1\u001b[0;31m \u001b[0mfreq_table\u001b[0m \u001b[0;34m=\u001b[0m \u001b[0mpd\u001b[0m\u001b[0;34m.\u001b[0m\u001b[0mread_csv\u001b[0m\u001b[0;34m(\u001b[0m\u001b[0;34m'data/task_data_1hz.tar.gz'\u001b[0m\u001b[0;34m,\u001b[0m \u001b[0mcompression\u001b[0m\u001b[0;34m=\u001b[0m\u001b[0;34m'gzip'\u001b[0m\u001b[0;34m,\u001b[0m \u001b[0mheader\u001b[0m\u001b[0;34m=\u001b[0m\u001b[0;36m0\u001b[0m\u001b[0;34m,\u001b[0m \u001b[0msep\u001b[0m\u001b[0;34m=\u001b[0m\u001b[0;34m', '\u001b[0m\u001b[0;34m,\u001b[0m \u001b[0mquotechar\u001b[0m\u001b[0;34m=\u001b[0m\u001b[0;34m'\"'\u001b[0m\u001b[0;34m,\u001b[0m \u001b[0merror_bad_lines\u001b[0m\u001b[0;34m=\u001b[0m\u001b[0;32mFalse\u001b[0m\u001b[0;34m)\u001b[0m\u001b[0;34m\u001b[0m\u001b[0;34m\u001b[0m\u001b[0m\n\u001b[0m",
      "\u001b[0;32m~/my_env/lib/python3.8/site-packages/pandas/io/parsers.py\u001b[0m in \u001b[0;36mread_csv\u001b[0;34m(filepath_or_buffer, sep, delimiter, header, names, index_col, usecols, squeeze, prefix, mangle_dupe_cols, dtype, engine, converters, true_values, false_values, skipinitialspace, skiprows, skipfooter, nrows, na_values, keep_default_na, na_filter, verbose, skip_blank_lines, parse_dates, infer_datetime_format, keep_date_col, date_parser, dayfirst, cache_dates, iterator, chunksize, compression, thousands, decimal, lineterminator, quotechar, quoting, doublequote, escapechar, comment, encoding, dialect, error_bad_lines, warn_bad_lines, delim_whitespace, low_memory, memory_map, float_precision, storage_options)\u001b[0m\n\u001b[1;32m    603\u001b[0m     \u001b[0mkwds\u001b[0m\u001b[0;34m.\u001b[0m\u001b[0mupdate\u001b[0m\u001b[0;34m(\u001b[0m\u001b[0mkwds_defaults\u001b[0m\u001b[0;34m)\u001b[0m\u001b[0;34m\u001b[0m\u001b[0;34m\u001b[0m\u001b[0m\n\u001b[1;32m    604\u001b[0m \u001b[0;34m\u001b[0m\u001b[0m\n\u001b[0;32m--> 605\u001b[0;31m     \u001b[0;32mreturn\u001b[0m \u001b[0m_read\u001b[0m\u001b[0;34m(\u001b[0m\u001b[0mfilepath_or_buffer\u001b[0m\u001b[0;34m,\u001b[0m \u001b[0mkwds\u001b[0m\u001b[0;34m)\u001b[0m\u001b[0;34m\u001b[0m\u001b[0;34m\u001b[0m\u001b[0m\n\u001b[0m\u001b[1;32m    606\u001b[0m \u001b[0;34m\u001b[0m\u001b[0m\n\u001b[1;32m    607\u001b[0m \u001b[0;34m\u001b[0m\u001b[0m\n",
      "\u001b[0;32m~/my_env/lib/python3.8/site-packages/pandas/io/parsers.py\u001b[0m in \u001b[0;36m_read\u001b[0;34m(filepath_or_buffer, kwds)\u001b[0m\n\u001b[1;32m    455\u001b[0m \u001b[0;34m\u001b[0m\u001b[0m\n\u001b[1;32m    456\u001b[0m     \u001b[0;31m# Create the parser.\u001b[0m\u001b[0;34m\u001b[0m\u001b[0;34m\u001b[0m\u001b[0;34m\u001b[0m\u001b[0m\n\u001b[0;32m--> 457\u001b[0;31m     \u001b[0mparser\u001b[0m \u001b[0;34m=\u001b[0m \u001b[0mTextFileReader\u001b[0m\u001b[0;34m(\u001b[0m\u001b[0mfilepath_or_buffer\u001b[0m\u001b[0;34m,\u001b[0m \u001b[0;34m**\u001b[0m\u001b[0mkwds\u001b[0m\u001b[0;34m)\u001b[0m\u001b[0;34m\u001b[0m\u001b[0;34m\u001b[0m\u001b[0m\n\u001b[0m\u001b[1;32m    458\u001b[0m \u001b[0;34m\u001b[0m\u001b[0m\n\u001b[1;32m    459\u001b[0m     \u001b[0;32mif\u001b[0m \u001b[0mchunksize\u001b[0m \u001b[0;32mor\u001b[0m \u001b[0miterator\u001b[0m\u001b[0;34m:\u001b[0m\u001b[0;34m\u001b[0m\u001b[0;34m\u001b[0m\u001b[0m\n",
      "\u001b[0;32m~/my_env/lib/python3.8/site-packages/pandas/io/parsers.py\u001b[0m in \u001b[0;36m__init__\u001b[0;34m(self, f, engine, **kwds)\u001b[0m\n\u001b[1;32m    812\u001b[0m             \u001b[0mself\u001b[0m\u001b[0;34m.\u001b[0m\u001b[0moptions\u001b[0m\u001b[0;34m[\u001b[0m\u001b[0;34m\"has_index_names\"\u001b[0m\u001b[0;34m]\u001b[0m \u001b[0;34m=\u001b[0m \u001b[0mkwds\u001b[0m\u001b[0;34m[\u001b[0m\u001b[0;34m\"has_index_names\"\u001b[0m\u001b[0;34m]\u001b[0m\u001b[0;34m\u001b[0m\u001b[0;34m\u001b[0m\u001b[0m\n\u001b[1;32m    813\u001b[0m \u001b[0;34m\u001b[0m\u001b[0m\n\u001b[0;32m--> 814\u001b[0;31m         \u001b[0mself\u001b[0m\u001b[0;34m.\u001b[0m\u001b[0m_engine\u001b[0m \u001b[0;34m=\u001b[0m \u001b[0mself\u001b[0m\u001b[0;34m.\u001b[0m\u001b[0m_make_engine\u001b[0m\u001b[0;34m(\u001b[0m\u001b[0mself\u001b[0m\u001b[0;34m.\u001b[0m\u001b[0mengine\u001b[0m\u001b[0;34m)\u001b[0m\u001b[0;34m\u001b[0m\u001b[0;34m\u001b[0m\u001b[0m\n\u001b[0m\u001b[1;32m    815\u001b[0m \u001b[0;34m\u001b[0m\u001b[0m\n\u001b[1;32m    816\u001b[0m     \u001b[0;32mdef\u001b[0m \u001b[0mclose\u001b[0m\u001b[0;34m(\u001b[0m\u001b[0mself\u001b[0m\u001b[0;34m)\u001b[0m\u001b[0;34m:\u001b[0m\u001b[0;34m\u001b[0m\u001b[0;34m\u001b[0m\u001b[0m\n",
      "\u001b[0;32m~/my_env/lib/python3.8/site-packages/pandas/io/parsers.py\u001b[0m in \u001b[0;36m_make_engine\u001b[0;34m(self, engine)\u001b[0m\n\u001b[1;32m   1043\u001b[0m             )\n\u001b[1;32m   1044\u001b[0m         \u001b[0;31m# error: Too many arguments for \"ParserBase\"\u001b[0m\u001b[0;34m\u001b[0m\u001b[0;34m\u001b[0m\u001b[0;34m\u001b[0m\u001b[0m\n\u001b[0;32m-> 1045\u001b[0;31m         \u001b[0;32mreturn\u001b[0m \u001b[0mmapping\u001b[0m\u001b[0;34m[\u001b[0m\u001b[0mengine\u001b[0m\u001b[0;34m]\u001b[0m\u001b[0;34m(\u001b[0m\u001b[0mself\u001b[0m\u001b[0;34m.\u001b[0m\u001b[0mf\u001b[0m\u001b[0;34m,\u001b[0m \u001b[0;34m**\u001b[0m\u001b[0mself\u001b[0m\u001b[0;34m.\u001b[0m\u001b[0moptions\u001b[0m\u001b[0;34m)\u001b[0m  \u001b[0;31m# type: ignore[call-arg]\u001b[0m\u001b[0;34m\u001b[0m\u001b[0;34m\u001b[0m\u001b[0m\n\u001b[0m\u001b[1;32m   1046\u001b[0m \u001b[0;34m\u001b[0m\u001b[0m\n\u001b[1;32m   1047\u001b[0m     \u001b[0;32mdef\u001b[0m \u001b[0m_failover_to_python\u001b[0m\u001b[0;34m(\u001b[0m\u001b[0mself\u001b[0m\u001b[0;34m)\u001b[0m\u001b[0;34m:\u001b[0m\u001b[0;34m\u001b[0m\u001b[0;34m\u001b[0m\u001b[0m\n",
      "\u001b[0;32m~/my_env/lib/python3.8/site-packages/pandas/io/parsers.py\u001b[0m in \u001b[0;36m__init__\u001b[0;34m(self, f, **kwds)\u001b[0m\n\u001b[1;32m   2303\u001b[0m                 \u001b[0mself\u001b[0m\u001b[0;34m.\u001b[0m\u001b[0mnum_original_columns\u001b[0m\u001b[0;34m,\u001b[0m\u001b[0;34m\u001b[0m\u001b[0;34m\u001b[0m\u001b[0m\n\u001b[1;32m   2304\u001b[0m                 \u001b[0mself\u001b[0m\u001b[0;34m.\u001b[0m\u001b[0munnamed_cols\u001b[0m\u001b[0;34m,\u001b[0m\u001b[0;34m\u001b[0m\u001b[0;34m\u001b[0m\u001b[0m\n\u001b[0;32m-> 2305\u001b[0;31m             ) = self._infer_columns()\n\u001b[0m\u001b[1;32m   2306\u001b[0m         \u001b[0;32mexcept\u001b[0m \u001b[0;34m(\u001b[0m\u001b[0mTypeError\u001b[0m\u001b[0;34m,\u001b[0m \u001b[0mValueError\u001b[0m\u001b[0;34m)\u001b[0m\u001b[0;34m:\u001b[0m\u001b[0;34m\u001b[0m\u001b[0;34m\u001b[0m\u001b[0m\n\u001b[1;32m   2307\u001b[0m             \u001b[0mself\u001b[0m\u001b[0;34m.\u001b[0m\u001b[0mclose\u001b[0m\u001b[0;34m(\u001b[0m\u001b[0;34m)\u001b[0m\u001b[0;34m\u001b[0m\u001b[0;34m\u001b[0m\u001b[0m\n",
      "\u001b[0;32m~/my_env/lib/python3.8/site-packages/pandas/io/parsers.py\u001b[0m in \u001b[0;36m_infer_columns\u001b[0;34m(self)\u001b[0m\n\u001b[1;32m   2610\u001b[0m             \u001b[0;32mfor\u001b[0m \u001b[0mlevel\u001b[0m\u001b[0;34m,\u001b[0m \u001b[0mhr\u001b[0m \u001b[0;32min\u001b[0m \u001b[0menumerate\u001b[0m\u001b[0;34m(\u001b[0m\u001b[0mheader\u001b[0m\u001b[0;34m)\u001b[0m\u001b[0;34m:\u001b[0m\u001b[0;34m\u001b[0m\u001b[0;34m\u001b[0m\u001b[0m\n\u001b[1;32m   2611\u001b[0m                 \u001b[0;32mtry\u001b[0m\u001b[0;34m:\u001b[0m\u001b[0;34m\u001b[0m\u001b[0;34m\u001b[0m\u001b[0m\n\u001b[0;32m-> 2612\u001b[0;31m                     \u001b[0mline\u001b[0m \u001b[0;34m=\u001b[0m \u001b[0mself\u001b[0m\u001b[0;34m.\u001b[0m\u001b[0m_buffered_line\u001b[0m\u001b[0;34m(\u001b[0m\u001b[0;34m)\u001b[0m\u001b[0;34m\u001b[0m\u001b[0;34m\u001b[0m\u001b[0m\n\u001b[0m\u001b[1;32m   2613\u001b[0m \u001b[0;34m\u001b[0m\u001b[0m\n\u001b[1;32m   2614\u001b[0m                     \u001b[0;32mwhile\u001b[0m \u001b[0mself\u001b[0m\u001b[0;34m.\u001b[0m\u001b[0mline_pos\u001b[0m \u001b[0;34m<=\u001b[0m \u001b[0mhr\u001b[0m\u001b[0;34m:\u001b[0m\u001b[0;34m\u001b[0m\u001b[0;34m\u001b[0m\u001b[0m\n",
      "\u001b[0;32m~/my_env/lib/python3.8/site-packages/pandas/io/parsers.py\u001b[0m in \u001b[0;36m_buffered_line\u001b[0;34m(self)\u001b[0m\n\u001b[1;32m   2804\u001b[0m             \u001b[0;32mreturn\u001b[0m \u001b[0mself\u001b[0m\u001b[0;34m.\u001b[0m\u001b[0mbuf\u001b[0m\u001b[0;34m[\u001b[0m\u001b[0;36m0\u001b[0m\u001b[0;34m]\u001b[0m\u001b[0;34m\u001b[0m\u001b[0;34m\u001b[0m\u001b[0m\n\u001b[1;32m   2805\u001b[0m         \u001b[0;32melse\u001b[0m\u001b[0;34m:\u001b[0m\u001b[0;34m\u001b[0m\u001b[0;34m\u001b[0m\u001b[0m\n\u001b[0;32m-> 2806\u001b[0;31m             \u001b[0;32mreturn\u001b[0m \u001b[0mself\u001b[0m\u001b[0;34m.\u001b[0m\u001b[0m_next_line\u001b[0m\u001b[0;34m(\u001b[0m\u001b[0;34m)\u001b[0m\u001b[0;34m\u001b[0m\u001b[0;34m\u001b[0m\u001b[0m\n\u001b[0m\u001b[1;32m   2807\u001b[0m \u001b[0;34m\u001b[0m\u001b[0m\n\u001b[1;32m   2808\u001b[0m     \u001b[0;32mdef\u001b[0m \u001b[0m_check_for_bom\u001b[0m\u001b[0;34m(\u001b[0m\u001b[0mself\u001b[0m\u001b[0;34m,\u001b[0m \u001b[0mfirst_row\u001b[0m\u001b[0;34m)\u001b[0m\u001b[0;34m:\u001b[0m\u001b[0;34m\u001b[0m\u001b[0;34m\u001b[0m\u001b[0m\n",
      "\u001b[0;32m~/my_env/lib/python3.8/site-packages/pandas/io/parsers.py\u001b[0m in \u001b[0;36m_next_line\u001b[0;34m(self)\u001b[0m\n\u001b[1;32m   2901\u001b[0m \u001b[0;34m\u001b[0m\u001b[0m\n\u001b[1;32m   2902\u001b[0m             \u001b[0;32mwhile\u001b[0m \u001b[0;32mTrue\u001b[0m\u001b[0;34m:\u001b[0m\u001b[0;34m\u001b[0m\u001b[0;34m\u001b[0m\u001b[0m\n\u001b[0;32m-> 2903\u001b[0;31m                 \u001b[0morig_line\u001b[0m \u001b[0;34m=\u001b[0m \u001b[0mself\u001b[0m\u001b[0;34m.\u001b[0m\u001b[0m_next_iter_line\u001b[0m\u001b[0;34m(\u001b[0m\u001b[0mrow_num\u001b[0m\u001b[0;34m=\u001b[0m\u001b[0mself\u001b[0m\u001b[0;34m.\u001b[0m\u001b[0mpos\u001b[0m \u001b[0;34m+\u001b[0m \u001b[0;36m1\u001b[0m\u001b[0;34m)\u001b[0m\u001b[0;34m\u001b[0m\u001b[0;34m\u001b[0m\u001b[0m\n\u001b[0m\u001b[1;32m   2904\u001b[0m                 \u001b[0mself\u001b[0m\u001b[0;34m.\u001b[0m\u001b[0mpos\u001b[0m \u001b[0;34m+=\u001b[0m \u001b[0;36m1\u001b[0m\u001b[0;34m\u001b[0m\u001b[0;34m\u001b[0m\u001b[0m\n\u001b[1;32m   2905\u001b[0m \u001b[0;34m\u001b[0m\u001b[0m\n",
      "\u001b[0;32m~/my_env/lib/python3.8/site-packages/pandas/io/parsers.py\u001b[0m in \u001b[0;36m_next_iter_line\u001b[0;34m(self, row_num)\u001b[0m\n\u001b[1;32m   2961\u001b[0m             \u001b[0;31m# assert for mypy, data is Iterator[str] or None, would error in next\u001b[0m\u001b[0;34m\u001b[0m\u001b[0;34m\u001b[0m\u001b[0;34m\u001b[0m\u001b[0m\n\u001b[1;32m   2962\u001b[0m             \u001b[0;32massert\u001b[0m \u001b[0mself\u001b[0m\u001b[0;34m.\u001b[0m\u001b[0mdata\u001b[0m \u001b[0;32mis\u001b[0m \u001b[0;32mnot\u001b[0m \u001b[0;32mNone\u001b[0m\u001b[0;34m\u001b[0m\u001b[0;34m\u001b[0m\u001b[0m\n\u001b[0;32m-> 2963\u001b[0;31m             \u001b[0;32mreturn\u001b[0m \u001b[0mnext\u001b[0m\u001b[0;34m(\u001b[0m\u001b[0mself\u001b[0m\u001b[0;34m.\u001b[0m\u001b[0mdata\u001b[0m\u001b[0;34m)\u001b[0m\u001b[0;34m\u001b[0m\u001b[0;34m\u001b[0m\u001b[0m\n\u001b[0m\u001b[1;32m   2964\u001b[0m         \u001b[0;32mexcept\u001b[0m \u001b[0mcsv\u001b[0m\u001b[0;34m.\u001b[0m\u001b[0mError\u001b[0m \u001b[0;32mas\u001b[0m \u001b[0me\u001b[0m\u001b[0;34m:\u001b[0m\u001b[0;34m\u001b[0m\u001b[0;34m\u001b[0m\u001b[0m\n\u001b[1;32m   2965\u001b[0m             \u001b[0;32mif\u001b[0m \u001b[0mself\u001b[0m\u001b[0;34m.\u001b[0m\u001b[0mwarn_bad_lines\u001b[0m \u001b[0;32mor\u001b[0m \u001b[0mself\u001b[0m\u001b[0;34m.\u001b[0m\u001b[0merror_bad_lines\u001b[0m\u001b[0;34m:\u001b[0m\u001b[0;34m\u001b[0m\u001b[0;34m\u001b[0m\u001b[0m\n",
      "\u001b[0;32m~/my_env/lib/python3.8/site-packages/pandas/io/parsers.py\u001b[0m in \u001b[0;36m_read\u001b[0;34m()\u001b[0m\n\u001b[1;32m   2440\u001b[0m \u001b[0;34m\u001b[0m\u001b[0m\n\u001b[1;32m   2441\u001b[0m             \u001b[0;32mdef\u001b[0m \u001b[0m_read\u001b[0m\u001b[0;34m(\u001b[0m\u001b[0;34m)\u001b[0m\u001b[0;34m:\u001b[0m\u001b[0;34m\u001b[0m\u001b[0;34m\u001b[0m\u001b[0m\n\u001b[0;32m-> 2442\u001b[0;31m                 \u001b[0mline\u001b[0m \u001b[0;34m=\u001b[0m \u001b[0mf\u001b[0m\u001b[0;34m.\u001b[0m\u001b[0mreadline\u001b[0m\u001b[0;34m(\u001b[0m\u001b[0;34m)\u001b[0m\u001b[0;34m\u001b[0m\u001b[0;34m\u001b[0m\u001b[0m\n\u001b[0m\u001b[1;32m   2443\u001b[0m                 \u001b[0mpat\u001b[0m \u001b[0;34m=\u001b[0m \u001b[0mre\u001b[0m\u001b[0;34m.\u001b[0m\u001b[0mcompile\u001b[0m\u001b[0;34m(\u001b[0m\u001b[0msep\u001b[0m\u001b[0;34m)\u001b[0m\u001b[0;34m\u001b[0m\u001b[0;34m\u001b[0m\u001b[0m\n\u001b[1;32m   2444\u001b[0m \u001b[0;34m\u001b[0m\u001b[0m\n",
      "\u001b[0;32m/opt/anaconda3/lib/python3.8/codecs.py\u001b[0m in \u001b[0;36mdecode\u001b[0;34m(self, input, final)\u001b[0m\n\u001b[1;32m    320\u001b[0m         \u001b[0;31m# decode input (taking the buffer into account)\u001b[0m\u001b[0;34m\u001b[0m\u001b[0;34m\u001b[0m\u001b[0;34m\u001b[0m\u001b[0m\n\u001b[1;32m    321\u001b[0m         \u001b[0mdata\u001b[0m \u001b[0;34m=\u001b[0m \u001b[0mself\u001b[0m\u001b[0;34m.\u001b[0m\u001b[0mbuffer\u001b[0m \u001b[0;34m+\u001b[0m \u001b[0minput\u001b[0m\u001b[0;34m\u001b[0m\u001b[0;34m\u001b[0m\u001b[0m\n\u001b[0;32m--> 322\u001b[0;31m         \u001b[0;34m(\u001b[0m\u001b[0mresult\u001b[0m\u001b[0;34m,\u001b[0m \u001b[0mconsumed\u001b[0m\u001b[0;34m)\u001b[0m \u001b[0;34m=\u001b[0m \u001b[0mself\u001b[0m\u001b[0;34m.\u001b[0m\u001b[0m_buffer_decode\u001b[0m\u001b[0;34m(\u001b[0m\u001b[0mdata\u001b[0m\u001b[0;34m,\u001b[0m \u001b[0mself\u001b[0m\u001b[0;34m.\u001b[0m\u001b[0merrors\u001b[0m\u001b[0;34m,\u001b[0m \u001b[0mfinal\u001b[0m\u001b[0;34m)\u001b[0m\u001b[0;34m\u001b[0m\u001b[0;34m\u001b[0m\u001b[0m\n\u001b[0m\u001b[1;32m    323\u001b[0m         \u001b[0;31m# keep undecoded input until the next call\u001b[0m\u001b[0;34m\u001b[0m\u001b[0;34m\u001b[0m\u001b[0;34m\u001b[0m\u001b[0m\n\u001b[1;32m    324\u001b[0m         \u001b[0mself\u001b[0m\u001b[0;34m.\u001b[0m\u001b[0mbuffer\u001b[0m \u001b[0;34m=\u001b[0m \u001b[0mdata\u001b[0m\u001b[0;34m[\u001b[0m\u001b[0mconsumed\u001b[0m\u001b[0;34m:\u001b[0m\u001b[0;34m]\u001b[0m\u001b[0;34m\u001b[0m\u001b[0;34m\u001b[0m\u001b[0m\n",
      "\u001b[0;31mUnicodeDecodeError\u001b[0m: 'utf-8' codec can't decode byte 0xb0 in position 549: invalid start byte"
     ]
    }
   ],
   "source": [
    "freq_table = pd.read_csv('data/task_data_1hz.tar.gz', compression='gzip', header=0, sep=', ', quotechar='\"', error_bad_lines=False)"
   ]
  },
  {
   "cell_type": "code",
   "execution_count": 5,
   "id": "d8f4c64c",
   "metadata": {},
   "outputs": [
    {
     "ename": "ValueError",
     "evalue": "Invalid file path or buffer object type: <class 'NoneType'>",
     "output_type": "error",
     "traceback": [
      "\u001b[0;31m---------------------------------------------------------------------------\u001b[0m",
      "\u001b[0;31mValueError\u001b[0m                                Traceback (most recent call last)",
      "\u001b[0;32m/var/folders/r5/zstjbthd73gb2c3mz36cnvqr0000gp/T/ipykernel_17496/3967815673.py\u001b[0m in \u001b[0;36m<module>\u001b[0;34m\u001b[0m\n\u001b[0;32m----> 1\u001b[0;31m \u001b[0mfreq_table\u001b[0m \u001b[0;34m=\u001b[0m \u001b[0mutils\u001b[0m\u001b[0;34m.\u001b[0m\u001b[0mread_and_clean\u001b[0m\u001b[0;34m(\u001b[0m\u001b[0mpath\u001b[0m\u001b[0;34m=\u001b[0m\u001b[0;32mNone\u001b[0m\u001b[0;34m)\u001b[0m\u001b[0;34m\u001b[0m\u001b[0;34m\u001b[0m\u001b[0m\n\u001b[0m",
      "\u001b[0;32m~/dynamic_containment/dynamic_containment/utils.py\u001b[0m in \u001b[0;36mread_and_clean\u001b[0;34m(path)\u001b[0m\n\u001b[1;32m     79\u001b[0m \u001b[0;32mdef\u001b[0m \u001b[0mread_and_clean\u001b[0m\u001b[0;34m(\u001b[0m\u001b[0mpath\u001b[0m\u001b[0;34m=\u001b[0m\u001b[0;34m'data/task_data_1hz.tar.gz'\u001b[0m\u001b[0;34m)\u001b[0m\u001b[0;34m:\u001b[0m\u001b[0;34m\u001b[0m\u001b[0;34m\u001b[0m\u001b[0m\n\u001b[1;32m     80\u001b[0m \u001b[0;34m\u001b[0m\u001b[0m\n\u001b[0;32m---> 81\u001b[0;31m     \u001b[0mfreq_table\u001b[0m \u001b[0;34m=\u001b[0m \u001b[0mpd\u001b[0m\u001b[0;34m.\u001b[0m\u001b[0mread_csv\u001b[0m\u001b[0;34m(\u001b[0m\u001b[0mpath\u001b[0m\u001b[0;34m,\u001b[0m \u001b[0mcompression\u001b[0m\u001b[0;34m=\u001b[0m\u001b[0;34m'gzip'\u001b[0m\u001b[0;34m)\u001b[0m\u001b[0;34m\u001b[0m\u001b[0;34m\u001b[0m\u001b[0m\n\u001b[0m\u001b[1;32m     82\u001b[0m     freq_table = freq_table.rename(\n\u001b[1;32m     83\u001b[0m         {\n",
      "\u001b[0;32m~/my_env/lib/python3.8/site-packages/pandas/io/parsers.py\u001b[0m in \u001b[0;36mread_csv\u001b[0;34m(filepath_or_buffer, sep, delimiter, header, names, index_col, usecols, squeeze, prefix, mangle_dupe_cols, dtype, engine, converters, true_values, false_values, skipinitialspace, skiprows, skipfooter, nrows, na_values, keep_default_na, na_filter, verbose, skip_blank_lines, parse_dates, infer_datetime_format, keep_date_col, date_parser, dayfirst, cache_dates, iterator, chunksize, compression, thousands, decimal, lineterminator, quotechar, quoting, doublequote, escapechar, comment, encoding, dialect, error_bad_lines, warn_bad_lines, delim_whitespace, low_memory, memory_map, float_precision, storage_options)\u001b[0m\n\u001b[1;32m    603\u001b[0m     \u001b[0mkwds\u001b[0m\u001b[0;34m.\u001b[0m\u001b[0mupdate\u001b[0m\u001b[0;34m(\u001b[0m\u001b[0mkwds_defaults\u001b[0m\u001b[0;34m)\u001b[0m\u001b[0;34m\u001b[0m\u001b[0;34m\u001b[0m\u001b[0m\n\u001b[1;32m    604\u001b[0m \u001b[0;34m\u001b[0m\u001b[0m\n\u001b[0;32m--> 605\u001b[0;31m     \u001b[0;32mreturn\u001b[0m \u001b[0m_read\u001b[0m\u001b[0;34m(\u001b[0m\u001b[0mfilepath_or_buffer\u001b[0m\u001b[0;34m,\u001b[0m \u001b[0mkwds\u001b[0m\u001b[0;34m)\u001b[0m\u001b[0;34m\u001b[0m\u001b[0;34m\u001b[0m\u001b[0m\n\u001b[0m\u001b[1;32m    606\u001b[0m \u001b[0;34m\u001b[0m\u001b[0m\n\u001b[1;32m    607\u001b[0m \u001b[0;34m\u001b[0m\u001b[0m\n",
      "\u001b[0;32m~/my_env/lib/python3.8/site-packages/pandas/io/parsers.py\u001b[0m in \u001b[0;36m_read\u001b[0;34m(filepath_or_buffer, kwds)\u001b[0m\n\u001b[1;32m    455\u001b[0m \u001b[0;34m\u001b[0m\u001b[0m\n\u001b[1;32m    456\u001b[0m     \u001b[0;31m# Create the parser.\u001b[0m\u001b[0;34m\u001b[0m\u001b[0;34m\u001b[0m\u001b[0;34m\u001b[0m\u001b[0m\n\u001b[0;32m--> 457\u001b[0;31m     \u001b[0mparser\u001b[0m \u001b[0;34m=\u001b[0m \u001b[0mTextFileReader\u001b[0m\u001b[0;34m(\u001b[0m\u001b[0mfilepath_or_buffer\u001b[0m\u001b[0;34m,\u001b[0m \u001b[0;34m**\u001b[0m\u001b[0mkwds\u001b[0m\u001b[0;34m)\u001b[0m\u001b[0;34m\u001b[0m\u001b[0;34m\u001b[0m\u001b[0m\n\u001b[0m\u001b[1;32m    458\u001b[0m \u001b[0;34m\u001b[0m\u001b[0m\n\u001b[1;32m    459\u001b[0m     \u001b[0;32mif\u001b[0m \u001b[0mchunksize\u001b[0m \u001b[0;32mor\u001b[0m \u001b[0miterator\u001b[0m\u001b[0;34m:\u001b[0m\u001b[0;34m\u001b[0m\u001b[0;34m\u001b[0m\u001b[0m\n",
      "\u001b[0;32m~/my_env/lib/python3.8/site-packages/pandas/io/parsers.py\u001b[0m in \u001b[0;36m__init__\u001b[0;34m(self, f, engine, **kwds)\u001b[0m\n\u001b[1;32m    812\u001b[0m             \u001b[0mself\u001b[0m\u001b[0;34m.\u001b[0m\u001b[0moptions\u001b[0m\u001b[0;34m[\u001b[0m\u001b[0;34m\"has_index_names\"\u001b[0m\u001b[0;34m]\u001b[0m \u001b[0;34m=\u001b[0m \u001b[0mkwds\u001b[0m\u001b[0;34m[\u001b[0m\u001b[0;34m\"has_index_names\"\u001b[0m\u001b[0;34m]\u001b[0m\u001b[0;34m\u001b[0m\u001b[0;34m\u001b[0m\u001b[0m\n\u001b[1;32m    813\u001b[0m \u001b[0;34m\u001b[0m\u001b[0m\n\u001b[0;32m--> 814\u001b[0;31m         \u001b[0mself\u001b[0m\u001b[0;34m.\u001b[0m\u001b[0m_engine\u001b[0m \u001b[0;34m=\u001b[0m \u001b[0mself\u001b[0m\u001b[0;34m.\u001b[0m\u001b[0m_make_engine\u001b[0m\u001b[0;34m(\u001b[0m\u001b[0mself\u001b[0m\u001b[0;34m.\u001b[0m\u001b[0mengine\u001b[0m\u001b[0;34m)\u001b[0m\u001b[0;34m\u001b[0m\u001b[0;34m\u001b[0m\u001b[0m\n\u001b[0m\u001b[1;32m    815\u001b[0m \u001b[0;34m\u001b[0m\u001b[0m\n\u001b[1;32m    816\u001b[0m     \u001b[0;32mdef\u001b[0m \u001b[0mclose\u001b[0m\u001b[0;34m(\u001b[0m\u001b[0mself\u001b[0m\u001b[0;34m)\u001b[0m\u001b[0;34m:\u001b[0m\u001b[0;34m\u001b[0m\u001b[0;34m\u001b[0m\u001b[0m\n",
      "\u001b[0;32m~/my_env/lib/python3.8/site-packages/pandas/io/parsers.py\u001b[0m in \u001b[0;36m_make_engine\u001b[0;34m(self, engine)\u001b[0m\n\u001b[1;32m   1043\u001b[0m             )\n\u001b[1;32m   1044\u001b[0m         \u001b[0;31m# error: Too many arguments for \"ParserBase\"\u001b[0m\u001b[0;34m\u001b[0m\u001b[0;34m\u001b[0m\u001b[0;34m\u001b[0m\u001b[0m\n\u001b[0;32m-> 1045\u001b[0;31m         \u001b[0;32mreturn\u001b[0m \u001b[0mmapping\u001b[0m\u001b[0;34m[\u001b[0m\u001b[0mengine\u001b[0m\u001b[0;34m]\u001b[0m\u001b[0;34m(\u001b[0m\u001b[0mself\u001b[0m\u001b[0;34m.\u001b[0m\u001b[0mf\u001b[0m\u001b[0;34m,\u001b[0m \u001b[0;34m**\u001b[0m\u001b[0mself\u001b[0m\u001b[0;34m.\u001b[0m\u001b[0moptions\u001b[0m\u001b[0;34m)\u001b[0m  \u001b[0;31m# type: ignore[call-arg]\u001b[0m\u001b[0;34m\u001b[0m\u001b[0;34m\u001b[0m\u001b[0m\n\u001b[0m\u001b[1;32m   1046\u001b[0m \u001b[0;34m\u001b[0m\u001b[0m\n\u001b[1;32m   1047\u001b[0m     \u001b[0;32mdef\u001b[0m \u001b[0m_failover_to_python\u001b[0m\u001b[0;34m(\u001b[0m\u001b[0mself\u001b[0m\u001b[0;34m)\u001b[0m\u001b[0;34m:\u001b[0m\u001b[0;34m\u001b[0m\u001b[0;34m\u001b[0m\u001b[0m\n",
      "\u001b[0;32m~/my_env/lib/python3.8/site-packages/pandas/io/parsers.py\u001b[0m in \u001b[0;36m__init__\u001b[0;34m(self, src, **kwds)\u001b[0m\n\u001b[1;32m   1860\u001b[0m \u001b[0;34m\u001b[0m\u001b[0m\n\u001b[1;32m   1861\u001b[0m         \u001b[0;31m# open handles\u001b[0m\u001b[0;34m\u001b[0m\u001b[0;34m\u001b[0m\u001b[0;34m\u001b[0m\u001b[0m\n\u001b[0;32m-> 1862\u001b[0;31m         \u001b[0mself\u001b[0m\u001b[0;34m.\u001b[0m\u001b[0m_open_handles\u001b[0m\u001b[0;34m(\u001b[0m\u001b[0msrc\u001b[0m\u001b[0;34m,\u001b[0m \u001b[0mkwds\u001b[0m\u001b[0;34m)\u001b[0m\u001b[0;34m\u001b[0m\u001b[0;34m\u001b[0m\u001b[0m\n\u001b[0m\u001b[1;32m   1863\u001b[0m         \u001b[0;32massert\u001b[0m \u001b[0mself\u001b[0m\u001b[0;34m.\u001b[0m\u001b[0mhandles\u001b[0m \u001b[0;32mis\u001b[0m \u001b[0;32mnot\u001b[0m \u001b[0;32mNone\u001b[0m\u001b[0;34m\u001b[0m\u001b[0;34m\u001b[0m\u001b[0m\n\u001b[1;32m   1864\u001b[0m         \u001b[0;32mfor\u001b[0m \u001b[0mkey\u001b[0m \u001b[0;32min\u001b[0m \u001b[0;34m(\u001b[0m\u001b[0;34m\"storage_options\"\u001b[0m\u001b[0;34m,\u001b[0m \u001b[0;34m\"encoding\"\u001b[0m\u001b[0;34m,\u001b[0m \u001b[0;34m\"memory_map\"\u001b[0m\u001b[0;34m,\u001b[0m \u001b[0;34m\"compression\"\u001b[0m\u001b[0;34m)\u001b[0m\u001b[0;34m:\u001b[0m\u001b[0;34m\u001b[0m\u001b[0;34m\u001b[0m\u001b[0m\n",
      "\u001b[0;32m~/my_env/lib/python3.8/site-packages/pandas/io/parsers.py\u001b[0m in \u001b[0;36m_open_handles\u001b[0;34m(self, src, kwds)\u001b[0m\n\u001b[1;32m   1355\u001b[0m         \u001b[0mLet\u001b[0m \u001b[0mthe\u001b[0m \u001b[0mreaders\u001b[0m \u001b[0mopen\u001b[0m \u001b[0mIOHanldes\u001b[0m \u001b[0mafter\u001b[0m \u001b[0mthey\u001b[0m \u001b[0mare\u001b[0m \u001b[0mdone\u001b[0m \u001b[0;32mwith\u001b[0m \u001b[0mtheir\u001b[0m \u001b[0mpotential\u001b[0m \u001b[0mraises\u001b[0m\u001b[0;34m.\u001b[0m\u001b[0;34m\u001b[0m\u001b[0;34m\u001b[0m\u001b[0m\n\u001b[1;32m   1356\u001b[0m         \"\"\"\n\u001b[0;32m-> 1357\u001b[0;31m         self.handles = get_handle(\n\u001b[0m\u001b[1;32m   1358\u001b[0m             \u001b[0msrc\u001b[0m\u001b[0;34m,\u001b[0m\u001b[0;34m\u001b[0m\u001b[0;34m\u001b[0m\u001b[0m\n\u001b[1;32m   1359\u001b[0m             \u001b[0;34m\"r\"\u001b[0m\u001b[0;34m,\u001b[0m\u001b[0;34m\u001b[0m\u001b[0;34m\u001b[0m\u001b[0m\n",
      "\u001b[0;32m~/my_env/lib/python3.8/site-packages/pandas/io/common.py\u001b[0m in \u001b[0;36mget_handle\u001b[0;34m(path_or_buf, mode, encoding, compression, memory_map, is_text, errors, storage_options)\u001b[0m\n\u001b[1;32m    556\u001b[0m \u001b[0;34m\u001b[0m\u001b[0m\n\u001b[1;32m    557\u001b[0m     \u001b[0;31m# open URLs\u001b[0m\u001b[0;34m\u001b[0m\u001b[0;34m\u001b[0m\u001b[0;34m\u001b[0m\u001b[0m\n\u001b[0;32m--> 558\u001b[0;31m     ioargs = _get_filepath_or_buffer(\n\u001b[0m\u001b[1;32m    559\u001b[0m         \u001b[0mpath_or_buf\u001b[0m\u001b[0;34m,\u001b[0m\u001b[0;34m\u001b[0m\u001b[0;34m\u001b[0m\u001b[0m\n\u001b[1;32m    560\u001b[0m         \u001b[0mencoding\u001b[0m\u001b[0;34m=\u001b[0m\u001b[0mencoding\u001b[0m\u001b[0;34m,\u001b[0m\u001b[0;34m\u001b[0m\u001b[0;34m\u001b[0m\u001b[0m\n",
      "\u001b[0;32m~/my_env/lib/python3.8/site-packages/pandas/io/common.py\u001b[0m in \u001b[0;36m_get_filepath_or_buffer\u001b[0;34m(filepath_or_buffer, encoding, compression, mode, storage_options)\u001b[0m\n\u001b[1;32m    369\u001b[0m     \u001b[0;32mif\u001b[0m \u001b[0;32mnot\u001b[0m \u001b[0mis_file_like\u001b[0m\u001b[0;34m(\u001b[0m\u001b[0mfilepath_or_buffer\u001b[0m\u001b[0;34m)\u001b[0m\u001b[0;34m:\u001b[0m\u001b[0;34m\u001b[0m\u001b[0;34m\u001b[0m\u001b[0m\n\u001b[1;32m    370\u001b[0m         \u001b[0mmsg\u001b[0m \u001b[0;34m=\u001b[0m \u001b[0;34mf\"Invalid file path or buffer object type: {type(filepath_or_buffer)}\"\u001b[0m\u001b[0;34m\u001b[0m\u001b[0;34m\u001b[0m\u001b[0m\n\u001b[0;32m--> 371\u001b[0;31m         \u001b[0;32mraise\u001b[0m \u001b[0mValueError\u001b[0m\u001b[0;34m(\u001b[0m\u001b[0mmsg\u001b[0m\u001b[0;34m)\u001b[0m\u001b[0;34m\u001b[0m\u001b[0;34m\u001b[0m\u001b[0m\n\u001b[0m\u001b[1;32m    372\u001b[0m \u001b[0;34m\u001b[0m\u001b[0m\n\u001b[1;32m    373\u001b[0m     return IOArgs(\n",
      "\u001b[0;31mValueError\u001b[0m: Invalid file path or buffer object type: <class 'NoneType'>"
     ]
    }
   ],
   "source": [
    "freq_table = utils.read_and_clean(path=None)"
   ]
  },
  {
   "cell_type": "code",
   "execution_count": 113,
   "id": "b240caca",
   "metadata": {},
   "outputs": [],
   "source": [
    "service_power = 2"
   ]
  },
  {
   "cell_type": "code",
   "execution_count": 114,
   "id": "613f2a61",
   "metadata": {},
   "outputs": [],
   "source": [
    "max_missing = freq_table[freq_table.isnull().any(axis=1)].date.max()"
   ]
  },
  {
   "cell_type": "code",
   "execution_count": 115,
   "id": "e2b65d11",
   "metadata": {},
   "outputs": [],
   "source": [
    "start = max_missing.date() + timedelta(days=1)"
   ]
  },
  {
   "cell_type": "code",
   "execution_count": 116,
   "id": "31659f27",
   "metadata": {},
   "outputs": [],
   "source": [
    "end = freq_table.date.max().date()"
   ]
  },
  {
   "cell_type": "code",
   "execution_count": 117,
   "id": "3f093324",
   "metadata": {},
   "outputs": [],
   "source": [
    "cont_table = extract_time_block(start, end, freq_table)"
   ]
  },
  {
   "cell_type": "code",
   "execution_count": 118,
   "id": "13bc8041",
   "metadata": {},
   "outputs": [
    {
     "data": {
      "text/html": [
       "<div>\n",
       "<style scoped>\n",
       "    .dataframe tbody tr th:only-of-type {\n",
       "        vertical-align: middle;\n",
       "    }\n",
       "\n",
       "    .dataframe tbody tr th {\n",
       "        vertical-align: top;\n",
       "    }\n",
       "\n",
       "    .dataframe thead th {\n",
       "        text-align: right;\n",
       "    }\n",
       "</style>\n",
       "<table border=\"1\" class=\"dataframe\">\n",
       "  <thead>\n",
       "    <tr style=\"text-align: right;\">\n",
       "      <th></th>\n",
       "      <th>date</th>\n",
       "      <th>freq</th>\n",
       "      <th>delta_freq</th>\n",
       "      <th>battery_charge_percent_x</th>\n",
       "      <th>battery_charge_x</th>\n",
       "      <th>culm_charge_x</th>\n",
       "      <th>culm_charge_sq_x</th>\n",
       "      <th>var_charge_x</th>\n",
       "      <th>std_charge_x</th>\n",
       "      <th>filled_delta_freq</th>\n",
       "      <th>sim_delta_freq</th>\n",
       "      <th>battery_charge_percent_y</th>\n",
       "      <th>battery_charge_y</th>\n",
       "      <th>culm_charge_y</th>\n",
       "      <th>culm_charge_sq_y</th>\n",
       "      <th>var_charge_y</th>\n",
       "      <th>std_charge_y</th>\n",
       "    </tr>\n",
       "  </thead>\n",
       "  <tbody>\n",
       "    <tr>\n",
       "      <th>1728000</th>\n",
       "      <td>2021-09-21 00:00:00</td>\n",
       "      <td>50.053</td>\n",
       "      <td>0.053</td>\n",
       "      <td>-0.025531</td>\n",
       "      <td>-0.255312</td>\n",
       "      <td>-2.525602</td>\n",
       "      <td>904.292780</td>\n",
       "      <td>11.685384</td>\n",
       "      <td>3.418389</td>\n",
       "      <td>0.053</td>\n",
       "      <td>-0.102125</td>\n",
       "      <td>-0.025531</td>\n",
       "      <td>-0.255312</td>\n",
       "      <td>-2.525602</td>\n",
       "      <td>904.292780</td>\n",
       "      <td>11.685384</td>\n",
       "      <td>3.418389</td>\n",
       "    </tr>\n",
       "    <tr>\n",
       "      <th>1728001</th>\n",
       "      <td>2021-09-21 00:00:01</td>\n",
       "      <td>50.048</td>\n",
       "      <td>0.048</td>\n",
       "      <td>-0.025699</td>\n",
       "      <td>-0.256993</td>\n",
       "      <td>-2.525602</td>\n",
       "      <td>904.291697</td>\n",
       "      <td>11.685373</td>\n",
       "      <td>3.418387</td>\n",
       "      <td>0.048</td>\n",
       "      <td>-0.102797</td>\n",
       "      <td>-0.025699</td>\n",
       "      <td>-0.256993</td>\n",
       "      <td>-2.525602</td>\n",
       "      <td>904.291697</td>\n",
       "      <td>11.685373</td>\n",
       "      <td>3.418387</td>\n",
       "    </tr>\n",
       "    <tr>\n",
       "      <th>1728002</th>\n",
       "      <td>2021-09-21 00:00:02</td>\n",
       "      <td>50.042</td>\n",
       "      <td>0.042</td>\n",
       "      <td>-0.025867</td>\n",
       "      <td>-0.258674</td>\n",
       "      <td>-2.525602</td>\n",
       "      <td>904.290622</td>\n",
       "      <td>11.685362</td>\n",
       "      <td>3.418386</td>\n",
       "      <td>0.042</td>\n",
       "      <td>-0.103470</td>\n",
       "      <td>-0.025867</td>\n",
       "      <td>-0.258674</td>\n",
       "      <td>-2.525602</td>\n",
       "      <td>904.290622</td>\n",
       "      <td>11.685362</td>\n",
       "      <td>3.418386</td>\n",
       "    </tr>\n",
       "    <tr>\n",
       "      <th>1728003</th>\n",
       "      <td>2021-09-21 00:00:03</td>\n",
       "      <td>50.035</td>\n",
       "      <td>0.035</td>\n",
       "      <td>-0.026036</td>\n",
       "      <td>-0.260355</td>\n",
       "      <td>-2.525602</td>\n",
       "      <td>904.289731</td>\n",
       "      <td>11.685353</td>\n",
       "      <td>3.418385</td>\n",
       "      <td>0.035</td>\n",
       "      <td>-0.104142</td>\n",
       "      <td>-0.026036</td>\n",
       "      <td>-0.260355</td>\n",
       "      <td>-2.525602</td>\n",
       "      <td>904.289731</td>\n",
       "      <td>11.685353</td>\n",
       "      <td>3.418385</td>\n",
       "    </tr>\n",
       "    <tr>\n",
       "      <th>1728004</th>\n",
       "      <td>2021-09-21 00:00:04</td>\n",
       "      <td>50.030</td>\n",
       "      <td>0.030</td>\n",
       "      <td>-0.026204</td>\n",
       "      <td>-0.262036</td>\n",
       "      <td>-2.525602</td>\n",
       "      <td>904.288732</td>\n",
       "      <td>11.685343</td>\n",
       "      <td>3.418383</td>\n",
       "      <td>0.030</td>\n",
       "      <td>-0.104814</td>\n",
       "      <td>-0.026204</td>\n",
       "      <td>-0.262036</td>\n",
       "      <td>-2.525602</td>\n",
       "      <td>904.288732</td>\n",
       "      <td>11.685343</td>\n",
       "      <td>3.418383</td>\n",
       "    </tr>\n",
       "  </tbody>\n",
       "</table>\n",
       "</div>"
      ],
      "text/plain": [
       "                       date    freq  delta_freq  battery_charge_percent_x  \\\n",
       "1728000 2021-09-21 00:00:00  50.053       0.053                 -0.025531   \n",
       "1728001 2021-09-21 00:00:01  50.048       0.048                 -0.025699   \n",
       "1728002 2021-09-21 00:00:02  50.042       0.042                 -0.025867   \n",
       "1728003 2021-09-21 00:00:03  50.035       0.035                 -0.026036   \n",
       "1728004 2021-09-21 00:00:04  50.030       0.030                 -0.026204   \n",
       "\n",
       "         battery_charge_x  culm_charge_x  culm_charge_sq_x  var_charge_x  \\\n",
       "1728000         -0.255312      -2.525602        904.292780     11.685384   \n",
       "1728001         -0.256993      -2.525602        904.291697     11.685373   \n",
       "1728002         -0.258674      -2.525602        904.290622     11.685362   \n",
       "1728003         -0.260355      -2.525602        904.289731     11.685353   \n",
       "1728004         -0.262036      -2.525602        904.288732     11.685343   \n",
       "\n",
       "         std_charge_x  filled_delta_freq  sim_delta_freq  \\\n",
       "1728000      3.418389              0.053       -0.102125   \n",
       "1728001      3.418387              0.048       -0.102797   \n",
       "1728002      3.418386              0.042       -0.103470   \n",
       "1728003      3.418385              0.035       -0.104142   \n",
       "1728004      3.418383              0.030       -0.104814   \n",
       "\n",
       "         battery_charge_percent_y  battery_charge_y  culm_charge_y  \\\n",
       "1728000                 -0.025531         -0.255312      -2.525602   \n",
       "1728001                 -0.025699         -0.256993      -2.525602   \n",
       "1728002                 -0.025867         -0.258674      -2.525602   \n",
       "1728003                 -0.026036         -0.260355      -2.525602   \n",
       "1728004                 -0.026204         -0.262036      -2.525602   \n",
       "\n",
       "         culm_charge_sq_y  var_charge_y  std_charge_y  \n",
       "1728000        904.292780     11.685384      3.418389  \n",
       "1728001        904.291697     11.685373      3.418387  \n",
       "1728002        904.290622     11.685362      3.418386  \n",
       "1728003        904.289731     11.685353      3.418385  \n",
       "1728004        904.288732     11.685343      3.418383  "
      ]
     },
     "execution_count": 118,
     "metadata": {},
     "output_type": "execute_result"
    }
   ],
   "source": [
    "cont_table.head()"
   ]
  },
  {
   "cell_type": "code",
   "execution_count": 119,
   "id": "4a2354e8",
   "metadata": {},
   "outputs": [],
   "source": [
    "cont_table = add_charge_info(cont_table, service_power)"
   ]
  },
  {
   "cell_type": "code",
   "execution_count": 120,
   "id": "cc9cd216",
   "metadata": {
    "scrolled": true
   },
   "outputs": [
    {
     "data": {
      "text/plain": [
       "<matplotlib.lines.Line2D at 0x7fb646a729a0>"
      ]
     },
     "execution_count": 120,
     "metadata": {},
     "output_type": "execute_result"
    },
    {
     "data": {
      "image/png": "[encoded data removed]",
      "text/plain": [
       "<Figure size 432x288 with 1 Axes>"
      ]
     },
     "metadata": {
      "needs_background": "light"
     },
     "output_type": "display_data"
    }
   ],
   "source": [
    "cont_table.plot('date', 'culm_charge')\n",
    "plt.axhline(-4.0, color='red')"
   ]
  },
  {
   "cell_type": "code",
   "execution_count": 121,
   "id": "14845c3f",
   "metadata": {},
   "outputs": [],
   "source": [
    "process = simulate_delta_f(cont_table)"
   ]
  },
  {
   "cell_type": "code",
   "execution_count": 122,
   "id": "f09c5bad",
   "metadata": {},
   "outputs": [],
   "source": [
    "# draw a sample\n",
    "sample = process.getSample(1)"
   ]
  },
  {
   "cell_type": "code",
   "execution_count": 123,
   "id": "d86d1a53",
   "metadata": {},
   "outputs": [],
   "source": [
    "vals = [sample[0][i][0] for i in range(len(sample[0]))]"
   ]
  },
  {
   "cell_type": "code",
   "execution_count": 124,
   "id": "48ca1888",
   "metadata": {},
   "outputs": [],
   "source": [
    "vals = np.array(vals) * freq_table.delta_freq.std() / np.std(vals)"
   ]
  },
  {
   "cell_type": "code",
   "execution_count": 125,
   "id": "3741a8d0",
   "metadata": {},
   "outputs": [
    {
     "data": {
      "text/plain": [
       "0.059980953240247284"
      ]
     },
     "execution_count": 125,
     "metadata": {},
     "output_type": "execute_result"
    }
   ],
   "source": [
    "freq_table.delta_freq.std()"
   ]
  },
  {
   "cell_type": "code",
   "execution_count": 126,
   "id": "f28ca575",
   "metadata": {},
   "outputs": [
    {
     "data": {
      "text/plain": [
       "0.05998095324024727"
      ]
     },
     "execution_count": 126,
     "metadata": {},
     "output_type": "execute_result"
    }
   ],
   "source": [
    "vals.std()"
   ]
  },
  {
   "cell_type": "code",
   "execution_count": 36,
   "id": "2006dc00",
   "metadata": {},
   "outputs": [],
   "source": [
    "df_sim = pd.DataFrame()\n",
    "df_sim['date'] = range(len(vals))\n",
    "df_sim['delta_freq'] = vals"
   ]
  },
  {
   "cell_type": "code",
   "execution_count": 37,
   "id": "5cbd8474",
   "metadata": {},
   "outputs": [],
   "source": [
    "df_sim = add_charge_info(df_sim, service_power)"
   ]
  },
  {
   "cell_type": "code",
   "execution_count": 38,
   "id": "6de58e31",
   "metadata": {},
   "outputs": [
    {
     "data": {
      "text/plain": [
       "<matplotlib.lines.Line2D at 0x7fb9bb0312b0>"
      ]
     },
     "execution_count": 38,
     "metadata": {},
     "output_type": "execute_result"
    },
    {
     "data": {
      "image/png": "[encoded data removed]",
      "text/plain": [
       "<Figure size 432x288 with 1 Axes>"
      ]
     },
     "metadata": {
      "needs_background": "light"
     },
     "output_type": "display_data"
    }
   ],
   "source": [
    "df_sim.plot('date', 'culm_charge')\n",
    "plt.axhline(-4.0, color='red')"
   ]
  },
  {
   "cell_type": "code",
   "execution_count": 39,
   "id": "7f157449",
   "metadata": {},
   "outputs": [
    {
     "data": {
      "application/vnd.jupyter.widget-view+json": {
       "model_id": "9fe93d5166f74a21947738ac8e0c6a0f",
       "version_major": 2,
       "version_minor": 0
      },
      "text/plain": [
       "  0%|          | 0/181 [00:00<?, ?it/s]"
      ]
     },
     "metadata": {},
     "output_type": "display_data"
    }
   ],
   "source": [
    "real_space_cov = temporal_covariance(freq_table, max_sep=3601, step=20)"
   ]
  },
  {
   "cell_type": "code",
   "execution_count": 40,
   "id": "c0c4a364",
   "metadata": {},
   "outputs": [
    {
     "data": {
      "text/plain": [
       "[<matplotlib.lines.Line2D at 0x7fb9abb66790>]"
      ]
     },
     "execution_count": 40,
     "metadata": {},
     "output_type": "execute_result"
    },
    {
     "data": {
      "image/png": "[encoded data removed]",
      "text/plain": [
       "<Figure size 432x288 with 1 Axes>"
      ]
     },
     "metadata": {
      "needs_background": "light"
     },
     "output_type": "display_data"
    }
   ],
   "source": [
    "plt.plot(real_space_cov.keys(), real_space_cov.values())"
   ]
  },
  {
   "cell_type": "code",
   "execution_count": 41,
   "id": "73d1642c",
   "metadata": {},
   "outputs": [
    {
     "data": {
      "text/plain": [
       "702.3055555555555"
      ]
     },
     "execution_count": 41,
     "metadata": {},
     "output_type": "execute_result"
    }
   ],
   "source": [
    "len(freq_table)/3600"
   ]
  },
  {
   "cell_type": "code",
   "execution_count": 42,
   "id": "acfb31c3",
   "metadata": {},
   "outputs": [
    {
     "data": {
      "text/plain": [
       "181"
      ]
     },
     "execution_count": 42,
     "metadata": {},
     "output_type": "execute_result"
    }
   ],
   "source": [
    "len(real_space_cov)"
   ]
  },
  {
   "cell_type": "code",
   "execution_count": 43,
   "id": "63a53252",
   "metadata": {},
   "outputs": [],
   "source": [
    "time_step = 10\n",
    "num_samples = [100,703]"
   ]
  },
  {
   "cell_type": "code",
   "execution_count": 44,
   "id": "56d73e5c",
   "metadata": {},
   "outputs": [
    {
     "name": "stdout",
     "output_type": "stream",
     "text": [
      "creating covariance\n",
      "creating samples\n"
     ]
    }
   ],
   "source": [
    "samples = simulate_grf_using_cov(real_space_cov, max_time=3600, time_step=time_step, num_samples=num_samples)"
   ]
  },
  {
   "cell_type": "code",
   "execution_count": 45,
   "id": "9e0bc212",
   "metadata": {},
   "outputs": [],
   "source": [
    "samples = [s.flatten()[:len(freq_table.delta_freq)] for s in samples]"
   ]
  },
  {
   "cell_type": "code",
   "execution_count": 46,
   "id": "9cdd19e0",
   "metadata": {},
   "outputs": [],
   "source": [
    "new_samples = interp_samples(samples, max_time=len(freq_table), step_samples=10)"
   ]
  },
  {
   "cell_type": "code",
   "execution_count": 111,
   "id": "70830c51",
   "metadata": {
    "scrolled": true
   },
   "outputs": [
    {
     "data": {
      "text/plain": [
       "[<matplotlib.lines.Line2D at 0x7fb646a817c0>]"
      ]
     },
     "execution_count": 111,
     "metadata": {},
     "output_type": "execute_result"
    },
    {
     "data": {
      "image/png": "[encoded data removed]",
      "text/plain": [
       "<Figure size 432x288 with 1 Axes>"
      ]
     },
     "metadata": {
      "needs_background": "light"
     },
     "output_type": "display_data"
    }
   ],
   "source": [
    "plt.plot(new_samples[2][:7200])\n",
    "plt.plot(\n",
    "    freq_table.delta_freq.iloc[:7200]\n",
    ")"
   ]
  },
  {
   "cell_type": "code",
   "execution_count": 48,
   "id": "0ca47df6",
   "metadata": {},
   "outputs": [
    {
     "data": {
      "text/plain": [
       "16.583601890469236"
      ]
     },
     "execution_count": 48,
     "metadata": {},
     "output_type": "execute_result"
    }
   ],
   "source": [
    "np.mean(new_samples[3])/(np.std(new_samples[3])/np.sqrt(len(new_samples[3])))"
   ]
  },
  {
   "cell_type": "code",
   "execution_count": 49,
   "id": "827dc24b",
   "metadata": {},
   "outputs": [
    {
     "data": {
      "text/plain": [
       "22.020277679009435"
      ]
     },
     "execution_count": 49,
     "metadata": {},
     "output_type": "execute_result"
    }
   ],
   "source": [
    "np.mean(freq_table.delta_freq)/(np.std(freq_table.delta_freq)/np.sqrt(len(freq_table.dropna())))"
   ]
  },
  {
   "cell_type": "code",
   "execution_count": 50,
   "id": "828af4ea",
   "metadata": {},
   "outputs": [
    {
     "name": "stdout",
     "output_type": "stream",
     "text": [
      "0\n",
      "20\n",
      "40\n",
      "60\n",
      "80\n"
     ]
    }
   ],
   "source": [
    "reals = {}\n",
    "\n",
    "count = 0\n",
    "\n",
    "for s in new_samples:\n",
    "    \n",
    "    if not count % 20:\n",
    "        print(count)\n",
    "    \n",
    "    df = pd.DataFrame()\n",
    "    df[\"date\"] = range(len(s))\n",
    "    df[\"delta_freq\"] = s\n",
    "    df = add_charge_info(df, service_power)\n",
    "    \n",
    "    reals[count] = df\n",
    "    \n",
    "    count+=1\n",
    "    "
   ]
  },
  {
   "cell_type": "code",
   "execution_count": 62,
   "id": "f40e9519",
   "metadata": {},
   "outputs": [
    {
     "data": {
      "text/plain": [
       "16.583601890469236"
      ]
     },
     "execution_count": 62,
     "metadata": {},
     "output_type": "execute_result"
    }
   ],
   "source": [
    "np.mean(new_samples[3])/(np.std(new_samples[3])/np.sqrt(len(new_samples[3])))"
   ]
  },
  {
   "cell_type": "code",
   "execution_count": 63,
   "id": "aa5286fc",
   "metadata": {},
   "outputs": [
    {
     "data": {
      "text/plain": [
       "22.01360932903019"
      ]
     },
     "execution_count": 63,
     "metadata": {},
     "output_type": "execute_result"
    }
   ],
   "source": [
    "np.mean(freq_table.delta_freq)/(np.std(freq_table.delta_freq)/np.sqrt(len(freq_table.dropna())))"
   ]
  },
  {
   "cell_type": "code",
   "execution_count": 112,
   "id": "f16e5969",
   "metadata": {},
   "outputs": [
    {
     "data": {
      "text/plain": [
       "<matplotlib.lines.Line2D at 0x7fb5b67037f0>"
      ]
     },
     "execution_count": 112,
     "metadata": {},
     "output_type": "execute_result"
    },
    {
     "data": {
      "image/png": "[encoded data removed]",
      "text/plain": [
       "<Figure size 432x288 with 1 Axes>"
      ]
     },
     "metadata": {
      "needs_background": "light"
     },
     "output_type": "display_data"
    }
   ],
   "source": [
    "reals[2].plot('date', 'culm_charge')\n",
    "plt.axhline(-4.0, color='red')"
   ]
  },
  {
   "cell_type": "code",
   "execution_count": 70,
   "id": "a1e5275e",
   "metadata": {},
   "outputs": [],
   "source": [
    "df_mean = reals[0]\n",
    "df_mean['culm_charge'] = 0.0\n",
    "df_mean['culm_charge_sq'] = 0.0\n",
    "\n",
    "for s in reals:\n",
    "    \n",
    "    df_mean['culm_charge'] += reals[s]['culm_charge']\n",
    "    df_mean['culm_charge_sq'] += reals[s]['culm_charge']**2.0\n",
    "    \n"
   ]
  },
  {
   "cell_type": "code",
   "execution_count": 71,
   "id": "405b522a",
   "metadata": {},
   "outputs": [],
   "source": [
    "df_mean['culm_charge'] = df_mean['culm_charge'] / len(reals)"
   ]
  },
  {
   "cell_type": "code",
   "execution_count": 72,
   "id": "8d1c5fc1",
   "metadata": {},
   "outputs": [],
   "source": [
    "df_mean['var_charge'] = df_mean['culm_charge_sq'] / (len(reals) - 1) - df_mean['culm_charge'] * len(reals) / (len(reals) - 1)"
   ]
  },
  {
   "cell_type": "code",
   "execution_count": 73,
   "id": "e335ab89",
   "metadata": {},
   "outputs": [],
   "source": [
    "df_mean['std_charge'] = np.sqrt(df_mean['var_charge'])"
   ]
  },
  {
   "cell_type": "code",
   "execution_count": 74,
   "id": "cfa7357a",
   "metadata": {},
   "outputs": [],
   "source": [
    "freq_table = fill_in_spectra(freq_table, reals[0])"
   ]
  },
  {
   "cell_type": "code",
   "execution_count": 75,
   "id": "92bfa900",
   "metadata": {},
   "outputs": [
    {
     "data": {
      "text/plain": [
       "[<matplotlib.lines.Line2D at 0x7fb71c1964c0>]"
      ]
     },
     "execution_count": 75,
     "metadata": {},
     "output_type": "execute_result"
    },
    {
     "data": {
      "image/png": "[encoded data removed]",
      "text/plain": [
       "<Figure size 432x288 with 1 Axes>"
      ]
     },
     "metadata": {
      "needs_background": "light"
     },
     "output_type": "display_data"
    }
   ],
   "source": [
    "plt.plot(freq_table['date'], freq_table['filled_delta_freq'])\n",
    "plt.plot(freq_table['date'], freq_table['delta_freq'])"
   ]
  },
  {
   "cell_type": "code",
   "execution_count": 78,
   "id": "527ae731",
   "metadata": {},
   "outputs": [],
   "source": [
    "gauss_noise = np.random.normal(0.0, freq_table['filled_delta_freq'].std(), size=len(freq_table))"
   ]
  },
  {
   "cell_type": "code",
   "execution_count": 79,
   "id": "2f666d84",
   "metadata": {},
   "outputs": [],
   "source": [
    "df_white_noise = pd.DataFrame()\n",
    "df_white_noise['date'] = range(len(freq_table))\n",
    "df_white_noise['delta_freq'] = gauss_noise"
   ]
  },
  {
   "cell_type": "code",
   "execution_count": 80,
   "id": "326ee925",
   "metadata": {},
   "outputs": [],
   "source": [
    "df_white_noise = add_charge_info(df_white_noise, service_power)"
   ]
  },
  {
   "cell_type": "code",
   "execution_count": 81,
   "id": "2ce6a800",
   "metadata": {},
   "outputs": [
    {
     "data": {
      "text/plain": [
       "<matplotlib.lines.Line2D at 0x7fb704df36a0>"
      ]
     },
     "execution_count": 81,
     "metadata": {},
     "output_type": "execute_result"
    },
    {
     "data": {
      "image/png": "[encoded data removed]",
      "text/plain": [
       "<Figure size 432x288 with 1 Axes>"
      ]
     },
     "metadata": {
      "needs_background": "light"
     },
     "output_type": "display_data"
    }
   ],
   "source": [
    "df_white_noise.plot('date', 'culm_charge')\n",
    "plt.axhline(-4.0, color='red')"
   ]
  },
  {
   "cell_type": "code",
   "execution_count": 82,
   "id": "e80480f9",
   "metadata": {},
   "outputs": [],
   "source": [
    "df_filled = add_charge_info(\n",
    "    freq_table.drop('delta_freq', axis=1).rename({'filled_delta_freq': 'delta_freq'}, axis=1),\n",
    "    service_power\n",
    ")"
   ]
  },
  {
   "cell_type": "code",
   "execution_count": 109,
   "id": "d534298b",
   "metadata": {},
   "outputs": [
    {
     "data": {
      "text/plain": [
       "<matplotlib.lines.Line2D at 0x7fb89cd35070>"
      ]
     },
     "execution_count": 109,
     "metadata": {},
     "output_type": "execute_result"
    },
    {
     "data": {
      "image/png": "[encoded data removed]",
      "text/plain": [
       "<Figure size 432x288 with 1 Axes>"
      ]
     },
     "metadata": {
      "needs_background": "light"
     },
     "output_type": "display_data"
    }
   ],
   "source": [
    "plt.plot(df_white_noise.date, df_white_noise.culm_charge)\n",
    "plt.plot(df_white_noise.date, df_filled.culm_charge)\n",
    "plt.plot(df_white_noise.date, reals[2].culm_charge)\n",
    "plt.plot(df_white_noise.date, df_mean.culm_charge)\n",
    "plt.axhline(-4.0, color='red')"
   ]
  },
  {
   "cell_type": "code",
   "execution_count": 86,
   "id": "0c59ffc7",
   "metadata": {},
   "outputs": [],
   "source": [
    "c = calc_gaussian_slope(freq_table.delta_freq.std(), service_power)"
   ]
  },
  {
   "cell_type": "code",
   "execution_count": 87,
   "id": "c6d006bc",
   "metadata": {},
   "outputs": [],
   "source": [
    "theory_charge = c * np.arange(len(df_white_noise))"
   ]
  },
  {
   "cell_type": "code",
   "execution_count": 88,
   "id": "8d89685a",
   "metadata": {},
   "outputs": [
    {
     "data": {
      "text/plain": [
       "[<matplotlib.lines.Line2D at 0x7fb77c3b6490>]"
      ]
     },
     "execution_count": 88,
     "metadata": {},
     "output_type": "execute_result"
    },
    {
     "data": {
      "image/png": "[encoded data removed]",
      "text/plain": [
       "<Figure size 432x288 with 1 Axes>"
      ]
     },
     "metadata": {
      "needs_background": "light"
     },
     "output_type": "display_data"
    }
   ],
   "source": [
    "plt.plot(df_white_noise.date, df_white_noise.culm_charge)\n",
    "plt.plot(df_white_noise.date, theory_charge)"
   ]
  },
  {
   "cell_type": "code",
   "execution_count": 89,
   "id": "1a757cd6",
   "metadata": {},
   "outputs": [],
   "source": [
    "c_hist = calc_data_slope(df_filled, service_power, bins=34)"
   ]
  },
  {
   "cell_type": "code",
   "execution_count": 90,
   "id": "d8ecebb8",
   "metadata": {},
   "outputs": [],
   "source": [
    "theory_charge_hist = c_hist * np.arange(len(df_white_noise))"
   ]
  },
  {
   "cell_type": "code",
   "execution_count": 91,
   "id": "74e99ed7",
   "metadata": {},
   "outputs": [
    {
     "data": {
      "text/plain": [
       "[<matplotlib.lines.Line2D at 0x7fb75c2f3730>]"
      ]
     },
     "execution_count": 91,
     "metadata": {},
     "output_type": "execute_result"
    },
    {
     "data": {
      "image/png": "[encoded data removed]",
      "text/plain": [
       "<Figure size 432x288 with 1 Axes>"
      ]
     },
     "metadata": {
      "needs_background": "light"
     },
     "output_type": "display_data"
    }
   ],
   "source": [
    "plt.plot(df_white_noise.date, df_white_noise.culm_charge)\n",
    "plt.plot(df_white_noise.date, theory_charge_hist)"
   ]
  },
  {
   "cell_type": "code",
   "execution_count": 92,
   "id": "adeacb03",
   "metadata": {},
   "outputs": [
    {
     "data": {
      "image/png": "[encoded data removed]",
      "text/plain": [
       "<Figure size 432x288 with 1 Axes>"
      ]
     },
     "metadata": {
      "needs_background": "light"
     },
     "output_type": "display_data"
    }
   ],
   "source": [
    "hist = plt.hist(cont_table.delta_freq, bins=150, density=True)"
   ]
  },
  {
   "cell_type": "code",
   "execution_count": 93,
   "id": "ee7f8832",
   "metadata": {},
   "outputs": [],
   "source": [
    "bin_cents = 0.5*(hist[1][1:] + hist[1][:-1])"
   ]
  },
  {
   "cell_type": "code",
   "execution_count": 94,
   "id": "309d350a",
   "metadata": {},
   "outputs": [],
   "source": [
    "f = least_squares(hist_fit, x0 = [0.04, 0.04], args=(bin_cents, hist[0]))"
   ]
  },
  {
   "cell_type": "code",
   "execution_count": 95,
   "id": "e04f113e",
   "metadata": {},
   "outputs": [],
   "source": [
    "gauss1 = normal_dist(bin_cents, f.x[1], mu=-f.x[0])\n",
    "gauss2 = normal_dist(bin_cents, f.x[1], mu=f.x[0])"
   ]
  },
  {
   "cell_type": "code",
   "execution_count": 96,
   "id": "6ce28fa9",
   "metadata": {},
   "outputs": [],
   "source": [
    "gauss = np.where(bin_cents<0, gauss1, gauss2)\n",
    "gauss = gauss / np.trapz(gauss, bin_cents)"
   ]
  },
  {
   "cell_type": "code",
   "execution_count": 97,
   "id": "b3eebcb2",
   "metadata": {},
   "outputs": [
    {
     "data": {
      "text/plain": [
       "[<matplotlib.lines.Line2D at 0x7fb61496a430>]"
      ]
     },
     "execution_count": 97,
     "metadata": {},
     "output_type": "execute_result"
    },
    {
     "data": {
      "image/png": "[encoded data removed]",
      "text/plain": [
       "<Figure size 432x288 with 1 Axes>"
      ]
     },
     "metadata": {
      "needs_background": "light"
     },
     "output_type": "display_data"
    }
   ],
   "source": [
    "plt.plot(bin_cents, hist[0])\n",
    "plt.plot(bin_cents, gauss)"
   ]
  },
  {
   "cell_type": "code",
   "execution_count": 98,
   "id": "890264ff",
   "metadata": {},
   "outputs": [],
   "source": [
    "samples = generate_sample_df(gauss, bin_cents, num_samps=len(freq_table))"
   ]
  },
  {
   "cell_type": "code",
   "execution_count": 99,
   "id": "757da8dc",
   "metadata": {
    "scrolled": true
   },
   "outputs": [
    {
     "data": {
      "image/png": "[encoded data removed]",
      "text/plain": [
       "<Figure size 432x288 with 1 Axes>"
      ]
     },
     "metadata": {
      "needs_background": "light"
     },
     "output_type": "display_data"
    }
   ],
   "source": [
    "hist_samp = plt.hist(samples, density=True, bins=1000)\n"
   ]
  },
  {
   "cell_type": "code",
   "execution_count": 100,
   "id": "efdb97c8",
   "metadata": {},
   "outputs": [
    {
     "data": {
      "text/plain": [
       "3.1764371075468695e-05"
      ]
     },
     "execution_count": 100,
     "metadata": {},
     "output_type": "execute_result"
    }
   ],
   "source": [
    "samples.mean()"
   ]
  },
  {
   "cell_type": "code",
   "execution_count": 101,
   "id": "0aad6772",
   "metadata": {},
   "outputs": [
    {
     "data": {
      "text/plain": [
       "2.5526445847651874e-06"
      ]
     },
     "execution_count": 101,
     "metadata": {},
     "output_type": "execute_result"
    }
   ],
   "source": [
    "np.trapz(gauss * bin_cents, bin_cents)"
   ]
  },
  {
   "cell_type": "code",
   "execution_count": 102,
   "id": "f7eac039",
   "metadata": {},
   "outputs": [
    {
     "data": {
      "text/plain": [
       "0.05950496995446176"
      ]
     },
     "execution_count": 102,
     "metadata": {},
     "output_type": "execute_result"
    }
   ],
   "source": [
    "samples.std()"
   ]
  },
  {
   "cell_type": "code",
   "execution_count": 103,
   "id": "1c9989a8",
   "metadata": {},
   "outputs": [],
   "source": [
    "sample_df = pd.DataFrame()\n",
    "sample_df[\"date\"] = range(len(samples))\n",
    "sample_df[\"delta_freq\"] = samples"
   ]
  },
  {
   "cell_type": "code",
   "execution_count": 104,
   "id": "cda49ff5",
   "metadata": {},
   "outputs": [],
   "source": [
    "sample_df = add_charge_info(sample_df, service_power)"
   ]
  },
  {
   "cell_type": "code",
   "execution_count": 105,
   "id": "1a7f62f2",
   "metadata": {},
   "outputs": [
    {
     "data": {
      "text/plain": [
       "[<matplotlib.lines.Line2D at 0x7fb89cd14370>]"
      ]
     },
     "execution_count": 105,
     "metadata": {},
     "output_type": "execute_result"
    },
    {
     "data": {
      "image/png": "[encoded data removed]",
      "text/plain": [
       "<Figure size 432x288 with 1 Axes>"
      ]
     },
     "metadata": {
      "needs_background": "light"
     },
     "output_type": "display_data"
    }
   ],
   "source": [
    "plt.plot(df_white_noise.date, df_white_noise.culm_charge)\n",
    "plt.plot(sample_df.date, sample_df.culm_charge)"
   ]
  },
  {
   "cell_type": "code",
   "execution_count": 106,
   "id": "eb2ebfbb",
   "metadata": {},
   "outputs": [],
   "source": [
    "fitted_c = calc_fitted_slope(gauss, bin_cents, service_power)"
   ]
  },
  {
   "cell_type": "code",
   "execution_count": 107,
   "id": "f121d96e",
   "metadata": {},
   "outputs": [],
   "source": [
    "theory_charge_hist = fitted_c * np.arange(len(df_white_noise))"
   ]
  },
  {
   "cell_type": "code",
   "execution_count": 108,
   "id": "b7ffa98d",
   "metadata": {},
   "outputs": [
    {
     "data": {
      "text/plain": [
       "[<matplotlib.lines.Line2D at 0x7fb88541ca30>]"
      ]
     },
     "execution_count": 108,
     "metadata": {},
     "output_type": "execute_result"
    },
    {
     "data": {
      "image/png": "[encoded data removed]",
      "text/plain": [
       "<Figure size 432x288 with 1 Axes>"
      ]
     },
     "metadata": {
      "needs_background": "light"
     },
     "output_type": "display_data"
    }
   ],
   "source": [
    "plt.plot(df_white_noise.date, df_white_noise.culm_charge)\n",
    "plt.plot(sample_df.date, sample_df.culm_charge)\n",
    "plt.plot(df_white_noise.date, theory_charge_hist)"
   ]
  },
  {
   "cell_type": "code",
   "execution_count": null,
   "id": "179ab4ff",
   "metadata": {},
   "outputs": [],
   "source": [
    "E0 = 4\n",
    "(-4.0 - E0)/fitted_c"
   ]
  },
  {
   "cell_type": "code",
   "execution_count": null,
   "id": "dd275533",
   "metadata": {},
   "outputs": [],
   "source": [
    "(-4.0 - E0)/fitted_c/(3600.0 * 24.0)"
   ]
  },
  {
   "cell_type": "code",
   "execution_count": null,
   "id": "facc78d2",
   "metadata": {},
   "outputs": [],
   "source": []
  }
 ],
 "metadata": {
  "kernelspec": {
   "display_name": "my_env",
   "language": "python",
   "name": "my_env"
  },
  "language_info": {
   "codemirror_mode": {
    "name": "ipython",
    "version": 3
   },
   "file_extension": ".py",
   "mimetype": "text/x-python",
   "name": "python",
   "nbconvert_exporter": "python",
   "pygments_lexer": "ipython3",
   "version": "3.8.8"
  }
 },
 "nbformat": 4,
 "nbformat_minor": 5
}
