{
 "cells": [
  {
   "cell_type": "code",
   "execution_count": 1,
   "id": "0e911bdf",
   "metadata": {},
   "outputs": [],
   "source": [
    "import pandas as pd\n",
    "from datetime import timedelta, date\n",
    "import matplotlib.pyplot as plt\n",
    "import numpy as np\n",
    "from scipy import signal\n",
    "\n",
    "plt.rcParams['text.usetex'] = False"
   ]
  },
  {
   "cell_type": "code",
   "execution_count": 2,
   "id": "9d2e2341",
   "metadata": {},
   "outputs": [],
   "source": [
    "def extract_time_block(min_t, max_t, table):\n",
    "    \n",
    "    return table.query(\"date>=@min_t & date<=@max_t\")"
   ]
  },
  {
   "cell_type": "code",
   "execution_count": 125,
   "id": "94b70334",
   "metadata": {},
   "outputs": [],
   "source": [
    "def batter_power(delta_freq):\n",
    "    \n",
    "    charge_efficiency = 0.9\n",
    "    alpha_upper = 0.95/0.3\n",
    "    alpha_lower = 0.05/0.2\n",
    "    \n",
    "    ccharge_upper = 1 - 0.5 * alpha_upper\n",
    "    \n",
    "    if delta_freq >= 0.2:\n",
    "        battery_charge = ccharge_upper + alpha_upper * delta_freq\n",
    "    elif delta_freq <= -0.2:\n",
    "        battery_charge = -ccharge_upper + alpha_upper * delta_freq\n",
    "    elif delta_freq >= 0.015:\n",
    "        battery_charge = alpha_lower * delta_freq\n",
    "    elif delta_freq <= -0.015:\n",
    "        battery_charge = alpha_lower * delta_freq\n",
    "    else:\n",
    "        battery_charge = 0\n",
    "        \n",
    "    if abs(battery_charge)>1.0:\n",
    "        battery_charge = battery_charge / abs(battery_charge)\n",
    "        \n",
    "    if battery_charge > 0.0:\n",
    "        battery_charge = charge_efficiency * battery_charge\n",
    "        \n",
    "    return battery_charge\n",
    "        "
   ]
  },
  {
   "cell_type": "code",
   "execution_count": 12,
   "id": "16bb80a0",
   "metadata": {},
   "outputs": [],
   "source": [
    "freq_table = pd.read_csv(\"task_data_1hz.csv\")"
   ]
  },
  {
   "cell_type": "code",
   "execution_count": 13,
   "id": "715e51b0",
   "metadata": {},
   "outputs": [],
   "source": [
    "freq_table = freq_table.rename(\n",
    "    {\n",
    "        \"datetime\": \"date\",\n",
    "        \"f_hz\": \"freq\"\n",
    "    }, axis=1\n",
    ")"
   ]
  },
  {
   "cell_type": "code",
   "execution_count": 14,
   "id": "378b81e1",
   "metadata": {},
   "outputs": [],
   "source": [
    "freq_table[\"date\"] = freq_table[\"date\"].astype(\"datetime64[ns]\")"
   ]
  },
  {
   "cell_type": "code",
   "execution_count": 15,
   "id": "41872bb7",
   "metadata": {},
   "outputs": [],
   "source": [
    "freq_table[\"delta_freq\"] = freq_table[\"freq\"] - 50\n",
    "\n",
    "freq_table[\"time\"] = freq_table[\"date\"].dt.time"
   ]
  },
  {
   "cell_type": "code",
   "execution_count": 16,
   "id": "6c179e82",
   "metadata": {},
   "outputs": [
    {
     "data": {
      "text/html": [
       "<div>\n",
       "<style scoped>\n",
       "    .dataframe tbody tr th:only-of-type {\n",
       "        vertical-align: middle;\n",
       "    }\n",
       "\n",
       "    .dataframe tbody tr th {\n",
       "        vertical-align: top;\n",
       "    }\n",
       "\n",
       "    .dataframe thead th {\n",
       "        text-align: right;\n",
       "    }\n",
       "</style>\n",
       "<table border=\"1\" class=\"dataframe\">\n",
       "  <thead>\n",
       "    <tr style=\"text-align: right;\">\n",
       "      <th></th>\n",
       "      <th>date</th>\n",
       "      <th>freq</th>\n",
       "      <th>delta_freq</th>\n",
       "      <th>time</th>\n",
       "    </tr>\n",
       "  </thead>\n",
       "  <tbody>\n",
       "    <tr>\n",
       "      <th>0</th>\n",
       "      <td>2021-09-01 00:00:00</td>\n",
       "      <td>49.922</td>\n",
       "      <td>-0.078</td>\n",
       "      <td>00:00:00</td>\n",
       "    </tr>\n",
       "    <tr>\n",
       "      <th>1</th>\n",
       "      <td>2021-09-01 00:00:01</td>\n",
       "      <td>49.917</td>\n",
       "      <td>-0.083</td>\n",
       "      <td>00:00:01</td>\n",
       "    </tr>\n",
       "    <tr>\n",
       "      <th>2</th>\n",
       "      <td>2021-09-01 00:00:02</td>\n",
       "      <td>49.909</td>\n",
       "      <td>-0.091</td>\n",
       "      <td>00:00:02</td>\n",
       "    </tr>\n",
       "    <tr>\n",
       "      <th>3</th>\n",
       "      <td>2021-09-01 00:00:03</td>\n",
       "      <td>49.903</td>\n",
       "      <td>-0.097</td>\n",
       "      <td>00:00:03</td>\n",
       "    </tr>\n",
       "    <tr>\n",
       "      <th>4</th>\n",
       "      <td>2021-09-01 00:00:04</td>\n",
       "      <td>49.899</td>\n",
       "      <td>-0.101</td>\n",
       "      <td>00:00:04</td>\n",
       "    </tr>\n",
       "    <tr>\n",
       "      <th>...</th>\n",
       "      <td>...</td>\n",
       "      <td>...</td>\n",
       "      <td>...</td>\n",
       "      <td>...</td>\n",
       "    </tr>\n",
       "    <tr>\n",
       "      <th>2528295</th>\n",
       "      <td>2021-09-30 06:18:15</td>\n",
       "      <td>50.089</td>\n",
       "      <td>0.089</td>\n",
       "      <td>06:18:15</td>\n",
       "    </tr>\n",
       "    <tr>\n",
       "      <th>2528296</th>\n",
       "      <td>2021-09-30 06:18:16</td>\n",
       "      <td>50.091</td>\n",
       "      <td>0.091</td>\n",
       "      <td>06:18:16</td>\n",
       "    </tr>\n",
       "    <tr>\n",
       "      <th>2528297</th>\n",
       "      <td>2021-09-30 06:18:17</td>\n",
       "      <td>50.093</td>\n",
       "      <td>0.093</td>\n",
       "      <td>06:18:17</td>\n",
       "    </tr>\n",
       "    <tr>\n",
       "      <th>2528298</th>\n",
       "      <td>2021-09-30 06:18:18</td>\n",
       "      <td>50.095</td>\n",
       "      <td>0.095</td>\n",
       "      <td>06:18:18</td>\n",
       "    </tr>\n",
       "    <tr>\n",
       "      <th>2528299</th>\n",
       "      <td>2021-09-30 06:18:19</td>\n",
       "      <td>50.096</td>\n",
       "      <td>0.096</td>\n",
       "      <td>06:18:19</td>\n",
       "    </tr>\n",
       "  </tbody>\n",
       "</table>\n",
       "<p>2528300 rows × 4 columns</p>\n",
       "</div>"
      ],
      "text/plain": [
       "                       date    freq  delta_freq      time\n",
       "0       2021-09-01 00:00:00  49.922      -0.078  00:00:00\n",
       "1       2021-09-01 00:00:01  49.917      -0.083  00:00:01\n",
       "2       2021-09-01 00:00:02  49.909      -0.091  00:00:02\n",
       "3       2021-09-01 00:00:03  49.903      -0.097  00:00:03\n",
       "4       2021-09-01 00:00:04  49.899      -0.101  00:00:04\n",
       "...                     ...     ...         ...       ...\n",
       "2528295 2021-09-30 06:18:15  50.089       0.089  06:18:15\n",
       "2528296 2021-09-30 06:18:16  50.091       0.091  06:18:16\n",
       "2528297 2021-09-30 06:18:17  50.093       0.093  06:18:17\n",
       "2528298 2021-09-30 06:18:18  50.095       0.095  06:18:18\n",
       "2528299 2021-09-30 06:18:19  50.096       0.096  06:18:19\n",
       "\n",
       "[2528300 rows x 4 columns]"
      ]
     },
     "execution_count": 16,
     "metadata": {},
     "output_type": "execute_result"
    }
   ],
   "source": [
    "freq_table"
   ]
  },
  {
   "cell_type": "code",
   "execution_count": 17,
   "id": "3de0dbce",
   "metadata": {},
   "outputs": [],
   "source": [
    "df = np.linspace(-0.6, 0.6, num=1000)"
   ]
  },
  {
   "cell_type": "code",
   "execution_count": 19,
   "id": "4fedbe89",
   "metadata": {},
   "outputs": [
    {
     "data": {
      "text/plain": [
       "Text(0, 0.5, 'Charge %')"
      ]
     },
     "execution_count": 19,
     "metadata": {},
     "output_type": "execute_result"
    },
    {
     "data": {
      "image/png": "[encoded data removed]",
      "text/plain": [
       "<Figure size 432x288 with 1 Axes>"
      ]
     },
     "metadata": {
      "needs_background": "light"
     },
     "output_type": "display_data"
    }
   ],
   "source": [
    "plt.plot(df, [100*batter_power(dfi) for dfi in df])\n",
    "plt.xlabel(\"$\\delta f$\")\n",
    "plt.ylabel(\"Charge %\")"
   ]
  },
  {
   "cell_type": "code",
   "execution_count": 20,
   "id": "f3e4a273",
   "metadata": {},
   "outputs": [],
   "source": [
    "freq_table[\"battery_charge\"] = [batter_power(dfi) for dfi in freq_table[\"delta_freq\"]]"
   ]
  },
  {
   "cell_type": "code",
   "execution_count": 21,
   "id": "61ac31d1",
   "metadata": {},
   "outputs": [
    {
     "data": {
      "text/plain": [
       "Timestamp('2021-09-30 06:18:19')"
      ]
     },
     "execution_count": 21,
     "metadata": {},
     "output_type": "execute_result"
    }
   ],
   "source": [
    "freq_table['date'].max()"
   ]
  },
  {
   "cell_type": "code",
   "execution_count": 22,
   "id": "ac31074e",
   "metadata": {},
   "outputs": [
    {
     "data": {
      "text/html": [
       "<div>\n",
       "<style scoped>\n",
       "    .dataframe tbody tr th:only-of-type {\n",
       "        vertical-align: middle;\n",
       "    }\n",
       "\n",
       "    .dataframe tbody tr th {\n",
       "        vertical-align: top;\n",
       "    }\n",
       "\n",
       "    .dataframe thead th {\n",
       "        text-align: right;\n",
       "    }\n",
       "</style>\n",
       "<table border=\"1\" class=\"dataframe\">\n",
       "  <thead>\n",
       "    <tr style=\"text-align: right;\">\n",
       "      <th></th>\n",
       "      <th>date</th>\n",
       "      <th>freq</th>\n",
       "      <th>delta_freq</th>\n",
       "      <th>time</th>\n",
       "      <th>battery_charge</th>\n",
       "    </tr>\n",
       "  </thead>\n",
       "  <tbody>\n",
       "    <tr>\n",
       "      <th>0</th>\n",
       "      <td>2021-09-01 00:00:00</td>\n",
       "      <td>49.922</td>\n",
       "      <td>-0.078</td>\n",
       "      <td>00:00:00</td>\n",
       "      <td>-0.01950</td>\n",
       "    </tr>\n",
       "    <tr>\n",
       "      <th>1</th>\n",
       "      <td>2021-09-01 00:00:01</td>\n",
       "      <td>49.917</td>\n",
       "      <td>-0.083</td>\n",
       "      <td>00:00:01</td>\n",
       "      <td>-0.02075</td>\n",
       "    </tr>\n",
       "    <tr>\n",
       "      <th>2</th>\n",
       "      <td>2021-09-01 00:00:02</td>\n",
       "      <td>49.909</td>\n",
       "      <td>-0.091</td>\n",
       "      <td>00:00:02</td>\n",
       "      <td>-0.02275</td>\n",
       "    </tr>\n",
       "    <tr>\n",
       "      <th>3</th>\n",
       "      <td>2021-09-01 00:00:03</td>\n",
       "      <td>49.903</td>\n",
       "      <td>-0.097</td>\n",
       "      <td>00:00:03</td>\n",
       "      <td>-0.02425</td>\n",
       "    </tr>\n",
       "    <tr>\n",
       "      <th>4</th>\n",
       "      <td>2021-09-01 00:00:04</td>\n",
       "      <td>49.899</td>\n",
       "      <td>-0.101</td>\n",
       "      <td>00:00:04</td>\n",
       "      <td>-0.02525</td>\n",
       "    </tr>\n",
       "  </tbody>\n",
       "</table>\n",
       "</div>"
      ],
      "text/plain": [
       "                 date    freq  delta_freq      time  battery_charge\n",
       "0 2021-09-01 00:00:00  49.922      -0.078  00:00:00        -0.01950\n",
       "1 2021-09-01 00:00:01  49.917      -0.083  00:00:01        -0.02075\n",
       "2 2021-09-01 00:00:02  49.909      -0.091  00:00:02        -0.02275\n",
       "3 2021-09-01 00:00:03  49.903      -0.097  00:00:03        -0.02425\n",
       "4 2021-09-01 00:00:04  49.899      -0.101  00:00:04        -0.02525"
      ]
     },
     "execution_count": 22,
     "metadata": {},
     "output_type": "execute_result"
    }
   ],
   "source": [
    "freq_table.head()"
   ]
  },
  {
   "cell_type": "code",
   "execution_count": 23,
   "id": "da7326a0",
   "metadata": {},
   "outputs": [
    {
     "data": {
      "text/plain": [
       "array([[<AxesSubplot:title={'center':'freq'}>]], dtype=object)"
      ]
     },
     "execution_count": 23,
     "metadata": {},
     "output_type": "execute_result"
    },
    {
     "data": {
      "image/png": "[encoded data removed]",
      "text/plain": [
       "<Figure size 432x288 with 1 Axes>"
      ]
     },
     "metadata": {
      "needs_background": "light"
     },
     "output_type": "display_data"
    }
   ],
   "source": [
    "freq_table.hist('freq', bins=100)"
   ]
  },
  {
   "cell_type": "code",
   "execution_count": 24,
   "id": "46844a86",
   "metadata": {},
   "outputs": [
    {
     "data": {
      "text/plain": [
       "<AxesSubplot:xlabel='date'>"
      ]
     },
     "execution_count": 24,
     "metadata": {},
     "output_type": "execute_result"
    },
    {
     "data": {
      "image/png": "[encoded data removed]",
      "text/plain": [
       "<Figure size 432x288 with 1 Axes>"
      ]
     },
     "metadata": {
      "needs_background": "light"
     },
     "output_type": "display_data"
    }
   ],
   "source": [
    "freq_table.plot('date', 'freq')"
   ]
  },
  {
   "cell_type": "code",
   "execution_count": 25,
   "id": "cb891683",
   "metadata": {},
   "outputs": [
    {
     "data": {
      "text/html": [
       "<div>\n",
       "<style scoped>\n",
       "    .dataframe tbody tr th:only-of-type {\n",
       "        vertical-align: middle;\n",
       "    }\n",
       "\n",
       "    .dataframe tbody tr th {\n",
       "        vertical-align: top;\n",
       "    }\n",
       "\n",
       "    .dataframe thead th {\n",
       "        text-align: right;\n",
       "    }\n",
       "</style>\n",
       "<table border=\"1\" class=\"dataframe\">\n",
       "  <thead>\n",
       "    <tr style=\"text-align: right;\">\n",
       "      <th></th>\n",
       "      <th>date</th>\n",
       "      <th>freq</th>\n",
       "      <th>delta_freq</th>\n",
       "      <th>time</th>\n",
       "      <th>battery_charge</th>\n",
       "    </tr>\n",
       "  </thead>\n",
       "  <tbody>\n",
       "    <tr>\n",
       "      <th>898721</th>\n",
       "      <td>2021-09-11 09:38:41</td>\n",
       "      <td>50.747</td>\n",
       "      <td>0.747</td>\n",
       "      <td>09:38:41</td>\n",
       "      <td>0.9</td>\n",
       "    </tr>\n",
       "    <tr>\n",
       "      <th>898722</th>\n",
       "      <td>2021-09-11 09:38:42</td>\n",
       "      <td>50.765</td>\n",
       "      <td>0.765</td>\n",
       "      <td>09:38:42</td>\n",
       "      <td>0.9</td>\n",
       "    </tr>\n",
       "    <tr>\n",
       "      <th>900129</th>\n",
       "      <td>2021-09-11 10:02:09</td>\n",
       "      <td>51.286</td>\n",
       "      <td>1.286</td>\n",
       "      <td>10:02:09</td>\n",
       "      <td>0.9</td>\n",
       "    </tr>\n",
       "  </tbody>\n",
       "</table>\n",
       "</div>"
      ],
      "text/plain": [
       "                      date    freq  delta_freq      time  battery_charge\n",
       "898721 2021-09-11 09:38:41  50.747       0.747  09:38:41             0.9\n",
       "898722 2021-09-11 09:38:42  50.765       0.765  09:38:42             0.9\n",
       "900129 2021-09-11 10:02:09  51.286       1.286  10:02:09             0.9"
      ]
     },
     "execution_count": 25,
     "metadata": {},
     "output_type": "execute_result"
    }
   ],
   "source": [
    "freq_table.query(\"freq>50.5\")"
   ]
  },
  {
   "cell_type": "code",
   "execution_count": 26,
   "id": "ad2a368a",
   "metadata": {},
   "outputs": [
    {
     "data": {
      "text/plain": [
       "2528300"
      ]
     },
     "execution_count": 26,
     "metadata": {},
     "output_type": "execute_result"
    }
   ],
   "source": [
    "len(freq_table)"
   ]
  },
  {
   "cell_type": "code",
   "execution_count": 27,
   "id": "92f54aca",
   "metadata": {},
   "outputs": [
    {
     "data": {
      "text/plain": [
       "1707500"
      ]
     },
     "execution_count": 27,
     "metadata": {},
     "output_type": "execute_result"
    }
   ],
   "source": [
    "len(freq_table.dropna())"
   ]
  },
  {
   "cell_type": "code",
   "execution_count": 28,
   "id": "8e60f59b",
   "metadata": {},
   "outputs": [
    {
     "data": {
      "text/plain": [
       "Timestamp('2021-09-01 00:00:00')"
      ]
     },
     "execution_count": 28,
     "metadata": {},
     "output_type": "execute_result"
    }
   ],
   "source": [
    "freq_table.date.min()"
   ]
  },
  {
   "cell_type": "code",
   "execution_count": 29,
   "id": "85b790a3",
   "metadata": {},
   "outputs": [
    {
     "data": {
      "text/plain": [
       "Timestamp('2021-09-30 06:18:19')"
      ]
     },
     "execution_count": 29,
     "metadata": {},
     "output_type": "execute_result"
    }
   ],
   "source": [
    "freq_table.date.max()"
   ]
  },
  {
   "cell_type": "code",
   "execution_count": 30,
   "id": "f2059e39",
   "metadata": {},
   "outputs": [],
   "source": [
    "max_missing = freq_table[freq_table.isnull().any(axis=1)].date.max()"
   ]
  },
  {
   "cell_type": "code",
   "execution_count": 31,
   "id": "671d55e8",
   "metadata": {},
   "outputs": [
    {
     "data": {
      "text/plain": [
       "Timestamp('2021-09-20 21:59:59')"
      ]
     },
     "execution_count": 31,
     "metadata": {},
     "output_type": "execute_result"
    }
   ],
   "source": [
    "max_missing"
   ]
  },
  {
   "cell_type": "code",
   "execution_count": 32,
   "id": "93db9809",
   "metadata": {},
   "outputs": [],
   "source": [
    "start = max_missing.date() + timedelta(days=1)"
   ]
  },
  {
   "cell_type": "code",
   "execution_count": 33,
   "id": "7d6794f3",
   "metadata": {},
   "outputs": [],
   "source": [
    "end = freq_table.date.max().date()"
   ]
  },
  {
   "cell_type": "code",
   "execution_count": 34,
   "id": "56a8b819",
   "metadata": {},
   "outputs": [],
   "source": [
    "cont_table = extract_time_block(start, end, freq_table)"
   ]
  },
  {
   "cell_type": "code",
   "execution_count": 35,
   "id": "0cb6ca7e",
   "metadata": {},
   "outputs": [
    {
     "data": {
      "text/plain": [
       "Timestamp('2021-09-21 00:00:00')"
      ]
     },
     "execution_count": 35,
     "metadata": {},
     "output_type": "execute_result"
    }
   ],
   "source": [
    "cont_table.date.min()"
   ]
  },
  {
   "cell_type": "code",
   "execution_count": 36,
   "id": "cbefd1db",
   "metadata": {},
   "outputs": [
    {
     "data": {
      "text/plain": [
       "Timestamp('2021-09-30 00:00:00')"
      ]
     },
     "execution_count": 36,
     "metadata": {},
     "output_type": "execute_result"
    }
   ],
   "source": [
    "cont_table.date.max()"
   ]
  },
  {
   "cell_type": "code",
   "execution_count": 37,
   "id": "5b289e89",
   "metadata": {},
   "outputs": [
    {
     "data": {
      "text/plain": [
       "777601"
      ]
     },
     "execution_count": 37,
     "metadata": {},
     "output_type": "execute_result"
    }
   ],
   "source": [
    "len(cont_table)"
   ]
  },
  {
   "cell_type": "code",
   "execution_count": 38,
   "id": "794c5781",
   "metadata": {},
   "outputs": [
    {
     "data": {
      "text/plain": [
       "array([[<AxesSubplot:title={'center':'freq'}>]], dtype=object)"
      ]
     },
     "execution_count": 38,
     "metadata": {},
     "output_type": "execute_result"
    },
    {
     "data": {
      "image/png": "[encoded data removed]",
      "text/plain": [
       "<Figure size 432x288 with 1 Axes>"
      ]
     },
     "metadata": {
      "needs_background": "light"
     },
     "output_type": "display_data"
    }
   ],
   "source": [
    "cont_table.hist('freq', bins=100)"
   ]
  },
  {
   "cell_type": "code",
   "execution_count": 39,
   "id": "c1649016",
   "metadata": {},
   "outputs": [
    {
     "data": {
      "text/plain": [
       "<AxesSubplot:xlabel='time'>"
      ]
     },
     "execution_count": 39,
     "metadata": {},
     "output_type": "execute_result"
    },
    {
     "data": {
      "image/png": "[encoded data removed]",
      "text/plain": [
       "<Figure size 432x288 with 1 Axes>"
      ]
     },
     "metadata": {
      "needs_background": "light"
     },
     "output_type": "display_data"
    }
   ],
   "source": [
    "cont_table.plot('time', 'delta_freq')"
   ]
  },
  {
   "cell_type": "code",
   "execution_count": 40,
   "id": "e2a7d58a",
   "metadata": {},
   "outputs": [],
   "source": [
    "fft = np.abs(np.fft.rfft(cont_table.delta_freq))**2.0"
   ]
  },
  {
   "cell_type": "code",
   "execution_count": 45,
   "id": "ec54c75a",
   "metadata": {},
   "outputs": [],
   "source": [
    "x, f2 = signal.welch(cont_table.delta_freq, fs=1)"
   ]
  },
  {
   "cell_type": "code",
   "execution_count": 47,
   "id": "5f494b0b",
   "metadata": {},
   "outputs": [
    {
     "data": {
      "text/plain": [
       "[<matplotlib.lines.Line2D at 0x7f99c7cb6a90>]"
      ]
     },
     "execution_count": 47,
     "metadata": {},
     "output_type": "execute_result"
    },
    {
     "data": {
      "image/png": "[encoded data removed]",
      "text/plain": [
       "<Figure size 432x288 with 1 Axes>"
      ]
     },
     "metadata": {
      "needs_background": "light"
     },
     "output_type": "display_data"
    }
   ],
   "source": [
    "plt.plot(f2)"
   ]
  },
  {
   "cell_type": "code",
   "execution_count": 172,
   "id": "b69c96d6",
   "metadata": {},
   "outputs": [],
   "source": [
    "x, f2_orig = signal.welch(freq_table.delta_freq.fillna(0), fs=1)"
   ]
  },
  {
   "cell_type": "code",
   "execution_count": 173,
   "id": "46c12c6b",
   "metadata": {},
   "outputs": [],
   "source": [
    "mv = freq_table.delta_freq.mean()"
   ]
  },
  {
   "cell_type": "code",
   "execution_count": 174,
   "id": "c4019dfe",
   "metadata": {},
   "outputs": [],
   "source": [
    "stdv = freq_table.delta_freq.std()"
   ]
  },
  {
   "cell_type": "code",
   "execution_count": 175,
   "id": "562fdede",
   "metadata": {},
   "outputs": [
    {
     "data": {
      "text/plain": [
       "14.860065135433008"
      ]
     },
     "execution_count": 175,
     "metadata": {},
     "output_type": "execute_result"
    }
   ],
   "source": [
    "mv / (stdv/np.sqrt(len(cont_table)))"
   ]
  },
  {
   "cell_type": "code",
   "execution_count": 176,
   "id": "794b833a",
   "metadata": {},
   "outputs": [
    {
     "data": {
      "text/plain": [
       "[<matplotlib.lines.Line2D at 0x7f9952614d90>]"
      ]
     },
     "execution_count": 176,
     "metadata": {},
     "output_type": "execute_result"
    },
    {
     "data": {
      "image/png": "[encoded data removed]",
      "text/plain": [
       "<Figure size 432x288 with 1 Axes>"
      ]
     },
     "metadata": {
      "needs_background": "light"
     },
     "output_type": "display_data"
    }
   ],
   "source": [
    "plt.plot(freq_table.delta_freq[:20000])"
   ]
  },
  {
   "cell_type": "code",
   "execution_count": 177,
   "id": "8adada1e",
   "metadata": {},
   "outputs": [],
   "source": [
    "freq_table['noise'] = np.random.normal(0.0, stdv*0.1, len(freq_table)) "
   ]
  },
  {
   "cell_type": "code",
   "execution_count": 178,
   "id": "030eb091",
   "metadata": {},
   "outputs": [],
   "source": [
    "freq_table['ran_fill'] = freq_table.delta_freq.fillna(freq_table['noise'])"
   ]
  },
  {
   "cell_type": "code",
   "execution_count": 179,
   "id": "5ad8618d",
   "metadata": {},
   "outputs": [
    {
     "data": {
      "text/plain": [
       "[<matplotlib.lines.Line2D at 0x7f9950b06610>]"
      ]
     },
     "execution_count": 179,
     "metadata": {},
     "output_type": "execute_result"
    },
    {
     "data": {
      "image/png": "[encoded data removed]",
      "text/plain": [
       "<Figure size 432x288 with 1 Axes>"
      ]
     },
     "metadata": {
      "needs_background": "light"
     },
     "output_type": "display_data"
    }
   ],
   "source": [
    "plt.plot(freq_table.delta_freq)"
   ]
  },
  {
   "cell_type": "code",
   "execution_count": 92,
   "id": "a8788209",
   "metadata": {},
   "outputs": [
    {
     "data": {
      "text/plain": [
       "[<matplotlib.lines.Line2D at 0x7f99919ca490>]"
      ]
     },
     "execution_count": 92,
     "metadata": {},
     "output_type": "execute_result"
    },
    {
     "data": {
      "image/png": "[encoded data removed]",
      "text/plain": [
       "<Figure size 432x288 with 1 Axes>"
      ]
     },
     "metadata": {
      "needs_background": "light"
     },
     "output_type": "display_data"
    }
   ],
   "source": [
    "plt.plot(freq_table.ran_fill)"
   ]
  },
  {
   "cell_type": "code",
   "execution_count": 93,
   "id": "a1aa3774",
   "metadata": {},
   "outputs": [
    {
     "data": {
      "text/plain": [
       "[<matplotlib.lines.Line2D at 0x7f999e2614c0>]"
      ]
     },
     "execution_count": 93,
     "metadata": {},
     "output_type": "execute_result"
    },
    {
     "data": {
      "image/png": "[encoded data removed]",
      "text/plain": [
       "<Figure size 432x288 with 1 Axes>"
      ]
     },
     "metadata": {
      "needs_background": "light"
     },
     "output_type": "display_data"
    }
   ],
   "source": [
    "plt.semilogy(x, f2_orig)"
   ]
  },
  {
   "cell_type": "code",
   "execution_count": 94,
   "id": "63b966ab",
   "metadata": {},
   "outputs": [],
   "source": [
    "x, f2_cut = signal.welch(cont_table.delta_freq, fs=1)"
   ]
  },
  {
   "cell_type": "code",
   "execution_count": 95,
   "id": "05e82ab7",
   "metadata": {},
   "outputs": [
    {
     "data": {
      "text/plain": [
       "[<matplotlib.lines.Line2D at 0x7f999e4a8d60>]"
      ]
     },
     "execution_count": 95,
     "metadata": {},
     "output_type": "execute_result"
    },
    {
     "data": {
      "image/png": "[encoded data removed]",
      "text/plain": [
       "<Figure size 432x288 with 1 Axes>"
      ]
     },
     "metadata": {
      "needs_background": "light"
     },
     "output_type": "display_data"
    }
   ],
   "source": [
    "plt.semilogy(x, f2_cut)"
   ]
  },
  {
   "cell_type": "code",
   "execution_count": 96,
   "id": "34f6359b",
   "metadata": {},
   "outputs": [],
   "source": [
    "x, f2_fill = signal.welch(freq_table.ran_fill, fs=1)"
   ]
  },
  {
   "cell_type": "code",
   "execution_count": 97,
   "id": "9e1d2b01",
   "metadata": {},
   "outputs": [
    {
     "data": {
      "text/plain": [
       "[<matplotlib.lines.Line2D at 0x7f999e7d5af0>]"
      ]
     },
     "execution_count": 97,
     "metadata": {},
     "output_type": "execute_result"
    },
    {
     "data": {
      "image/png": "[encoded data removed]",
      "text/plain": [
       "<Figure size 432x288 with 1 Axes>"
      ]
     },
     "metadata": {
      "needs_background": "light"
     },
     "output_type": "display_data"
    }
   ],
   "source": [
    "plt.plot(x, (f2_orig-f2_fill)/f2_orig)"
   ]
  },
  {
   "cell_type": "code",
   "execution_count": 181,
   "id": "ea323f6a",
   "metadata": {},
   "outputs": [],
   "source": [
    "fs = 2*np.max(x)"
   ]
  },
  {
   "cell_type": "code",
   "execution_count": 182,
   "id": "830cfd54",
   "metadata": {},
   "outputs": [],
   "source": [
    "samps = np.sqrt(fs * len(f3) * f3)"
   ]
  },
  {
   "cell_type": "code",
   "execution_count": 183,
   "id": "8d537e5c",
   "metadata": {},
   "outputs": [],
   "source": [
    "phi = np.random.uniform(0, 2*np.pi, len(samps))"
   ]
  },
  {
   "cell_type": "code",
   "execution_count": 184,
   "id": "400eb849",
   "metadata": {},
   "outputs": [],
   "source": [
    "ran_samps = [complex(s * np.cos(p), s * np.sin(p)) for (s,p) in zip(samps, phi)]"
   ]
  },
  {
   "cell_type": "code",
   "execution_count": 185,
   "id": "bc17febc",
   "metadata": {},
   "outputs": [],
   "source": [
    "ran_samps_neg = [complex(s * np.cos(p), -s * np.sin(p)) for (s,p) in zip(samps, phi)]"
   ]
  },
  {
   "cell_type": "code",
   "execution_count": 186,
   "id": "60d44404",
   "metadata": {},
   "outputs": [],
   "source": [
    "del ran_samps_neg[0]"
   ]
  },
  {
   "cell_type": "code",
   "execution_count": 187,
   "id": "82126f0b",
   "metadata": {},
   "outputs": [],
   "source": [
    "ran_samps_neg.reverse()"
   ]
  },
  {
   "cell_type": "code",
   "execution_count": 188,
   "id": "784da9b7",
   "metadata": {},
   "outputs": [],
   "source": [
    "rfull = ran_samps_neg + ran_samps"
   ]
  },
  {
   "cell_type": "code",
   "execution_count": 189,
   "id": "7fa4bfe3",
   "metadata": {},
   "outputs": [],
   "source": [
    "rfull.reverse()"
   ]
  },
  {
   "cell_type": "code",
   "execution_count": 190,
   "id": "0ebc9ae3",
   "metadata": {},
   "outputs": [
    {
     "data": {
      "text/plain": [
       "777601"
      ]
     },
     "execution_count": 190,
     "metadata": {},
     "output_type": "execute_result"
    }
   ],
   "source": [
    "len(rfull)"
   ]
  },
  {
   "cell_type": "code",
   "execution_count": 191,
   "id": "e36599a0",
   "metadata": {},
   "outputs": [
    {
     "data": {
      "text/plain": [
       "(-0.9226950401599534+0.46241797974920185j)"
      ]
     },
     "execution_count": 191,
     "metadata": {},
     "output_type": "execute_result"
    }
   ],
   "source": [
    "rfull[0]"
   ]
  },
  {
   "cell_type": "code",
   "execution_count": 192,
   "id": "0e65daa4",
   "metadata": {},
   "outputs": [
    {
     "data": {
      "text/plain": [
       "(-0.9226950401599534-0.46241797974920185j)"
      ]
     },
     "execution_count": 192,
     "metadata": {},
     "output_type": "execute_result"
    }
   ],
   "source": [
    "rfull[len(rfull)-1]"
   ]
  },
  {
   "cell_type": "code",
   "execution_count": 193,
   "id": "0e55aa07",
   "metadata": {},
   "outputs": [
    {
     "data": {
      "text/plain": [
       "388801"
      ]
     },
     "execution_count": 193,
     "metadata": {},
     "output_type": "execute_result"
    }
   ],
   "source": [
    "len(ran_samps)"
   ]
  },
  {
   "cell_type": "code",
   "execution_count": 194,
   "id": "13ae0a14",
   "metadata": {},
   "outputs": [],
   "source": [
    "mock = np.fft.ifft(rfull)"
   ]
  },
  {
   "cell_type": "code",
   "execution_count": 177,
   "id": "87dd3791",
   "metadata": {},
   "outputs": [],
   "source": [
    "x, f2 = signal.welch(freq_table.delta_freq.fillna(0), fs=1)"
   ]
  },
  {
   "cell_type": "code",
   "execution_count": 96,
   "id": "e6fcdf04",
   "metadata": {},
   "outputs": [],
   "source": [
    "tn = np.random.normal(0.0, 10, size=1000000)"
   ]
  },
  {
   "cell_type": "code",
   "execution_count": 97,
   "id": "c6833b56",
   "metadata": {},
   "outputs": [],
   "source": [
    "x, f2 = signal.welch(tn, fs=1)"
   ]
  },
  {
   "cell_type": "code",
   "execution_count": 98,
   "id": "505889e8",
   "metadata": {},
   "outputs": [
    {
     "data": {
      "text/plain": [
       "[<matplotlib.lines.Line2D at 0x7fb4564b1610>]"
      ]
     },
     "execution_count": 98,
     "metadata": {},
     "output_type": "execute_result"
    },
    {
     "data": {
      "image/png": "[encoded data removed]",
      "text/plain": [
       "<Figure size 432x288 with 1 Axes>"
      ]
     },
     "metadata": {
      "needs_background": "light"
     },
     "output_type": "display_data"
    }
   ],
   "source": [
    "plt.semilogy(x, f2)"
   ]
  },
  {
   "cell_type": "code",
   "execution_count": 90,
   "id": "6afe543e",
   "metadata": {},
   "outputs": [
    {
     "data": {
      "text/plain": [
       "388801"
      ]
     },
     "execution_count": 90,
     "metadata": {},
     "output_type": "execute_result"
    }
   ],
   "source": [
    "len(fft)"
   ]
  },
  {
   "cell_type": "code",
   "execution_count": 39,
   "id": "865bdceb",
   "metadata": {},
   "outputs": [
    {
     "data": {
      "text/plain": [
       "129"
      ]
     },
     "execution_count": 39,
     "metadata": {},
     "output_type": "execute_result"
    }
   ],
   "source": [
    "len(f2)"
   ]
  },
  {
   "cell_type": "code",
   "execution_count": 40,
   "id": "af721c93",
   "metadata": {},
   "outputs": [],
   "source": [
    "from statsmodels.tsa.seasonal import seasonal_decompose"
   ]
  },
  {
   "cell_type": "code",
   "execution_count": 42,
   "id": "cf108ebc",
   "metadata": {},
   "outputs": [],
   "source": [
    "result = seasonal_decompose(cont_table.delta_freq, period=1)"
   ]
  },
  {
   "cell_type": "code",
   "execution_count": 49,
   "id": "c84b581a",
   "metadata": {},
   "outputs": [
    {
     "data": {
      "text/plain": [
       "[<matplotlib.lines.Line2D at 0x7fb48ab7b160>]"
      ]
     },
     "execution_count": 49,
     "metadata": {},
     "output_type": "execute_result"
    },
    {
     "data": {
      "image/png": "[encoded data removed]",
      "text/plain": [
       "<Figure size 432x288 with 1 Axes>"
      ]
     },
     "metadata": {
      "needs_background": "light"
     },
     "output_type": "display_data"
    }
   ],
   "source": [
    "plt.plot(result.resid)"
   ]
  },
  {
   "cell_type": "code",
   "execution_count": 111,
   "id": "ceae7b50",
   "metadata": {},
   "outputs": [],
   "source": [
    "freq_table['seconds'] = freq_table.index"
   ]
  },
  {
   "cell_type": "code",
   "execution_count": 129,
   "id": "17fbd195",
   "metadata": {},
   "outputs": [],
   "source": [
    "f2 = signal.lombscargle(list(freq_table.seconds), list(freq_table.delta_freq.fillna(0)), freqs=x, precenter=True, normalize=True)"
   ]
  },
  {
   "cell_type": "code",
   "execution_count": 130,
   "id": "4267e1ef",
   "metadata": {},
   "outputs": [
    {
     "data": {
      "text/plain": [
       "[<matplotlib.lines.Line2D at 0x7f996110e670>]"
      ]
     },
     "execution_count": 130,
     "metadata": {},
     "output_type": "execute_result"
    },
    {
     "data": {
      "image/png": "[encoded data removed]",
      "text/plain": [
       "<Figure size 432x288 with 1 Axes>"
      ]
     },
     "metadata": {
      "needs_background": "light"
     },
     "output_type": "display_data"
    }
   ],
   "source": [
    "plt.plot(f2)"
   ]
  },
  {
   "cell_type": "code",
   "execution_count": 108,
   "id": "bee7a844",
   "metadata": {
    "collapsed": true
   },
   "outputs": [
    {
     "ename": "TypeError",
     "evalue": "dtype datetime64[ns] cannot be converted to timedelta64[ns]",
     "output_type": "error",
     "traceback": [
      "\u001b[0;31m---------------------------------------------------------------------------\u001b[0m",
      "\u001b[0;31mTypeError\u001b[0m                                 Traceback (most recent call last)",
      "\u001b[0;32m/var/folders/r5/zstjbthd73gb2c3mz36cnvqr0000gp/T/ipykernel_22695/824192682.py\u001b[0m in \u001b[0;36m<module>\u001b[0;34m\u001b[0m\n\u001b[0;32m----> 1\u001b[0;31m \u001b[0mpd\u001b[0m\u001b[0;34m.\u001b[0m\u001b[0mto_timedelta\u001b[0m\u001b[0;34m(\u001b[0m\u001b[0mfreq_table\u001b[0m\u001b[0;34m.\u001b[0m\u001b[0mdropna\u001b[0m\u001b[0;34m(\u001b[0m\u001b[0;34m)\u001b[0m\u001b[0;34m.\u001b[0m\u001b[0mdate\u001b[0m\u001b[0;34m.\u001b[0m\u001b[0mastype\u001b[0m\u001b[0;34m(\u001b[0m\u001b[0;34m'datetime64'\u001b[0m\u001b[0;34m)\u001b[0m\u001b[0;34m)\u001b[0m\u001b[0;34m.\u001b[0m\u001b[0mdt\u001b[0m\u001b[0;34m.\u001b[0m\u001b[0mtotal_seconds\u001b[0m\u001b[0;34m(\u001b[0m\u001b[0;34m)\u001b[0m\u001b[0;34m\u001b[0m\u001b[0;34m\u001b[0m\u001b[0m\n\u001b[0m",
      "\u001b[0;32m~/my_env/lib/python3.8/site-packages/pandas/core/tools/timedeltas.py\u001b[0m in \u001b[0;36mto_timedelta\u001b[0;34m(arg, unit, errors)\u001b[0m\n\u001b[1;32m    112\u001b[0m         \u001b[0;32mreturn\u001b[0m \u001b[0marg\u001b[0m\u001b[0;34m\u001b[0m\u001b[0;34m\u001b[0m\u001b[0m\n\u001b[1;32m    113\u001b[0m     \u001b[0;32melif\u001b[0m \u001b[0misinstance\u001b[0m\u001b[0;34m(\u001b[0m\u001b[0marg\u001b[0m\u001b[0;34m,\u001b[0m \u001b[0mABCSeries\u001b[0m\u001b[0;34m)\u001b[0m\u001b[0;34m:\u001b[0m\u001b[0;34m\u001b[0m\u001b[0;34m\u001b[0m\u001b[0m\n\u001b[0;32m--> 114\u001b[0;31m         \u001b[0mvalues\u001b[0m \u001b[0;34m=\u001b[0m \u001b[0m_convert_listlike\u001b[0m\u001b[0;34m(\u001b[0m\u001b[0marg\u001b[0m\u001b[0;34m.\u001b[0m\u001b[0m_values\u001b[0m\u001b[0;34m,\u001b[0m \u001b[0munit\u001b[0m\u001b[0;34m=\u001b[0m\u001b[0munit\u001b[0m\u001b[0;34m,\u001b[0m \u001b[0merrors\u001b[0m\u001b[0;34m=\u001b[0m\u001b[0merrors\u001b[0m\u001b[0;34m)\u001b[0m\u001b[0;34m\u001b[0m\u001b[0;34m\u001b[0m\u001b[0m\n\u001b[0m\u001b[1;32m    115\u001b[0m         \u001b[0;32mreturn\u001b[0m \u001b[0marg\u001b[0m\u001b[0;34m.\u001b[0m\u001b[0m_constructor\u001b[0m\u001b[0;34m(\u001b[0m\u001b[0mvalues\u001b[0m\u001b[0;34m,\u001b[0m \u001b[0mindex\u001b[0m\u001b[0;34m=\u001b[0m\u001b[0marg\u001b[0m\u001b[0;34m.\u001b[0m\u001b[0mindex\u001b[0m\u001b[0;34m,\u001b[0m \u001b[0mname\u001b[0m\u001b[0;34m=\u001b[0m\u001b[0marg\u001b[0m\u001b[0;34m.\u001b[0m\u001b[0mname\u001b[0m\u001b[0;34m)\u001b[0m\u001b[0;34m\u001b[0m\u001b[0;34m\u001b[0m\u001b[0m\n\u001b[1;32m    116\u001b[0m     \u001b[0;32melif\u001b[0m \u001b[0misinstance\u001b[0m\u001b[0;34m(\u001b[0m\u001b[0marg\u001b[0m\u001b[0;34m,\u001b[0m \u001b[0mABCIndexClass\u001b[0m\u001b[0;34m)\u001b[0m\u001b[0;34m:\u001b[0m\u001b[0;34m\u001b[0m\u001b[0;34m\u001b[0m\u001b[0m\n",
      "\u001b[0;32m~/my_env/lib/python3.8/site-packages/pandas/core/tools/timedeltas.py\u001b[0m in \u001b[0;36m_convert_listlike\u001b[0;34m(arg, unit, errors, name)\u001b[0m\n\u001b[1;32m    159\u001b[0m \u001b[0;34m\u001b[0m\u001b[0m\n\u001b[1;32m    160\u001b[0m     \u001b[0;32mtry\u001b[0m\u001b[0;34m:\u001b[0m\u001b[0;34m\u001b[0m\u001b[0;34m\u001b[0m\u001b[0m\n\u001b[0;32m--> 161\u001b[0;31m         \u001b[0mvalue\u001b[0m \u001b[0;34m=\u001b[0m \u001b[0msequence_to_td64ns\u001b[0m\u001b[0;34m(\u001b[0m\u001b[0marg\u001b[0m\u001b[0;34m,\u001b[0m \u001b[0munit\u001b[0m\u001b[0;34m=\u001b[0m\u001b[0munit\u001b[0m\u001b[0;34m,\u001b[0m \u001b[0merrors\u001b[0m\u001b[0;34m=\u001b[0m\u001b[0merrors\u001b[0m\u001b[0;34m,\u001b[0m \u001b[0mcopy\u001b[0m\u001b[0;34m=\u001b[0m\u001b[0;32mFalse\u001b[0m\u001b[0;34m)\u001b[0m\u001b[0;34m[\u001b[0m\u001b[0;36m0\u001b[0m\u001b[0;34m]\u001b[0m\u001b[0;34m\u001b[0m\u001b[0;34m\u001b[0m\u001b[0m\n\u001b[0m\u001b[1;32m    162\u001b[0m     \u001b[0;32mexcept\u001b[0m \u001b[0mValueError\u001b[0m\u001b[0;34m:\u001b[0m\u001b[0;34m\u001b[0m\u001b[0;34m\u001b[0m\u001b[0m\n\u001b[1;32m    163\u001b[0m         \u001b[0;32mif\u001b[0m \u001b[0merrors\u001b[0m \u001b[0;34m==\u001b[0m \u001b[0;34m\"ignore\"\u001b[0m\u001b[0;34m:\u001b[0m\u001b[0;34m\u001b[0m\u001b[0;34m\u001b[0m\u001b[0m\n",
      "\u001b[0;32m~/my_env/lib/python3.8/site-packages/pandas/core/arrays/timedeltas.py\u001b[0m in \u001b[0;36msequence_to_td64ns\u001b[0;34m(data, copy, unit, errors)\u001b[0m\n\u001b[1;32m    985\u001b[0m     \u001b[0;32melse\u001b[0m\u001b[0;34m:\u001b[0m\u001b[0;34m\u001b[0m\u001b[0;34m\u001b[0m\u001b[0m\n\u001b[1;32m    986\u001b[0m         \u001b[0;31m# This includes datetime64-dtype, see GH#23539, GH#29794\u001b[0m\u001b[0;34m\u001b[0m\u001b[0;34m\u001b[0m\u001b[0;34m\u001b[0m\u001b[0m\n\u001b[0;32m--> 987\u001b[0;31m         \u001b[0;32mraise\u001b[0m \u001b[0mTypeError\u001b[0m\u001b[0;34m(\u001b[0m\u001b[0;34mf\"dtype {data.dtype} cannot be converted to timedelta64[ns]\"\u001b[0m\u001b[0;34m)\u001b[0m\u001b[0;34m\u001b[0m\u001b[0;34m\u001b[0m\u001b[0m\n\u001b[0m\u001b[1;32m    988\u001b[0m \u001b[0;34m\u001b[0m\u001b[0m\n\u001b[1;32m    989\u001b[0m     \u001b[0mdata\u001b[0m \u001b[0;34m=\u001b[0m \u001b[0mnp\u001b[0m\u001b[0;34m.\u001b[0m\u001b[0marray\u001b[0m\u001b[0;34m(\u001b[0m\u001b[0mdata\u001b[0m\u001b[0;34m,\u001b[0m \u001b[0mcopy\u001b[0m\u001b[0;34m=\u001b[0m\u001b[0mcopy\u001b[0m\u001b[0;34m)\u001b[0m\u001b[0;34m\u001b[0m\u001b[0;34m\u001b[0m\u001b[0m\n",
      "\u001b[0;31mTypeError\u001b[0m: dtype datetime64[ns] cannot be converted to timedelta64[ns]"
     ]
    }
   ],
   "source": [
    "pd.to_timedelta(freq_table.dropna().date).dt.total_seconds()"
   ]
  },
  {
   "cell_type": "code",
   "execution_count": null,
   "id": "f9cbce7f",
   "metadata": {},
   "outputs": [],
   "source": []
  },
  {
   "cell_type": "raw",
   "id": "f4071ca3",
   "metadata": {},
   "source": []
  },
  {
   "cell_type": "code",
   "execution_count": null,
   "id": "2dc8e566",
   "metadata": {},
   "outputs": [],
   "source": []
  },
  {
   "cell_type": "code",
   "execution_count": 101,
   "id": "cec1cffd",
   "metadata": {},
   "outputs": [
    {
     "data": {
      "text/plain": [
       "0         -0.078\n",
       "1         -0.083\n",
       "2         -0.091\n",
       "3         -0.097\n",
       "4         -0.101\n",
       "           ...  \n",
       "2528295    0.089\n",
       "2528296    0.091\n",
       "2528297    0.093\n",
       "2528298    0.095\n",
       "2528299    0.096\n",
       "Name: delta_freq, Length: 1707500, dtype: float64"
      ]
     },
     "execution_count": 101,
     "metadata": {},
     "output_type": "execute_result"
    }
   ],
   "source": [
    "freq_table.dropna().delta_freq"
   ]
  },
  {
   "cell_type": "code",
   "execution_count": 113,
   "id": "05a4b8a8",
   "metadata": {},
   "outputs": [],
   "source": [
    "import numpy as np\n",
    "import matplotlib.pyplot as plt\n",
    "rng = np.random.default_rng()"
   ]
  },
  {
   "cell_type": "code",
   "execution_count": 166,
   "id": "b9a3c6bc",
   "metadata": {},
   "outputs": [],
   "source": [
    "A = 2.\n",
    "w0 = 1.  # rad/sec\n",
    "nin = 150\n",
    "nout = 1000"
   ]
  },
  {
   "cell_type": "code",
   "execution_count": 167,
   "id": "d5b3e0b7",
   "metadata": {},
   "outputs": [],
   "source": [
    "x = rng.uniform(0, 10*np.pi, nin)"
   ]
  },
  {
   "cell_type": "code",
   "execution_count": 168,
   "id": "c7fb0f0e",
   "metadata": {},
   "outputs": [],
   "source": [
    "y = A * np.cos(w0*x)"
   ]
  },
  {
   "cell_type": "code",
   "execution_count": 169,
   "id": "a5ab8a01",
   "metadata": {},
   "outputs": [],
   "source": [
    "w = np.linspace(0.01, 10, nout)"
   ]
  },
  {
   "cell_type": "code",
   "execution_count": 170,
   "id": "fe02abdc",
   "metadata": {},
   "outputs": [],
   "source": [
    "import scipy.signal as signal\n",
    "pgram = signal.lombscargle(x, y, w, normalize=True)"
   ]
  },
  {
   "cell_type": "code",
   "execution_count": 171,
   "id": "f912227c",
   "metadata": {},
   "outputs": [
    {
     "data": {
      "text/plain": [
       "[<matplotlib.lines.Line2D at 0x7f994f09bca0>]"
      ]
     },
     "execution_count": 171,
     "metadata": {},
     "output_type": "execute_result"
    },
    {
     "data": {
      "image/png": "[encoded data removed]",
      "text/plain": [
       "<Figure size 432x288 with 1 Axes>"
      ]
     },
     "metadata": {
      "needs_background": "light"
     },
     "output_type": "display_data"
    }
   ],
   "source": [
    "plt.plot(pgram)\n"
   ]
  },
  {
   "cell_type": "code",
   "execution_count": 165,
   "id": "897fd537",
   "metadata": {},
   "outputs": [
    {
     "data": {
      "text/plain": [
       "array([8.65198901e-05, 5.92989124e-05, 2.91514324e-05, 3.66015690e-05,\n",
       "       8.76164441e-05, 1.13265640e-04, 1.01321202e-04, 7.32675929e-05,\n",
       "       3.93988290e-05, 2.54841366e-05, 5.58671127e-05, 1.00427967e-04,\n",
       "       1.15820953e-04, 9.75168125e-05, 5.88691151e-05, 2.65946537e-05,\n",
       "       3.53467868e-05, 8.13230780e-05, 1.19437424e-04, 1.20361806e-04,\n",
       "       8.55704488e-05, 3.92735794e-05, 2.36469067e-05, 5.91830062e-05,\n",
       "       1.12928198e-04, 1.38143353e-04, 1.16660877e-04, 6.34383126e-05,\n",
       "       2.32233515e-05, 3.81490860e-05, 9.74104021e-05, 1.47805374e-04,\n",
       "       1.48630550e-04, 9.80138664e-05, 3.64575788e-05, 2.29437523e-05,\n",
       "       7.53281481e-05, 1.47186335e-04, 1.77554466e-04, 1.40839716e-04,\n",
       "       6.49510433e-05, 1.85148430e-05, 5.05990267e-05, 1.35409173e-04,\n",
       "       1.99420154e-04, 1.88709053e-04, 1.09239370e-04, 2.96839223e-05,\n",
       "       2.85430076e-05, 1.13253592e-04, 2.10532232e-04, 2.37482959e-04,\n",
       "       1.68625425e-04, 6.08234429e-05, 1.57071823e-05, 8.34842612e-05,\n",
       "       2.07993358e-04, 2.82280927e-04, 2.41075437e-04, 1.15578911e-04,\n",
       "       1.96474633e-05, 5.11312703e-05, 1.90261592e-04, 3.17760218e-04,\n",
       "       3.23161750e-04, 1.96643810e-04, 4.87259805e-05, 2.37474904e-05,\n",
       "       1.57792625e-04, 3.38503523e-04, 4.10046637e-04, 3.05588478e-04,\n",
       "       1.11989815e-04, 1.17096958e-05, 1.13800268e-04])"
      ]
     },
     "execution_count": 165,
     "metadata": {},
     "output_type": "execute_result"
    }
   ],
   "source": [
    "pgram_l"
   ]
  },
  {
   "cell_type": "code",
   "execution_count": null,
   "id": "f7c80932",
   "metadata": {},
   "outputs": [],
   "source": []
  },
  {
   "cell_type": "code",
   "execution_count": null,
   "id": "573a884c",
   "metadata": {},
   "outputs": [],
   "source": []
  }
 ],
 "metadata": {
  "kernelspec": {
   "display_name": "my_env",
   "language": "python",
   "name": "my_env"
  },
  "language_info": {
   "codemirror_mode": {
    "name": "ipython",
    "version": 3
   },
   "file_extension": ".py",
   "mimetype": "text/x-python",
   "name": "python",
   "nbconvert_exporter": "python",
   "pygments_lexer": "ipython3",
   "version": "3.8.8"
  }
 },
 "nbformat": 4,
 "nbformat_minor": 5
}
