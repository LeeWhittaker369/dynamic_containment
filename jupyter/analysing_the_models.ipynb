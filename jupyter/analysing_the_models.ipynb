{
 "cells": [
  {
   "cell_type": "markdown",
   "id": "c3d66540",
   "metadata": {},
   "source": [
    "# Analysing the models\n",
    "\n",
    "In this notebook we work under the Normal white noise assumption "
   ]
  },
  {
   "cell_type": "code",
   "execution_count": 1,
   "id": "fcc543bc",
   "metadata": {},
   "outputs": [],
   "source": [
    "import pandas as pd\n",
    "from datetime import timedelta, date\n",
    "import matplotlib.pyplot as plt\n",
    "import numpy as np\n",
    "from scipy import signal\n",
    "from scipy import special\n",
    "import openturns as ot\n",
    "from scipy.optimize import least_squares\n",
    "import warnings\n",
    "from scipy.interpolate import interp1d\n",
    "warnings.filterwarnings('ignore')\n",
    "from tqdm.notebook import tqdm\n",
    "\n",
    "from dynamic_containment import utils\n",
    "\n",
    "plt.rcParams['text.usetex'] = False"
   ]
  },
  {
   "cell_type": "markdown",
   "id": "5bcc8b21",
   "metadata": {},
   "source": [
    "The goal in this notebook is to investigate how dynamic containment can be used to complement power grid when frequency in the grid changes.\n",
    "\n",
    "We assume three different battery powers: 2 MW, 5 MW and 10 MW\n",
    "\n",
    "First, assming white noise, following the previous notebook, we can calculate the expected rate of change of the charge for all three cases"
   ]
  },
  {
   "cell_type": "code",
   "execution_count": 2,
   "id": "6fc7ffe2",
   "metadata": {},
   "outputs": [],
   "source": [
    "service_powers = [2, 5, 10]"
   ]
  },
  {
   "cell_type": "markdown",
   "id": "153de12c",
   "metadata": {},
   "source": [
    "Let's use the data for our variances"
   ]
  },
  {
   "cell_type": "code",
   "execution_count": 3,
   "id": "15b824f7",
   "metadata": {},
   "outputs": [],
   "source": [
    "freq_table = utils.read_and_clean()"
   ]
  },
  {
   "cell_type": "code",
   "execution_count": 4,
   "id": "65059dda",
   "metadata": {},
   "outputs": [],
   "source": [
    "dcdt = np.array([\n",
    "    utils.calc_gaussian_slope(freq_table.delta_freq.std(), sp)\n",
    "    for sp in service_powers\n",
    "])"
   ]
  },
  {
   "cell_type": "code",
   "execution_count": 5,
   "id": "3cfda7e3",
   "metadata": {},
   "outputs": [
    {
     "data": {
      "text/plain": [
       "array([-3.23914437e-07, -8.09786093e-07, -1.61958050e-06])"
      ]
     },
     "execution_count": 5,
     "metadata": {},
     "output_type": "execute_result"
    }
   ],
   "source": [
    "dcdt"
   ]
  },
  {
   "cell_type": "markdown",
   "id": "f73d8fcf",
   "metadata": {},
   "source": [
    "From these slopes, we can calculate how long it would take to use up a full battery (if we chose to start with one!)"
   ]
  },
  {
   "cell_type": "code",
   "execution_count": 6,
   "id": "dfce671a",
   "metadata": {},
   "outputs": [
    {
     "data": {
      "text/plain": [
       "array([142.92754806,  57.17101922,  28.58536289])"
      ]
     },
     "execution_count": 6,
     "metadata": {},
     "output_type": "execute_result"
    }
   ],
   "source": [
    "-4.0/(dcdt*(3600.0 * 24.0))"
   ]
  },
  {
   "cell_type": "markdown",
   "id": "72aa4969",
   "metadata": {},
   "source": [
    "That is, 143 days for the 2 MW battery, 57 days for the 5 MW battery and 29 days for the 10 MW battery."
   ]
  },
  {
   "cell_type": "code",
   "execution_count": 7,
   "id": "2403eca6",
   "metadata": {},
   "outputs": [
    {
     "data": {
      "text/plain": [
       "<matplotlib.legend.Legend at 0x7fe2520e21f0>"
      ]
     },
     "execution_count": 7,
     "metadata": {},
     "output_type": "execute_result"
    },
    {
     "data": {
      "image/png": "[encoded data removed]",
      "text/plain": [
       "<Figure size 432x288 with 1 Axes>"
      ]
     },
     "metadata": {
      "needs_background": "light"
     },
     "output_type": "display_data"
    }
   ],
   "source": [
    "days = np.arange(150)\n",
    "plt.plot(days, days * (dcdt[0]*(3600.0 * 24.0)), label=\"2 MW\")\n",
    "plt.plot(days, days * (dcdt[1]*(3600.0 * 24.0)), label=\"5 MW\")\n",
    "plt.plot(days, days * (dcdt[2]*(3600.0 * 24.0)), label=\"10 MW\")\n",
    "plt.axhline(-4.0, color='red', label=\"empty battery\")\n",
    "plt.ylabel(\"% Charge\")\n",
    "plt.xlabel(\"days\")\n",
    "plt.xlim([0, 150])\n",
    "plt.ylim([-5, 1])\n",
    "plt.legend()\n"
   ]
  },
  {
   "cell_type": "code",
   "execution_count": 8,
   "id": "28ea1e00",
   "metadata": {},
   "outputs": [
    {
     "data": {
      "application/vnd.jupyter.widget-view+json": {
       "model_id": "e4087d8d6cf1442ba1ed34b46400f46c",
       "version_major": 2,
       "version_minor": 0
      },
      "text/plain": [
       "  0%|          | 0/361 [00:00<?, ?it/s]"
      ]
     },
     "metadata": {},
     "output_type": "display_data"
    }
   ],
   "source": [
    "real_space_cov = utils.temporal_covariance(freq_table, max_sep=18001, step=50)"
   ]
  },
  {
   "cell_type": "code",
   "execution_count": 9,
   "id": "4f310291",
   "metadata": {},
   "outputs": [],
   "source": [
    "# first makes sure I generate enough data (18000s = 5hrs)\n",
    "\n",
    "num_blocks = np.ceil(150 * 24 * 3600 / (18000.0))\n",
    "\n",
    "# This is the number of realisations. I have tested at higher values, but takes longer to run\n",
    "nreals = 10\n",
    "\n",
    "time_step = 10\n",
    "num_samples = [nreals, int(num_blocks)]"
   ]
  },
  {
   "cell_type": "markdown",
   "id": "410ee30b",
   "metadata": {},
   "source": [
    "This takes a while, as we need to process the sims for three service powers! Note, we create independent simuations for each case"
   ]
  },
  {
   "cell_type": "code",
   "execution_count": 13,
   "id": "3735e965",
   "metadata": {},
   "outputs": [
    {
     "name": "stdout",
     "output_type": "stream",
     "text": [
      "creating covariance\n",
      "creating samples\n"
     ]
    },
    {
     "data": {
      "application/vnd.jupyter.widget-view+json": {
       "model_id": "8e026bbd09fd4623a387c2a08c83b5cc",
       "version_major": 2,
       "version_minor": 0
      },
      "text/plain": [
       "  0%|          | 0/10 [00:00<?, ?it/s]"
      ]
     },
     "metadata": {},
     "output_type": "display_data"
    },
    {
     "name": "stdout",
     "output_type": "stream",
     "text": [
      "creating covariance\n",
      "creating samples\n"
     ]
    },
    {
     "data": {
      "application/vnd.jupyter.widget-view+json": {
       "model_id": "189d25945bba4b4c90b7372c80cb850d",
       "version_major": 2,
       "version_minor": 0
      },
      "text/plain": [
       "  0%|          | 0/10 [00:00<?, ?it/s]"
      ]
     },
     "metadata": {},
     "output_type": "display_data"
    },
    {
     "name": "stdout",
     "output_type": "stream",
     "text": [
      "creating covariance\n",
      "creating samples\n"
     ]
    },
    {
     "data": {
      "application/vnd.jupyter.widget-view+json": {
       "model_id": "aa84c02781a3477fa35fe187c55d50a8",
       "version_major": 2,
       "version_minor": 0
      },
      "text/plain": [
       "  0%|          | 0/10 [00:00<?, ?it/s]"
      ]
     },
     "metadata": {},
     "output_type": "display_data"
    }
   ],
   "source": [
    "reals = {}\n",
    "\n",
    "summaries = {}\n",
    "\n",
    "num_seconds = 150 * 24 * 3600\n",
    "\n",
    "for p in service_powers:\n",
    "    \n",
    "    samples = utils.simulate_grf_using_cov(real_space_cov, max_time=18000, time_step=time_step, num_samples=num_samples)\n",
    "    \n",
    "    samples = [s.flatten()[:num_seconds] for s in samples]\n",
    "    \n",
    "    new_samples = utils.interp_samples(samples, max_time=num_seconds, step_samples=time_step)\n",
    "    \n",
    "    count = 0\n",
    "    \n",
    "    reals[p] = {}\n",
    "\n",
    "    for s in tqdm(new_samples):\n",
    "        \n",
    "        df = pd.DataFrame()\n",
    "        df[\"date\"] = range(len(s))\n",
    "        df[\"delta_freq\"] = s\n",
    "        df = utils.add_charge_info(df, p)\n",
    "\n",
    "        reals[p][count] = df\n",
    "    \n",
    "        count+=1\n",
    "        \n",
    "    summaries[p] = reals[p][0].copy()\n",
    "    summaries[p]['culm_charge'] = 0.0\n",
    "    summaries[p]['culm_charge_sq'] = 0.0\n",
    "\n",
    "    for s in reals[p]:\n",
    "    \n",
    "        summaries[p]['culm_charge'] += reals[p][s]['culm_charge']\n",
    "        summaries[p]['culm_charge_sq'] += reals[p][s]['culm_charge']**2.0\n",
    "\n",
    "    summaries[p]['culm_charge'] = summaries[p]['culm_charge'] / len(reals[p])\n",
    "    \n",
    "    summaries[p]['var_charge'] = (\n",
    "        summaries[p]['culm_charge_sq'] / (len(reals[p]) - 1)\n",
    "        - summaries[p]['culm_charge']**2.0 * len(reals[p]) / (len(reals[p]) - 1)\n",
    "    )\n",
    "    \n",
    "    summaries[p]['std_charge'] = np.sqrt(summaries[p]['var_charge'])\n",
    "    "
   ]
  },
  {
   "cell_type": "code",
   "execution_count": 109,
   "id": "8df6b88b",
   "metadata": {},
   "outputs": [
    {
     "data": {
      "text/plain": [
       "[<matplotlib.lines.Line2D at 0x7fdf306b26a0>]"
      ]
     },
     "execution_count": 109,
     "metadata": {},
     "output_type": "execute_result"
    },
    {
     "data": {
      "image/png": "[encoded data removed]",
      "text/plain": [
       "<Figure size 432x288 with 1 Axes>"
      ]
     },
     "metadata": {
      "needs_background": "light"
     },
     "output_type": "display_data"
    }
   ],
   "source": [
    "p = 2\n",
    "\n",
    "plt.plot(summaries[p].date/(3600.0 * 24.0), summaries[p].culm_charge)\n",
    "plt.plot(days, days * (dcdt[service_powers.index(p)]*(3600.0 * 24.0)), label=f\"{p} MW\")\n",
    "plt.plot(summaries[p].date/(3600.0 * 24.0), summaries[p].culm_charge-summaries[p].std_charge)\n",
    "plt.plot(summaries[p].date/(3600.0 * 24.0), summaries[p].culm_charge+summaries[p].std_charge)"
   ]
  },
  {
   "cell_type": "code",
   "execution_count": 110,
   "id": "936559bf",
   "metadata": {},
   "outputs": [],
   "source": [
    "E0 = (summaries[p].culm_charge+5*summaries[p].std_charge).max()"
   ]
  },
  {
   "cell_type": "code",
   "execution_count": 111,
   "id": "05d5b83f",
   "metadata": {},
   "outputs": [
    {
     "data": {
      "text/plain": [
       "3.809903155805867"
      ]
     },
     "execution_count": 111,
     "metadata": {},
     "output_type": "execute_result"
    }
   ],
   "source": [
    "E0"
   ]
  },
  {
   "cell_type": "code",
   "execution_count": 112,
   "id": "fd8f45dc",
   "metadata": {},
   "outputs": [],
   "source": [
    "mean_date = (0-4)/(dcdt[service_powers.index(p)])\n",
    "\n",
    "dates = []\n",
    "\n",
    "for i in range(nreals):\n",
    "    t = reals[p][i].where(-E0 + reals[p][i].culm_charge>-4)\n",
    "    dates.append(t.date.dropna().max())"
   ]
  },
  {
   "cell_type": "markdown",
   "id": "ee5b52ee",
   "metadata": {},
   "source": [
    "The mean date isn't the date of the mean!!!"
   ]
  },
  {
   "cell_type": "code",
   "execution_count": 113,
   "id": "447602bd",
   "metadata": {},
   "outputs": [
    {
     "name": "stdout",
     "output_type": "stream",
     "text": [
      "average date to reach zero given a safe start is 20.4 +/- 14.65 days\n"
     ]
    }
   ],
   "source": [
    "print(f\"average date to reach zero given a safe start is {np.round(np.mean(dates)/(24 * 3600), 2)} +/- {np.round(np.std(dates)/(24 * 3600), 2)} days\")"
   ]
  },
  {
   "cell_type": "code",
   "execution_count": 114,
   "id": "842f6790",
   "metadata": {},
   "outputs": [],
   "source": [
    "mean_date = (E0-4)/(dcdt[service_powers.index(p)])"
   ]
  },
  {
   "cell_type": "code",
   "execution_count": 115,
   "id": "ca893a74",
   "metadata": {},
   "outputs": [
    {
     "data": {
      "text/plain": [
       "6.792518958516646"
      ]
     },
     "execution_count": 115,
     "metadata": {},
     "output_type": "execute_result"
    }
   ],
   "source": [
    "mean_date/(24 * 3600)"
   ]
  },
  {
   "cell_type": "code",
   "execution_count": null,
   "id": "68649c7f",
   "metadata": {},
   "outputs": [],
   "source": []
  }
 ],
 "metadata": {
  "kernelspec": {
   "display_name": "my_env",
   "language": "python",
   "name": "my_env"
  },
  "language_info": {
   "codemirror_mode": {
    "name": "ipython",
    "version": 3
   },
   "file_extension": ".py",
   "mimetype": "text/x-python",
   "name": "python",
   "nbconvert_exporter": "python",
   "pygments_lexer": "ipython3",
   "version": "3.8.8"
  }
 },
 "nbformat": 4,
 "nbformat_minor": 5
}
