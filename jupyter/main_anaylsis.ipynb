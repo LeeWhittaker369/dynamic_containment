{
 "cells": [
  {
   "cell_type": "markdown",
   "id": "c0ab80d3",
   "metadata": {},
   "source": [
    "# Dynamic Containment\n",
    "\n",
    "In this notebook, we use the simulations developed in the `modelling_frequency_data` notebook to investigate the state-of-charge of batteries offering three service powers: 2 MW, 5 WM, and 10 MW.\n",
    "\n",
    "We look at how the state-of-charge responds to changes in frequency over time. We also investigate the optimal initial charges for each service. We use the simulations to investigate the uncertainties associated with how long it takes the battery charge to reach either zero or maximum capacity."
   ]
  },
  {
   "cell_type": "code",
   "execution_count": 1,
   "id": "273839cd",
   "metadata": {},
   "outputs": [],
   "source": [
    "# Here we \n",
    "import pandas as pd\n",
    "import matplotlib.pyplot as plt\n",
    "import numpy as np\n",
    "import warnings\n",
    "warnings.filterwarnings('ignore')\n",
    "\n",
    "from dynamic_containment import utils\n",
    "\n",
    "plt.rcParams['text.usetex'] = False"
   ]
  },
  {
   "cell_type": "markdown",
   "id": "875c472f",
   "metadata": {},
   "source": [
    "The goal in this notebook is to investigate how dynamic containment can be used to complement a power grid when frequency deviates from 50 Hz in the grid.\n",
    "\n",
    "As a starting piont, assming only random Gaussian noise, and following the discussion in the `modelling_frequency_data` notebook, we can calculate the expected rate of change of the charge for all three service powers.\n",
    "\n",
    "First, we set our parameters"
   ]
  },
  {
   "cell_type": "code",
   "execution_count": 16,
   "id": "4f87e2cc",
   "metadata": {},
   "outputs": [],
   "source": [
    "service_powers = np.array([2, 5, 10])\n",
    "\n",
    "max_cap = 4 # MWh\n",
    "\n",
    "max_charge_rate = 4.0 # MW\n",
    "max_discharge_rate = 5.0 # MW\n",
    "\n",
    "charge_efficiency = 0.9\n",
    "\n",
    "max_percent = max_charge_rate / service_powers\n",
    "min_percent = max_discharge_rate / service_powers\n",
    "\n",
    "alpha = (1 - 0.05)/(0.5 - 0.2) # This is the slope of the response curve between the elbow and full response\n",
    "ccharge = 1 - 0.5 * alpha # This is the constant for the curve in the discharge state\n",
    "    \n",
    "delta_freq_max = (max_percent - ccharge) / alpha\n",
    "delta_freq_min = -(min_percent - ccharge) / alpha"
   ]
  },
  {
   "cell_type": "markdown",
   "id": "82d1c883",
   "metadata": {},
   "source": [
    "To calculate the level of white noise, we can use the data for our variance. Note, we are using the original data to cteate our simulations. In this notebook we do not cut the data, since missing data does not impact the covariance, but cutting and moving data around will likely affect it."
   ]
  },
  {
   "cell_type": "code",
   "execution_count": 3,
   "id": "723c62d9",
   "metadata": {},
   "outputs": [],
   "source": [
    "freq_table = utils.read_and_clean()"
   ]
  },
  {
   "cell_type": "markdown",
   "id": "de14df79",
   "metadata": {},
   "source": [
    "## The expectation value of the charge\n",
    "\n",
    "We showed in the `modelling_frequency_data` notebook that the mean value of the frequency in our test data is consistent with 50 Hz.\n",
    "\n",
    "We also demonstrated that assuming only only Gaussian noise does a good job when predicting the expectation value of the charge of the battery when we ignore the limits of maximum capacity and an empty battery. We start with these assumptions, since Gaussian noise requires only an estimate of the variance, and so is less impacted by uncertainty. The expected charge at time $t$ is then given by the recursive relation\n",
    "\n",
    "\\begin{equation}\n",
    "\\left<C_t\\right>=C_{t-1}+\\Delta t\\int^{\\infty}_{-\\infty} P_{\\delta f}\\left(\\delta f\\right|\\sigma_{\\delta f}^2)y(\\delta f)\\,\\mathrm{d}\\delta f\n",
    "\\end{equation}\n",
    "\n",
    "where $\\delta f=f-50$ Hz and $P_{\\delta f}$ is a Normal distribution, with zero mean and variance $\\sigma_{\\delta f}^2$. $y(\\delta f)$ is the peicewise linear function describing the response of the battery charge to $\\delta f$, where we include the battery specifications. The charge at $t=0$, $C_0$ is the initial charge of the battery.\n",
    "\n",
    "Here, we have made the assumption that $\\delta f$ is unbound. Let's look at the validity this assumption\n"
   ]
  },
  {
   "cell_type": "code",
   "execution_count": 4,
   "id": "f5f9c209",
   "metadata": {},
   "outputs": [
    {
     "name": "stdout",
     "output_type": "stream",
     "text": [
      "For the uncut data, the standard deviation of the frequency is 0.06 Hz\n"
     ]
    }
   ],
   "source": [
    "print(f\"For the uncut data, the standard deviation of the frequency is {np.round(freq_table.delta_freq.std(), 3)} Hz\")"
   ]
  },
  {
   "cell_type": "code",
   "execution_count": 5,
   "id": "5d257af2",
   "metadata": {},
   "outputs": [
    {
     "name": "stdout",
     "output_type": "stream",
     "text": [
      "Respectively for the 2 MW, 5 MW and 10 MW service powers\n",
      "\n",
      "\tThe maximum charge rates are at 200.0 percent, 80.0 percent, and 40.0 percent\n",
      "\tThese are when delta freq are [0.82 0.44 0.31] Hz\n",
      "\n",
      "\tThe maximum discharge rates are at 250.0 percent, 100.0 percent, and 50.0 percent\n",
      "\tThese are when delta freq are [-0.97 -0.5  -0.34] Hz\n"
     ]
    }
   ],
   "source": [
    "print(\"Respectively for the 2 MW, 5 MW and 10 MW service powers\\n\")\n",
    "print(\"\\tThe maximum charge rates are at %s percent, %s percent, and %s percent\" % tuple(100*max_percent))\n",
    "print(f\"\\tThese are when delta freq are {np.round(delta_freq_max, 2)} Hz\\n\")\n",
    "print(f\"\\tThe maximum discharge rates are at %s percent, %s percent, and %s percent\" % tuple(100*min_percent))\n",
    "print(f\"\\tThese are when delta freq are {np.round(delta_freq_min, 2)} Hz\")"
   ]
  },
  {
   "cell_type": "code",
   "execution_count": 6,
   "id": "45faa73b",
   "metadata": {},
   "outputs": [
    {
     "name": "stdout",
     "output_type": "stream",
     "text": [
      "For the 10 MW case, where the maximum and minimum charge rates are at the lowest frequencies, we expect these charge rates to be exceeded, on average, for 1 second every 91.54 days\n"
     ]
    }
   ],
   "source": [
    "print(f\"For the 10 MW case, where the maximum and minimum charge rates are at the lowest frequencies, we expect these charge rates to be exceeded, on average, for 1 second every {np.round((1.0/(1.0 - utils.probability_tails(0.31/0.06, 0.34/0.06)))/86400, 2)} days\") "
   ]
  },
  {
   "cell_type": "markdown",
   "id": "8d85b873",
   "metadata": {},
   "source": [
    "The fact that some of the charge and discharge rates are greater than 100 % is an indication that the maximum charge and discharge rates are greater than the service power, and so these should be capped at 100 %.\n",
    "\n",
    "For those cases where the rates are lower than 100%, these battery specifications cannot achieve the contract requirements, and these batteries should not be used. For the 5 MW case, where the maximum discharge rate is 100%, but the charge rate is 80%, this can fill the contract of a `low` flavour. The 10 MW case cannot fulfill the requirements of any service contract.\n",
    "\n",
    "It is clear the magnitude of the minimum and maximum values of the frequencies in all cases is > 5 $\\sigma_{\\delta f}$, and so, when calculating the expectation of the rate of change in charge, it is reasonable to assume that the integral is unbound. However, it should be noted that, given the length of time that the battery runs, these frequencies may occur. Assuming normal distributed noise-only, the integral above gives us the rate of change of charge\n",
    "\n",
    "\\begin{equation}\n",
    "\\frac{\\mathrm{d}C}{\\mathrm{d}t}=\\int^{\\infty}_{-\\infty} P_{\\delta f}\\left(\\delta f\\right|\\sigma_{\\delta f}^2)y(\\delta f)\\,\\mathrm{d}\\delta f\n",
    "\\end{equation}"
   ]
  },
  {
   "cell_type": "code",
   "execution_count": 7,
   "id": "e39d5163",
   "metadata": {},
   "outputs": [],
   "source": [
    "# This calculates the above integral\n",
    "\n",
    "dcdt = np.array([\n",
    "    utils.calc_gaussian_slope(freq_table.delta_freq.std(), sp)\n",
    "    for sp in service_powers\n",
    "])"
   ]
  },
  {
   "cell_type": "markdown",
   "id": "29289e22",
   "metadata": {},
   "source": [
    "This provides our estimate of the rate of change of charge when we are not impacted by specifications for the 2 MW, 5 MW and 10 MW services respectively as"
   ]
  },
  {
   "cell_type": "code",
   "execution_count": 8,
   "id": "2f8ea773",
   "metadata": {},
   "outputs": [
    {
     "name": "stdout",
     "output_type": "stream",
     "text": [
      "The average rate of change of charges: [-3.23914437e-07 -8.09786093e-07 -1.61958050e-06] MW\n"
     ]
    }
   ],
   "source": [
    "print(f\"The average rate of change of charges: {dcdt} MW\")"
   ]
  },
  {
   "cell_type": "markdown",
   "id": "bb980747",
   "metadata": {},
   "source": [
    "Assuming we start with a full battery, the expectation of the charge is then"
   ]
  },
  {
   "cell_type": "code",
   "execution_count": 9,
   "id": "8cc09ba6",
   "metadata": {},
   "outputs": [
    {
     "data": {
      "text/plain": [
       "<matplotlib.legend.Legend at 0x7fe583cbc280>"
      ]
     },
     "execution_count": 9,
     "metadata": {},
     "output_type": "execute_result"
    },
    {
     "data": {
      "image/png": "[encoded data removed]",
      "text/plain": [
       "<Figure size 432x288 with 1 Axes>"
      ]
     },
     "metadata": {
      "needs_background": "light"
     },
     "output_type": "display_data"
    }
   ],
   "source": [
    "days = np.arange(150)\n",
    "plt.plot(days, max_cap + days * (dcdt[0]*(3600.0 * 24.0)), label=\"2 MW\")\n",
    "plt.plot(days, max_cap + days * (dcdt[1]*(3600.0 * 24.0)), label=\"5 MW\")\n",
    "plt.plot(days, max_cap + days * (dcdt[2]*(3600.0 * 24.0)), label=\"10 MW\")\n",
    "plt.axhline(0, color='red', label=\"empty battery\")\n",
    "plt.ylabel(\"Charge / MWh\")\n",
    "plt.xlabel(\"days\")\n",
    "plt.xlim([0, 150])\n",
    "plt.ylim([-0.5, max_cap + 0.5])\n",
    "plt.legend()\n"
   ]
  },
  {
   "cell_type": "markdown",
   "id": "edb16604",
   "metadata": {},
   "source": [
    "## Incuding stochasticity\n",
    "\n",
    "Now we follow the more realistic approach and generate a suite of simulations using the two-point correlation of the frequency data, which capatures temporal correlations.\n",
    "\n",
    "Note that we the generation of the simulations is discussed in detail in the `modelling_frequency_data` notebook.\n",
    "\n",
    "We start by calculating the covariance of $\\delta f$ as a function of temporal separation"
   ]
  },
  {
   "cell_type": "code",
   "execution_count": 48,
   "id": "5e41d524",
   "metadata": {},
   "outputs": [
    {
     "data": {
      "application/vnd.jupyter.widget-view+json": {
       "model_id": "a665b24785e54aa5b51727ef49482ced",
       "version_major": 2,
       "version_minor": 0
      },
      "text/plain": [
       "  0%|          | 0/600 [00:00<?, ?it/s]"
      ]
     },
     "metadata": {},
     "output_type": "display_data"
    }
   ],
   "source": [
    "# Simulate in blocks of this number of seconds (This is selected to keep bias in the noise below 5%)\n",
    "block_length = 36000\n",
    "\n",
    "# Here, we calculate the covariance of the data as a function of temporal separation\n",
    "real_space_cov = utils.temporal_covariance(freq_table, max_sep=block_length, step=60)"
   ]
  },
  {
   "cell_type": "markdown",
   "id": "a4758dd2",
   "metadata": {},
   "source": [
    "Next, we set the number of realisations and the time step to sample data at. We are currently using a fairly large time step to speed things up, but we verified that sampling at this scale should not cause significant increases in the uncertainty estimates due to the level of correlation at smaller scales."
   ]
  },
  {
   "cell_type": "code",
   "execution_count": 49,
   "id": "c44636fe",
   "metadata": {},
   "outputs": [],
   "source": [
    "# This is the number of realisations.\n",
    "nreals = 500\n",
    "# We sample the time (this may affect the noise properties)\n",
    "time_step = 600\n",
    "# Number of days to simulate\n",
    "num_days = 400"
   ]
  },
  {
   "cell_type": "markdown",
   "id": "805deb80",
   "metadata": {},
   "source": [
    "Now we create independent simulations for the three service powers. These simulate how the charge of the batteries changes over time, without considering the capacity of the battery. These will then be used to see where the different realisations hit capacity or reach zero. \n",
    "\n",
    "Note, we output results for the `high`, `low` and `both` scenarios."
   ]
  },
  {
   "cell_type": "code",
   "execution_count": 50,
   "id": "ac6eed07",
   "metadata": {},
   "outputs": [
    {
     "name": "stdout",
     "output_type": "stream",
     "text": [
      "creating simulation for service power 2\n",
      "creating simulation for service power 5\n",
      "creating simulation for service power 10\n"
     ]
    }
   ],
   "source": [
    "summaries, reals = utils.simulations_for_anaylsis(\n",
    "    real_space_cov,\n",
    "    service_powers,\n",
    "    nreals,\n",
    "    time_step,\n",
    "    num_days=num_days,\n",
    "    block_length=block_length,\n",
    "    max_discharge_rate=max_discharge_rate,\n",
    "    max_charge_rate=max_charge_rate,\n",
    "    charge_efficiency=charge_efficiency\n",
    ")"
   ]
  },
  {
   "cell_type": "markdown",
   "id": "71cac9b7",
   "metadata": {},
   "source": [
    "We can select a date to look at the distribution of charges over the realisations. "
   ]
  },
  {
   "cell_type": "code",
   "execution_count": 51,
   "id": "62509f84",
   "metadata": {},
   "outputs": [],
   "source": [
    "day = 10 # We will look at the start of day 10\n",
    "sp = 2 # the service power to look at\n",
    "\n",
    "keep_charge = int(day*86400/time_step)\n",
    "samp_charge = []\n",
    "\n",
    "for s in reals[sp]:\n",
    "    \n",
    "    samp_charge.append(float(reals[sp][s].iloc[keep_charge].culm_charge))"
   ]
  },
  {
   "cell_type": "code",
   "execution_count": 52,
   "id": "24ed10cb",
   "metadata": {},
   "outputs": [
    {
     "data": {
      "text/plain": [
       "<matplotlib.legend.Legend at 0x7fe482a8d9d0>"
      ]
     },
     "execution_count": 52,
     "metadata": {},
     "output_type": "execute_result"
    },
    {
     "data": {
      "image/png": "[encoded data removed]",
      "text/plain": [
       "<Figure size 432x288 with 1 Axes>"
      ]
     },
     "metadata": {
      "needs_background": "light"
     },
     "output_type": "display_data"
    }
   ],
   "source": [
    "hist = plt.hist(0.5*max_cap + np.array(samp_charge), bins=20, label=f\"{sp} MW SP at day {day}\")\n",
    "plt.xlabel(\"dispersion of charge at given time over the realisations\")\n",
    "plt.legend()"
   ]
  },
  {
   "cell_type": "markdown",
   "id": "65925d4e",
   "metadata": {},
   "source": [
    "We will now find the intial charge that provides the longest expected time before fully charging or running out of charge"
   ]
  },
  {
   "cell_type": "code",
   "execution_count": 53,
   "id": "56b218d3",
   "metadata": {},
   "outputs": [],
   "source": [
    "service_power = 10\n",
    "num_charge_steps = 21\n",
    "min_charge_lim = 2 # This is the lower bound of the optimisation\n",
    "max_charge_lim = 4 # This is the upper bound of the optimisation"
   ]
  },
  {
   "cell_type": "code",
   "execution_count": 54,
   "id": "5f55d25e",
   "metadata": {},
   "outputs": [],
   "source": [
    "E_best, d_mean, E_arr = utils.find_E0_for_max_time(\n",
    "    reals,\n",
    "    service_power,\n",
    "    max_cap=max_cap,\n",
    "    min_charge_lim=min_charge_lim,\n",
    "    max_charge_lim=max_charge_lim,\n",
    "    num_charge_steps=num_charge_steps,\n",
    "    poly_deg=8\n",
    ")"
   ]
  },
  {
   "cell_type": "markdown",
   "id": "44701938",
   "metadata": {},
   "source": [
    "This is a simple optimsation that uses polyfit to fit a curve to the mean termination date as a function of the intial charge, as shown below"
   ]
  },
  {
   "cell_type": "code",
   "execution_count": 55,
   "id": "ec52b23b",
   "metadata": {},
   "outputs": [],
   "source": [
    "res = np.polyfit(E_arr, d_mean, deg=8)"
   ]
  },
  {
   "cell_type": "code",
   "execution_count": 56,
   "id": "7ddcea58",
   "metadata": {
    "scrolled": true
   },
   "outputs": [
    {
     "data": {
      "text/plain": [
       "[<matplotlib.lines.Line2D at 0x7fe48ef4eaf0>]"
      ]
     },
     "execution_count": 56,
     "metadata": {},
     "output_type": "execute_result"
    },
    {
     "data": {
      "image/png": "[encoded data removed]",
      "text/plain": [
       "<Figure size 432x288 with 1 Axes>"
      ]
     },
     "metadata": {
      "needs_background": "light"
     },
     "output_type": "display_data"
    }
   ],
   "source": [
    "plt.plot(E_arr, d_mean)\n",
    "plt.plot(E_arr, np.poly1d(res)(E_arr))"
   ]
  },
  {
   "cell_type": "markdown",
   "id": "82b39c59",
   "metadata": {},
   "source": [
    "The best starting point is then"
   ]
  },
  {
   "cell_type": "code",
   "execution_count": 57,
   "id": "03aaad6f",
   "metadata": {},
   "outputs": [
    {
     "name": "stdout",
     "output_type": "stream",
     "text": [
      "C_0 = 2.6 MWh\n"
     ]
    }
   ],
   "source": [
    "print(f\"C_0 = {E_best} MWh\")"
   ]
  },
  {
   "cell_type": "markdown",
   "id": "a60945d3",
   "metadata": {},
   "source": [
    "This gives the expected best date"
   ]
  },
  {
   "cell_type": "code",
   "execution_count": 58,
   "id": "6bdb1755",
   "metadata": {},
   "outputs": [
    {
     "name": "stdout",
     "output_type": "stream",
     "text": [
      "12.11 days\n"
     ]
    }
   ],
   "source": [
    "dates = utils.max_date_func(E_best, reals, service_power, max_cap)*time_step /(3600.0 * 24.0)\n",
    "\n",
    "print(f\"{np.round(np.mean(dates), 2)} days\")"
   ]
  },
  {
   "cell_type": "markdown",
   "id": "8fe2496b",
   "metadata": {},
   "source": [
    "Let's look at a histogram of the termination dates over the realisations"
   ]
  },
  {
   "cell_type": "code",
   "execution_count": 59,
   "id": "acccdfbd",
   "metadata": {},
   "outputs": [
    {
     "data": {
      "text/plain": [
       "Text(0, 0.5, 'N')"
      ]
     },
     "execution_count": 59,
     "metadata": {},
     "output_type": "execute_result"
    },
    {
     "data": {
      "image/png": "[encoded data removed]",
      "text/plain": [
       "<Figure size 432x288 with 1 Axes>"
      ]
     },
     "metadata": {
      "needs_background": "light"
     },
     "output_type": "display_data"
    }
   ],
   "source": [
    "hist = plt.hist(dates, bins=20)\n",
    "plt.xlabel(\"days\")\n",
    "plt.ylabel(\"N\")"
   ]
  },
  {
   "cell_type": "markdown",
   "id": "8efa0d35",
   "metadata": {},
   "source": [
    "From this, we can see that there is a large dispersion in the simulations.\n",
    "\n",
    "Lets run this for all three service powers and look at the 95% confidence intervals, running with the three flavours - `both`, `high` and `low`"
   ]
  },
  {
   "cell_type": "code",
   "execution_count": 60,
   "id": "a3f6afcc",
   "metadata": {},
   "outputs": [],
   "source": [
    "results_both = utils.service_power_loop(\n",
    "    reals,\n",
    "    service_powers,\n",
    "    max_cap=max_cap,\n",
    "    time_step=time_step,\n",
    "    min_charge_lim=min_charge_lim,\n",
    "    max_charge_lim=max_charge_lim,\n",
    "    num_charge_steps=num_charge_steps,\n",
    "    poly_deg=8,\n",
    "    verbose=False,\n",
    ")"
   ]
  },
  {
   "cell_type": "code",
   "execution_count": 61,
   "id": "59f1a5ea",
   "metadata": {},
   "outputs": [],
   "source": [
    "results_low = utils.service_power_loop(\n",
    "    reals,\n",
    "    service_powers,\n",
    "    max_cap=max_cap,\n",
    "    time_step=time_step,\n",
    "    min_charge_lim=min_charge_lim,\n",
    "    max_charge_lim=max_charge_lim,\n",
    "    num_charge_steps=num_charge_steps,\n",
    "    service='low',\n",
    "    verbose=False\n",
    ")"
   ]
  },
  {
   "cell_type": "code",
   "execution_count": 62,
   "id": "96daa25a",
   "metadata": {},
   "outputs": [],
   "source": [
    "results_high = utils.service_power_loop(\n",
    "    reals,\n",
    "    service_powers,\n",
    "    max_cap=max_cap,\n",
    "    time_step=time_step,\n",
    "    min_charge_lim=min_charge_lim,\n",
    "    max_charge_lim=max_charge_lim,\n",
    "    num_charge_steps=num_charge_steps,\n",
    "    service='high',\n",
    "    verbose=False\n",
    ")"
   ]
  },
  {
   "cell_type": "code",
   "execution_count": 63,
   "id": "c2938229",
   "metadata": {},
   "outputs": [
    {
     "data": {
      "text/html": [
       "<div>\n",
       "<style scoped>\n",
       "    .dataframe tbody tr th:only-of-type {\n",
       "        vertical-align: middle;\n",
       "    }\n",
       "\n",
       "    .dataframe tbody tr th {\n",
       "        vertical-align: top;\n",
       "    }\n",
       "\n",
       "    .dataframe thead th {\n",
       "        text-align: right;\n",
       "    }\n",
       "</style>\n",
       "<table border=\"1\" class=\"dataframe\">\n",
       "  <thead>\n",
       "    <tr style=\"text-align: right;\">\n",
       "      <th></th>\n",
       "      <th>Initial Charge</th>\n",
       "      <th>Expected Termination Date</th>\n",
       "      <th>95.0% Confidence Interval</th>\n",
       "    </tr>\n",
       "  </thead>\n",
       "  <tbody>\n",
       "    <tr>\n",
       "      <th>2MW - both</th>\n",
       "      <td>3.3</td>\n",
       "      <td>114.62 days</td>\n",
       "      <td>33.24 - 229.12 days</td>\n",
       "    </tr>\n",
       "    <tr>\n",
       "      <th>5MW - both</th>\n",
       "      <td>2.9</td>\n",
       "      <td>36.07 days</td>\n",
       "      <td>4.92 - 91.97 days</td>\n",
       "    </tr>\n",
       "    <tr>\n",
       "      <th>10MW - both</th>\n",
       "      <td>2.6</td>\n",
       "      <td>12.11 days</td>\n",
       "      <td>2.13 - 35.49 days</td>\n",
       "    </tr>\n",
       "    <tr>\n",
       "      <th>2MW - high</th>\n",
       "      <td>0.0</td>\n",
       "      <td>15.9 days</td>\n",
       "      <td>14.29 - 17.64 days</td>\n",
       "    </tr>\n",
       "    <tr>\n",
       "      <th>5MW - high</th>\n",
       "      <td>0.0</td>\n",
       "      <td>6.39 days</td>\n",
       "      <td>5.29 - 7.5 days</td>\n",
       "    </tr>\n",
       "    <tr>\n",
       "      <th>10MW - high</th>\n",
       "      <td>0.0</td>\n",
       "      <td>3.23 days</td>\n",
       "      <td>2.49 - 4.01 days</td>\n",
       "    </tr>\n",
       "    <tr>\n",
       "      <th>2MW - low</th>\n",
       "      <td>4.0</td>\n",
       "      <td>14.37 days</td>\n",
       "      <td>12.87 - 16.07 days</td>\n",
       "    </tr>\n",
       "    <tr>\n",
       "      <th>5MW - low</th>\n",
       "      <td>4.0</td>\n",
       "      <td>5.74 days</td>\n",
       "      <td>4.72 - 6.85 days</td>\n",
       "    </tr>\n",
       "    <tr>\n",
       "      <th>10MW - low</th>\n",
       "      <td>4.0</td>\n",
       "      <td>2.86 days</td>\n",
       "      <td>2.15 - 3.63 days</td>\n",
       "    </tr>\n",
       "  </tbody>\n",
       "</table>\n",
       "</div>"
      ],
      "text/plain": [
       "             Initial Charge Expected Termination Date  \\\n",
       "2MW - both              3.3              114.62 days    \n",
       "5MW - both              2.9               36.07 days    \n",
       "10MW - both             2.6               12.11 days    \n",
       "2MW - high              0.0                15.9 days    \n",
       "5MW - high              0.0                6.39 days    \n",
       "10MW - high             0.0                3.23 days    \n",
       "2MW - low               4.0               14.37 days    \n",
       "5MW - low               4.0                5.74 days    \n",
       "10MW - low              4.0                2.86 days    \n",
       "\n",
       "            95.0% Confidence Interval  \n",
       "2MW - both        33.24 - 229.12 days  \n",
       "5MW - both          4.92 - 91.97 days  \n",
       "10MW - both         2.13 - 35.49 days  \n",
       "2MW - high         14.29 - 17.64 days  \n",
       "5MW - high            5.29 - 7.5 days  \n",
       "10MW - high          2.49 - 4.01 days  \n",
       "2MW - low          12.87 - 16.07 days  \n",
       "5MW - low            4.72 - 6.85 days  \n",
       "10MW - low           2.15 - 3.63 days  "
      ]
     },
     "execution_count": 63,
     "metadata": {},
     "output_type": "execute_result"
    }
   ],
   "source": [
    "pd.concat([results_both[\"table\"], results_high[\"table\"], results_low[\"table\"]])"
   ]
  },
  {
   "cell_type": "markdown",
   "id": "db7dc6fe",
   "metadata": {},
   "source": [
    "We have already stated that the 10MW service cannot be achieved given the batter specifications. Also, the battery can only provide the `low` flavour due to the limitation of the maximum charge rate.\n",
    "\n",
    "We also see that the confidence interval is very large "
   ]
  },
  {
   "cell_type": "code",
   "execution_count": 74,
   "id": "5af4747f",
   "metadata": {},
   "outputs": [],
   "source": [
    "max_cap_arr = np.linspace(2, 6, num=11)\n",
    "\n",
    "service_power = 2\n",
    "num_charge_steps = 9\n",
    "\n",
    "fit_conf = 0.95\n",
    "\n",
    "results = utils.loop_max_cap(\n",
    "    reals,\n",
    "    max_cap_arr,\n",
    "    service_power,\n",
    "    time_step,\n",
    "    num_charge_steps,\n",
    "    service=\"both\",\n",
    "    poly_deg=8\n",
    ")"
   ]
  },
  {
   "cell_type": "code",
   "execution_count": 75,
   "id": "5dd28b96",
   "metadata": {},
   "outputs": [
    {
     "name": "stdout",
     "output_type": "stream",
     "text": [
      "Service power = 2\n"
     ]
    },
    {
     "data": {
      "text/plain": [
       "Text(0.5, 0, 'max capacity')"
      ]
     },
     "execution_count": 75,
     "metadata": {},
     "output_type": "execute_result"
    },
    {
     "data": {
      "image/png": "[encoded data removed]",
      "text/plain": [
       "<Figure size 720x288 with 2 Axes>"
      ]
     },
     "metadata": {
      "needs_background": "light"
     },
     "output_type": "display_data"
    }
   ],
   "source": [
    "print(f\"Service power = {service_power}\")\n",
    "\n",
    "fig = plt.figure(figsize=(10,4))\n",
    "fig.subplots_adjust(hspace=0.4, wspace=0.3)\n",
    "ax = fig.add_subplot(1, 2, 1)\n",
    "\n",
    "plt.plot(max_cap_arr, results[\"exp_dates\"], color='red', label=\"Expected termination\")\n",
    "plt.fill_between(\n",
    "    max_cap_arr,\n",
    "    results[\"upper_limits\"],\n",
    "    results[\"lower_limits\"],\n",
    "    alpha=0.5,\n",
    "    label=f\"{int(np.round(100*fit_conf))}% Confindence\"\n",
    ")\n",
    "plt.ylabel(\"$t$ / days\")\n",
    "plt.xlabel(\"max capacity\")\n",
    "plt.legend(loc='upper left')\n",
    "\n",
    "plt.subplot(1, 2, 2)\n",
    "plt.plot(max_cap_arr, (results[\"upper_limits\"]-results[\"lower_limits\"])/results[\"exp_dates\"])\n",
    "plt.ylabel(\"$\\Delta t/t$\")\n",
    "plt.xlabel(\"max capacity\")"
   ]
  },
  {
   "cell_type": "code",
   "execution_count": 68,
   "id": "5e5d97c9",
   "metadata": {},
   "outputs": [],
   "source": [
    "max_cap_arr = np.linspace(2, 20, num=10)\n",
    "\n",
    "service_power = 2\n",
    "num_charge_steps = 5\n",
    "\n",
    "fit_conf = 0.95\n",
    "\n",
    "results = utils.loop_max_cap(\n",
    "    reals,\n",
    "    max_cap_arr,\n",
    "    service_power,\n",
    "    time_step,\n",
    "    num_charge_steps,\n",
    "    service=\"low\",\n",
    "    poly_deg=8\n",
    ")"
   ]
  },
  {
   "cell_type": "code",
   "execution_count": 69,
   "id": "1211c740",
   "metadata": {},
   "outputs": [
    {
     "name": "stdout",
     "output_type": "stream",
     "text": [
      "Service power = 2\n"
     ]
    },
    {
     "data": {
      "text/plain": [
       "Text(0.5, 0, 'max capacity')"
      ]
     },
     "execution_count": 69,
     "metadata": {},
     "output_type": "execute_result"
    },
    {
     "data": {
      "image/png": "[encoded data removed]",
      "text/plain": [
       "<Figure size 720x288 with 2 Axes>"
      ]
     },
     "metadata": {
      "needs_background": "light"
     },
     "output_type": "display_data"
    }
   ],
   "source": [
    "print(f\"Service power = {service_power}\")\n",
    "\n",
    "fig = plt.figure(figsize=(10,4))\n",
    "fig.subplots_adjust(hspace=0.4, wspace=0.3)\n",
    "ax = fig.add_subplot(1, 2, 1)\n",
    "\n",
    "plt.plot(max_cap_arr, results[\"exp_dates\"], color='red', label=\"Expected termination\")\n",
    "plt.fill_between(\n",
    "    max_cap_arr,\n",
    "    results[\"upper_limits\"],\n",
    "    results[\"lower_limits\"],\n",
    "    alpha=0.5,\n",
    "    label=f\"{int(np.round(100*fit_conf))}% Confindence\"\n",
    ")\n",
    "plt.ylabel(\"$t$ / days\")\n",
    "plt.xlabel(\"max capacity\")\n",
    "plt.legend(loc='upper left')\n",
    "\n",
    "plt.subplot(1, 2, 2)\n",
    "plt.plot(max_cap_arr, (results[\"upper_limits\"]-results[\"lower_limits\"])/results[\"exp_dates\"])\n",
    "plt.ylabel(\"$\\Delta t/t$\")\n",
    "plt.xlabel(\"max capacity\")"
   ]
  },
  {
   "cell_type": "code",
   "execution_count": null,
   "id": "3cf6d388",
   "metadata": {},
   "outputs": [],
   "source": []
  },
  {
   "cell_type": "code",
   "execution_count": null,
   "id": "0639be39",
   "metadata": {},
   "outputs": [],
   "source": []
  }
 ],
 "metadata": {
  "kernelspec": {
   "display_name": "my_env",
   "language": "python",
   "name": "my_env"
  },
  "language_info": {
   "codemirror_mode": {
    "name": "ipython",
    "version": 3
   },
   "file_extension": ".py",
   "mimetype": "text/x-python",
   "name": "python",
   "nbconvert_exporter": "python",
   "pygments_lexer": "ipython3",
   "version": "3.8.8"
  }
 },
 "nbformat": 4,
 "nbformat_minor": 5
}
