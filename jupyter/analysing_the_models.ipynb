{
 "cells": [
  {
   "cell_type": "markdown",
   "id": "c0ab80d3",
   "metadata": {},
   "source": [
    "# Analysing the models\n",
    "\n",
    "In this notebook, we use the simulations developed in the `modelling_the_data` notebook to investigate the characteristics of the battery.\n",
    "\n",
    "We look at how the charge behaves over time, and also what initial charge is best. We also use the simulations to investigate the uncertainty associated with how long it takes the battery charge to either reach zero or max capacity."
   ]
  },
  {
   "cell_type": "code",
   "execution_count": 1,
   "id": "273839cd",
   "metadata": {},
   "outputs": [],
   "source": [
    "import pandas as pd\n",
    "from datetime import timedelta, date\n",
    "import matplotlib.pyplot as plt\n",
    "import numpy as np\n",
    "from scipy import signal\n",
    "from scipy import special\n",
    "import openturns as ot\n",
    "from scipy.optimize import least_squares\n",
    "from scipy.optimize import minimize\n",
    "import warnings\n",
    "from scipy.interpolate import interp1d\n",
    "warnings.filterwarnings('ignore')\n",
    "from tqdm.notebook import tqdm\n",
    "\n",
    "from dynamic_containment import utils\n",
    "\n",
    "plt.rcParams['text.usetex'] = False"
   ]
  },
  {
   "cell_type": "markdown",
   "id": "875c472f",
   "metadata": {},
   "source": [
    "The goal in this notebook is to investigate how dynamic containment can be used to complement a power grid when frequency deviates from 50 Hz in the grid changes.\n",
    "\n",
    "We assume three different battery service powers for our service: 2 MW, 5 MW and 10 MW\n",
    "\n",
    "First, assming white noise, following the discussion in the `modelling_the_data` notebook, we can calculate the expected rate of change of the charge for all three cases.\n",
    "\n",
    "First, we set our parameters"
   ]
  },
  {
   "cell_type": "code",
   "execution_count": 2,
   "id": "4f87e2cc",
   "metadata": {},
   "outputs": [],
   "source": [
    "service_powers = np.array([2, 5, 10])\n",
    "\n",
    "max_cap = 4\n",
    "\n",
    "max_charge_rate = 4.0\n",
    "max_discharge_rate = 5.0\n",
    "\n",
    "max_percent = max_charge_rate / service_powers\n",
    "min_percent = max_discharge_rate / service_powers\n",
    "\n",
    "alpha = 0.95/0.3\n",
    "ccharge = 1 - 0.5 * alpha\n",
    "    \n",
    "delta_freq_max = (max_percent - ccharge) / alpha\n",
    "delta_freq_min = -(min_percent - ccharge) / alpha"
   ]
  },
  {
   "cell_type": "markdown",
   "id": "82d1c883",
   "metadata": {},
   "source": [
    "To calculate the level of white noise, we can use the data for our variance. Note, we are using the original data to cteate our simulations. In this notebook we do not cut the data, since missing data does not impact the covariance, but cutting and moving data around will likely affect it."
   ]
  },
  {
   "cell_type": "code",
   "execution_count": 3,
   "id": "723c62d9",
   "metadata": {},
   "outputs": [],
   "source": [
    "freq_table = utils.read_and_clean()"
   ]
  },
  {
   "cell_type": "markdown",
   "id": "de14df79",
   "metadata": {},
   "source": [
    "## The expectation value of the charge\n",
    "\n",
    "We showed in the `modelling_the_data` notebook that the mean value of the frequency is consistent with 50 Hz.\n",
    "\n",
    "We also demonstrated that assuming only Gaussian noise does a good job when predicting the expectation value of the charge of the battery when we ignore the limits of maximum capacity and an empty battery. We start with these assumptions that, since Gaussian noise requires only an estimate of the variance, and so is less impacted by uncertainty. The expected charge at time $t$ is then given by the recursive function\n",
    "\n",
    "\\begin{equation}\n",
    "\\left<C_t\\right>=C_{t-1}+\\Delta t\\int^{\\infty}_{-\\infty} P_{\\delta f}\\left(\\delta f\\right|\\sigma_{\\delta f}^2)y(\\delta f)\\,\\mathrm{d}\\delta f\n",
    "\\end{equation}\n",
    "\n",
    "where $\\delta f=f-50$ Hz and $P_{\\delta f}$ is a Normal distribution, with zero mean and variance $\\sigma_{\\delta f}^2$. $y(\\delta f)$ is the peicewise linear function describing the response of the battery charge to $\\delta f$, where we include the battery specifications. The charge at $t=0$, $C_0$ is the initial charge of the battery.\n",
    "\n",
    "Here, we have made the assumption that $\\delta f$ is unbound. Let's look at this assumption\n"
   ]
  },
  {
   "cell_type": "code",
   "execution_count": 4,
   "id": "f5f9c209",
   "metadata": {},
   "outputs": [
    {
     "name": "stdout",
     "output_type": "stream",
     "text": [
      "For the uncut data, the standard deviation of the frequency is 0.06 Hz\n"
     ]
    }
   ],
   "source": [
    "print(f\"For the uncut data, the standard deviation of the frequency is {np.round(freq_table.delta_freq.std(), 3)} Hz\")"
   ]
  },
  {
   "cell_type": "code",
   "execution_count": 5,
   "id": "5d257af2",
   "metadata": {},
   "outputs": [
    {
     "name": "stdout",
     "output_type": "stream",
     "text": [
      "Respectively for the 2 MW, 5 MW and 10 MW service powers\n",
      "\n",
      "\tThe maximum charge rates are at 200.0 percent, 80.0 percent, and 40.0 percent\n",
      "\tThese are when delta freq are [0.82 0.44 0.31] Hz\n",
      "\n",
      "\tThe maximum discharge rates are at 250.0 percent, 100.0 percent, and 50.0 percent\n",
      "\tThese are when delta freq are [-0.97 -0.5  -0.34] Hz\n"
     ]
    }
   ],
   "source": [
    "print(\"Respectively for the 2 MW, 5 MW and 10 MW service powers\\n\")\n",
    "print(\"\\tThe maximum charge rates are at %s percent, %s percent, and %s percent\" % tuple(100*max_percent))\n",
    "print(f\"\\tThese are when delta freq are {np.round(delta_freq_max, 2)} Hz\\n\")\n",
    "print(f\"\\tThe maximum discharge rates are at %s percent, %s percent, and %s percent\" % tuple(100*min_percent))\n",
    "print(f\"\\tThese are when delta freq are {np.round(delta_freq_min, 2)} Hz\")"
   ]
  },
  {
   "cell_type": "code",
   "execution_count": 11,
   "id": "030c8226",
   "metadata": {},
   "outputs": [
    {
     "name": "stdout",
     "output_type": "stream",
     "text": [
      "For the 10 MW case, where the maximum and minimum charge rates are at the lowest frequencies, we expect these charge rates to be hit, on average, every 91.54 days\n"
     ]
    }
   ],
   "source": [
    "print(f\"For the 10 MW case, where the maximum and minimum charge rates are at the lowest frequencies, we expect these charge rates to be hit, on average, every {np.round((1.0/(1.0 - utils.probability_tails(0.31/0.06, 0.34/0.06)))/86400, 2)} days\") "
   ]
  },
  {
   "cell_type": "markdown",
   "id": "8d85b873",
   "metadata": {},
   "source": [
    "The fact that some of the charge and discharge rates are greater than 100 % is an indication that the batter maximum charge and discharge rates are greater than the service power, and so these should be capped at 100 %.\n",
    "\n",
    "For those cases where the rates are lower than 100%, these battery specifications cannot achieve the contract requirements, and these batteries should not be used. For the 5 MW case, where the maximum discharge rate is 100%, but the charge rate is 80%, this can fill the contract of a `low` service. The 10 MW case cannot fulfill the requirements of either service contract.\n",
    "\n",
    "It is clear the magnitude of the minimum and maximum values of the frequencies in all cases is > 5 $\\sigma_{\\delta f}$, and so, when calculating the expectation of change in charge, it is reasonable to assume that the integral is unbound. However, it should be noted that, given the length of time that the battery runs, these frequencies may occur. Assuming normal distributed \n",
    "\n",
    "The integral above gives us the rate of change of charge\n",
    "\n",
    "\\begin{equation}\n",
    "\\frac{\\mathrm{d}C}{\\mathrm{d}t}=\\int^{\\infty}_{-\\infty} P_{\\delta f}\\left(\\delta f\\right|\\sigma_{\\delta f}^2)y(\\delta f)\\,\\mathrm{d}\\delta f\n",
    "\\end{equation}"
   ]
  },
  {
   "cell_type": "code",
   "execution_count": 12,
   "id": "e39d5163",
   "metadata": {},
   "outputs": [],
   "source": [
    "dcdt = np.array([\n",
    "    utils.calc_gaussian_slope(freq_table.delta_freq.std(), sp)\n",
    "    for sp in service_powers\n",
    "])"
   ]
  },
  {
   "cell_type": "markdown",
   "id": "29289e22",
   "metadata": {},
   "source": [
    "This provides our estimate of the rate of change when we are not impacted by specifications as"
   ]
  },
  {
   "cell_type": "code",
   "execution_count": 13,
   "id": "2f8ea773",
   "metadata": {},
   "outputs": [
    {
     "name": "stdout",
     "output_type": "stream",
     "text": [
      "The average rate of change of charges are [-3.23914437e-07 -8.09786093e-07 -1.61958050e-06] MW\n"
     ]
    }
   ],
   "source": [
    "print(f\"The average rate of change of charges are {dcdt} MW\")"
   ]
  },
  {
   "cell_type": "markdown",
   "id": "94baeaa7",
   "metadata": {},
   "source": [
    "For the 2 MW, 5 MW and 10 MW services respectively"
   ]
  },
  {
   "cell_type": "code",
   "execution_count": 65,
   "id": "8cc09ba6",
   "metadata": {},
   "outputs": [
    {
     "data": {
      "text/plain": [
       "<matplotlib.legend.Legend at 0x7fcec3e62a60>"
      ]
     },
     "execution_count": 65,
     "metadata": {},
     "output_type": "execute_result"
    },
    {
     "data": {
      "image/png": "[encoded data removed]",
      "text/plain": [
       "<Figure size 432x288 with 1 Axes>"
      ]
     },
     "metadata": {
      "needs_background": "light"
     },
     "output_type": "display_data"
    }
   ],
   "source": [
    "days = np.arange(150)\n",
    "plt.plot(days, max_cap + days * (dcdt[0]*(3600.0 * 24.0)), label=\"2 MW\")\n",
    "plt.plot(days, max_cap + days * (dcdt[1]*(3600.0 * 24.0)), label=\"5 MW\")\n",
    "plt.plot(days, max_cap + days * (dcdt[2]*(3600.0 * 24.0)), label=\"10 MW\")\n",
    "plt.axhline(0, color='red', label=\"empty battery\")\n",
    "plt.ylabel(\"Charge / MWh\")\n",
    "plt.xlabel(\"days\")\n",
    "plt.xlim([0, 150])\n",
    "plt.ylim([-0.5, max_cap + 0.5])\n",
    "plt.legend()\n"
   ]
  },
  {
   "cell_type": "markdown",
   "id": "edb16604",
   "metadata": {},
   "source": [
    "## Incuding stochasticity\n",
    "\n",
    "Now we follow the more realistic approach and generate a suite of simulations using the two-point correlation of the frequency data, which capatures temporal correlations.\n",
    "\n",
    "We start by calculating the covariance matrix..."
   ]
  },
  {
   "cell_type": "code",
   "execution_count": 66,
   "id": "5e41d524",
   "metadata": {},
   "outputs": [
    {
     "data": {
      "application/vnd.jupyter.widget-view+json": {
       "model_id": "15a94424e0094f7db4f00ab97c5e42d2",
       "version_major": 2,
       "version_minor": 0
      },
      "text/plain": [
       "  0%|          | 0/181 [00:00<?, ?it/s]"
      ]
     },
     "metadata": {},
     "output_type": "display_data"
    }
   ],
   "source": [
    "# Here, we calculate the covariance of the data as a function of temporal separation\n",
    "real_space_cov = utils.temporal_covariance(freq_table, max_sep=10801, step=60)"
   ]
  },
  {
   "cell_type": "markdown",
   "id": "28714438",
   "metadata": {},
   "source": [
    "Next, we set the number of realisations and the time step to sample data at. We are currently using a fairly large time step to speed things up, but we verified that sampling at this scale should not cause significant increases in the uncertainty estimates due to the level of correlation at smaller scales."
   ]
  },
  {
   "cell_type": "code",
   "execution_count": 67,
   "id": "c44636fe",
   "metadata": {},
   "outputs": [],
   "source": [
    "# This is the number of realisations.\n",
    "nreals = 200\n",
    "# We sample the time (this may affect the noise properties)\n",
    "time_step = 300"
   ]
  },
  {
   "cell_type": "markdown",
   "id": "805deb80",
   "metadata": {},
   "source": [
    "Now we create independent simulations for the three service powers. These simulate the how the charge changes over time, without considering the capacity of the battery. These will then be used to see where the different realisations hit capacity or reach zero. \n",
    "\n",
    "Note, we output the results for the `high`, `low` and `both` scenarios."
   ]
  },
  {
   "cell_type": "code",
   "execution_count": 68,
   "id": "ac6eed07",
   "metadata": {},
   "outputs": [
    {
     "name": "stdout",
     "output_type": "stream",
     "text": [
      "creating simulation for service power 2\n",
      "creating simulation for service power 5\n",
      "creating simulation for service power 10\n"
     ]
    }
   ],
   "source": [
    "summaries, reals = utils.simulations_for_anaylsis(\n",
    "    real_space_cov,\n",
    "    service_powers,\n",
    "    nreals,\n",
    "    time_step,\n",
    "    num_days=400,\n",
    "    block_length=10800,\n",
    "    max_discharge_rate=5,\n",
    "    max_charge_rate=4,\n",
    "    charge_efficiency=0.9\n",
    ")"
   ]
  },
  {
   "cell_type": "markdown",
   "id": "98801a0a",
   "metadata": {},
   "source": [
    "We can select a date to look at the distribution of charges over the realisations. "
   ]
  },
  {
   "cell_type": "code",
   "execution_count": 74,
   "id": "62509f84",
   "metadata": {},
   "outputs": [],
   "source": [
    "day = 10 # We will look at the start of day 10\n",
    "sp = 2 # the service power to look at\n",
    "\n",
    "keep_charge = int(day*86400/time_step)\n",
    "samp_charge = []\n",
    "\n",
    "for s in reals[sp]:\n",
    "    \n",
    "    samp_charge.append(float(reals[sp][s].iloc[keep_charge].culm_charge))"
   ]
  },
  {
   "cell_type": "code",
   "execution_count": 75,
   "id": "24ed10cb",
   "metadata": {},
   "outputs": [
    {
     "data": {
      "text/plain": [
       "<matplotlib.legend.Legend at 0x7fce56a4f8b0>"
      ]
     },
     "execution_count": 75,
     "metadata": {},
     "output_type": "execute_result"
    },
    {
     "data": {
      "image/png": "[encoded data removed]",
      "text/plain": [
       "<Figure size 432x288 with 1 Axes>"
      ]
     },
     "metadata": {
      "needs_background": "light"
     },
     "output_type": "display_data"
    }
   ],
   "source": [
    "hist = plt.hist(0.5*max_cap + np.array(samp_charge), bins=20, label=f\"{sp} MW SP at day {day}\")\n",
    "plt.xlabel(\"dispersion of charge at given time over the realisations\")\n",
    "plt.legend()"
   ]
  },
  {
   "cell_type": "markdown",
   "id": "679fad83",
   "metadata": {},
   "source": [
    "We will now find the intial charge that provides the longest expected time before fully charging or running out of charge"
   ]
  },
  {
   "cell_type": "code",
   "execution_count": 44,
   "id": "56b218d3",
   "metadata": {},
   "outputs": [],
   "source": [
    "service_power = 10\n",
    "num_charge_steps = 81\n",
    "min_charge_lim = 2 # This is the lower bound of the optimisation\n",
    "max_charge_lim = 4 # This is the upper bound of the optimisation"
   ]
  },
  {
   "cell_type": "code",
   "execution_count": 45,
   "id": "5f55d25e",
   "metadata": {},
   "outputs": [],
   "source": [
    "E_best, d_mean, E_arr = utils.find_E0_for_max_time(\n",
    "    reals,\n",
    "    service_power,\n",
    "    max_cap=max_cap,\n",
    "    min_charge_lim=min_charge_lim,\n",
    "    max_charge_lim=max_charge_lim,\n",
    "    num_charge_steps=num_charge_steps,\n",
    "    poly_deg=8\n",
    ")"
   ]
  },
  {
   "cell_type": "markdown",
   "id": "44701938",
   "metadata": {},
   "source": [
    "This is a simple optimsation that uses polyfit to fit a curve to the mean termination date as a function of the intial charge, asshown below"
   ]
  },
  {
   "cell_type": "code",
   "execution_count": 46,
   "id": "ec52b23b",
   "metadata": {},
   "outputs": [],
   "source": [
    "res = np.polyfit(E_arr, d_mean, deg=8)"
   ]
  },
  {
   "cell_type": "code",
   "execution_count": 47,
   "id": "7ddcea58",
   "metadata": {
    "scrolled": true
   },
   "outputs": [
    {
     "data": {
      "text/plain": [
       "[<matplotlib.lines.Line2D at 0x7fcec3d2b9a0>]"
      ]
     },
     "execution_count": 47,
     "metadata": {},
     "output_type": "execute_result"
    },
    {
     "data": {
      "image/png": "[encoded data removed]",
      "text/plain": [
       "<Figure size 432x288 with 1 Axes>"
      ]
     },
     "metadata": {
      "needs_background": "light"
     },
     "output_type": "display_data"
    }
   ],
   "source": [
    "plt.plot(E_arr, d_mean)\n",
    "plt.plot(E_arr, np.poly1d(res)(E_arr))"
   ]
  },
  {
   "cell_type": "markdown",
   "id": "82b39c59",
   "metadata": {},
   "source": [
    "The best starting point is then"
   ]
  },
  {
   "cell_type": "code",
   "execution_count": 48,
   "id": "03aaad6f",
   "metadata": {},
   "outputs": [
    {
     "name": "stdout",
     "output_type": "stream",
     "text": [
      "E_0 = 2.675 MWh\n"
     ]
    }
   ],
   "source": [
    "print(f\"E_0 = {E_best[0]} MWh\")"
   ]
  },
  {
   "cell_type": "markdown",
   "id": "a60945d3",
   "metadata": {},
   "source": [
    "This gives the expected best date"
   ]
  },
  {
   "cell_type": "code",
   "execution_count": 49,
   "id": "6bdb1755",
   "metadata": {},
   "outputs": [
    {
     "name": "stdout",
     "output_type": "stream",
     "text": [
      "14.01 days\n"
     ]
    }
   ],
   "source": [
    "dates = utils.max_date_func(E_best, reals, service_power, max_cap)*time_step /(3600.0 * 24.0)\n",
    "\n",
    "print(f\"{np.round(np.mean(dates), 2)} days\")"
   ]
  },
  {
   "cell_type": "markdown",
   "id": "8fe2496b",
   "metadata": {},
   "source": [
    "Let's look at a histogram"
   ]
  },
  {
   "cell_type": "code",
   "execution_count": 50,
   "id": "acccdfbd",
   "metadata": {},
   "outputs": [
    {
     "data": {
      "text/plain": [
       "Text(0.5, 0, 'days')"
      ]
     },
     "execution_count": 50,
     "metadata": {},
     "output_type": "execute_result"
    },
    {
     "data": {
      "image/png": "[encoded data removed]",
      "text/plain": [
       "<Figure size 432x288 with 1 Axes>"
      ]
     },
     "metadata": {
      "needs_background": "light"
     },
     "output_type": "display_data"
    }
   ],
   "source": [
    "hist = plt.hist(dates, bins=20)\n",
    "plt.xlabel(\"days\")"
   ]
  },
  {
   "cell_type": "markdown",
   "id": "8efa0d35",
   "metadata": {},
   "source": [
    "We see a large dispersion in the simulations.\n",
    "\n",
    "Lets run this for all three service powers"
   ]
  },
  {
   "cell_type": "markdown",
   "id": "d5b2d1e0",
   "metadata": {},
   "source": []
  },
  {
   "cell_type": "code",
   "execution_count": 59,
   "id": "2d3ac985",
   "metadata": {},
   "outputs": [
    {
     "name": "stdout",
     "output_type": "stream",
     "text": [
      "For service power 2 MW\n",
      "\tThe expected date of termination is 119.42 days\n",
      "\tThe 95.0% confidence interval is 32.82 - 209.1 days\n",
      "\tWith initial charge = 3.5250000000000004 MWh\n",
      "For service power 5 MW\n",
      "\tThe expected date of termination is 41.47 days\n",
      "\tThe 95.0% confidence interval is 4.07 - 97.11 days\n",
      "\tWith initial charge = 3.2 MWh\n",
      "For service power 10 MW\n",
      "\tThe expected date of termination is 14.01 days\n",
      "\tThe 95.0% confidence interval is 3.22 - 43.87 days\n",
      "\tWith initial charge = 2.675 MWh\n"
     ]
    }
   ],
   "source": [
    "results = utils.service_power_loop(\n",
    "    reals,\n",
    "    service_powers,\n",
    "    max_cap=max_cap,\n",
    "    time_step=time_step,\n",
    "    min_charge_lim=min_charge_lim,\n",
    "    max_charge_lim=max_charge_lim,\n",
    "    num_charge_steps=num_charge_steps,\n",
    "    poly_deg=8,\n",
    "    verbose=True,\n",
    ")"
   ]
  },
  {
   "cell_type": "code",
   "execution_count": 61,
   "id": "ad9bf1f8",
   "metadata": {},
   "outputs": [
    {
     "name": "stdout",
     "output_type": "stream",
     "text": [
      "For service power 2 MW\n",
      "\tThe expected date of termination is 347441.71 days\n",
      "\tThe 95.0% confidence interval is 2.16 - 376.35 days\n",
      "\tWith initial charge = 7.75 MWh\n",
      "For service power 5 MW\n",
      "\tThe expected date of termination is 95.79 days\n",
      "\tThe 95.0% confidence interval is 11.16 - 167.78 days\n",
      "\tWith initial charge = 7.0 MWh\n",
      "For service power 10 MW\n",
      "\tThe expected date of termination is 37.31 days\n",
      "\tThe 95.0% confidence interval is 5.87 - 84.73 days\n",
      "\tWith initial charge = 6.4 MWh\n"
     ]
    }
   ],
   "source": [
    "results = utils.service_power_loop(\n",
    "    reals,\n",
    "    service_powers,\n",
    "    max_cap=max_cap*2.0,\n",
    "    time_step=time_step,\n",
    "    min_charge_lim=min_charge_lim*2.0,\n",
    "    max_charge_lim=max_charge_lim*2.0,\n",
    "    num_charge_steps=num_charge_steps,\n",
    "    poly_deg=8,\n",
    "    verbose=True,\n",
    ")"
   ]
  },
  {
   "cell_type": "code",
   "execution_count": 53,
   "id": "9d86593e",
   "metadata": {},
   "outputs": [
    {
     "name": "stdout",
     "output_type": "stream",
     "text": [
      "For service power 2 MW\n",
      "\tThe expected date of termination is 14.31 days\n",
      "\tThe 95.0% confidence interval is 12.91 - 15.69 days\n",
      "\tWith initial charge = 4 MWh\n",
      "For service power 5 MW\n",
      "\tThe expected date of termination is 5.74 days\n",
      "\tThe 95.0% confidence interval is 4.92 - 6.63 days\n",
      "\tWith initial charge = 4 MWh\n",
      "For service power 10 MW\n",
      "\tThe expected date of termination is 2.85 days\n",
      "\tThe 95.0% confidence interval is 2.32 - 3.59 days\n",
      "\tWith initial charge = 4 MWh\n"
     ]
    }
   ],
   "source": [
    "results = utils.service_power_loop(\n",
    "    reals,\n",
    "    service_powers,\n",
    "    max_cap=max_cap,\n",
    "    time_step=time_step,\n",
    "    min_charge_lim=min_charge_lim,\n",
    "    max_charge_lim=max_charge_lim,\n",
    "    num_charge_steps=num_charge_steps,\n",
    "    service='low'\n",
    ")"
   ]
  },
  {
   "cell_type": "code",
   "execution_count": 54,
   "id": "3b129d46",
   "metadata": {},
   "outputs": [
    {
     "name": "stdout",
     "output_type": "stream",
     "text": [
      "For service power 2 MW\n",
      "\tThe expected date of termination is 15.87 days\n",
      "\tThe 95.0% confidence interval is 14.59 - 17.47 days\n",
      "\tWith initial charge = 0 MWh\n",
      "For service power 5 MW\n",
      "\tThe expected date of termination is 6.34 days\n",
      "\tThe 95.0% confidence interval is 5.51 - 7.28 days\n",
      "\tWith initial charge = 0 MWh\n",
      "For service power 10 MW\n",
      "\tThe expected date of termination is 3.25 days\n",
      "\tThe 95.0% confidence interval is 2.63 - 3.95 days\n",
      "\tWith initial charge = 0 MWh\n"
     ]
    }
   ],
   "source": [
    "results = utils.service_power_loop(\n",
    "    reals,\n",
    "    service_powers,\n",
    "    max_cap=max_cap,\n",
    "    time_step=time_step,\n",
    "    min_charge_lim=min_charge_lim,\n",
    "    max_charge_lim=max_charge_lim,\n",
    "    num_charge_steps=num_charge_steps,\n",
    "    service='high'\n",
    ")"
   ]
  },
  {
   "cell_type": "code",
   "execution_count": 62,
   "id": "69a287d0",
   "metadata": {},
   "outputs": [
    {
     "data": {
      "text/plain": [
       "{2: {'E_best': array([7.75]),\n",
       "  'exp_date': 347441.7053298612,\n",
       "  'date_lower': 2.1631944444444446,\n",
       "  'date_higher': 376.34722222222223,\n",
       "  'dates': array([5.28125000e+00, 2.73864583e+02, 2.18013889e+02, 4.30902778e+00,\n",
       "         1.95770833e+02, 2.70927083e+02, 2.56597222e+02, 2.41118056e+02,\n",
       "         2.73149306e+02, 2.88562500e+02, 3.30527778e+02, 2.09947917e+02,\n",
       "         2.73100694e+02, 2.21173611e+02, 2.28708333e+02, 1.71697917e+02,\n",
       "         3.78131944e+02, 2.58097222e+02, 2.45371528e+02, 2.72159722e+02,\n",
       "         6.22916667e+00, 2.16909722e+02, 3.67732639e+02, 3.23906250e+02,\n",
       "         3.30427083e+02, 3.45027778e+02, 2.29802083e+02, 1.41666667e+00,\n",
       "         3.14309028e+02, 3.12121528e+02, 3.14579861e+02, 7.73611111e+00,\n",
       "         1.28611111e+01, 2.89750000e+02, 2.32097222e+02, 1.88947917e+02,\n",
       "         2.75944444e+02, 2.08673611e+02, 2.44250000e+02, 2.96100694e+02,\n",
       "         1.35902778e+01, 2.24684028e+02, 2.95875000e+02, 3.47222222e+07,\n",
       "         2.50715278e+02, 2.26065972e+02, 3.76347222e+02, 2.51559028e+02,\n",
       "         2.75256944e+02, 1.77555556e+02, 2.04614583e+02, 2.20159722e+02,\n",
       "         3.27180556e+02, 3.43909722e+02, 2.08708333e+02, 2.47690972e+02,\n",
       "         3.47232639e+02, 2.62142361e+02, 2.65288194e+02, 2.35781250e+02,\n",
       "         3.32784722e+02, 2.32902778e+02, 2.74104167e+02, 2.69569444e+02,\n",
       "         2.28125000e+00, 2.16545139e+02, 2.88715278e+02, 2.25114583e+02,\n",
       "         2.68170139e+02, 5.17013889e+00, 2.47597222e+02, 2.41309028e+02,\n",
       "         3.44076389e+02, 2.73229167e+02, 2.16319444e+00, 3.75541667e+02,\n",
       "         4.72916667e+00, 2.38302083e+02, 2.27083333e+00, 1.92246528e+02,\n",
       "         2.86815972e+02, 2.50663194e+02, 2.79986111e+02, 1.05555556e+00,\n",
       "         2.42583333e+02, 1.93961806e+02, 4.86111111e+00, 2.28225694e+02,\n",
       "         2.14215278e+02, 2.65642361e+02, 2.74701389e+02, 3.03069444e+02,\n",
       "         3.04368056e+02, 3.20322917e+02, 3.76128472e+02, 2.45923611e+02,\n",
       "         2.83468750e+02, 2.61961806e+02, 2.25027778e+02, 7.36111111e+00,\n",
       "         2.82704861e+02, 2.31697917e+02, 2.31232639e+02, 2.14902778e+02,\n",
       "         2.10128472e+02, 3.50000000e+00, 2.97635417e+02, 3.13951389e+02,\n",
       "         4.31909722e+01, 2.57920139e+02, 2.23211806e+02, 2.12309028e+02,\n",
       "         3.47222222e+07, 2.70857639e+02, 2.28309028e+02, 2.53875000e+02,\n",
       "         7.50000000e+00, 2.16319444e+00, 2.56364583e+02, 2.38416667e+02,\n",
       "         2.29767361e+02, 2.62215278e+02, 2.75503472e+02, 3.46635417e+02,\n",
       "         3.22944444e+02, 2.13961806e+02, 1.21180556e+01, 2.11079861e+02,\n",
       "         1.70260417e+02, 1.10277778e+01, 1.89413194e+02, 2.70236111e+02,\n",
       "         3.16666667e+00, 3.42413194e+02, 3.08965278e+02, 3.32989583e+02,\n",
       "         2.37590278e+02, 1.65555556e+01, 2.84208333e+02, 2.40354167e+02,\n",
       "         2.55378472e+02, 2.79420139e+02, 2.12111111e+02, 4.81944444e+00,\n",
       "         2.98475694e+02, 3.63972222e+02, 3.42187500e+02, 3.48152778e+02,\n",
       "         2.16954861e+02, 2.77121528e+02, 3.41746528e+02, 4.48263889e+00,\n",
       "         2.40989583e+02, 2.96597222e+02, 3.56562500e+02, 3.33479167e+02,\n",
       "         3.02781250e+02, 1.83645833e+02, 4.07291667e+00, 1.13024306e+02,\n",
       "         1.05451389e+01, 2.33545139e+02, 3.22145833e+02, 1.97239583e+02,\n",
       "         1.96104167e+02, 3.20302083e+02, 2.30309028e+02, 2.67725694e+02,\n",
       "         2.97750000e+02, 2.21840278e+01, 2.32642361e+02, 2.30625000e+01,\n",
       "         3.66590278e+02, 1.38541667e+00, 2.40861111e+02, 6.04861111e+00,\n",
       "         3.59559028e+02, 4.55208333e+00, 2.21354167e+02, 3.37302083e+02,\n",
       "         1.70486111e+00, 1.84170139e+02, 2.38125000e+02, 1.47916667e+00,\n",
       "         2.96531250e+02, 3.22878472e+02, 3.02770833e+02, 1.82375000e+02,\n",
       "         2.38548611e+02, 3.78107639e+02, 1.84781250e+02, 3.30611111e+02,\n",
       "         2.89562500e+02, 2.94250000e+02, 5.10763889e+00, 3.12118056e+02,\n",
       "         2.85489583e+02, 3.02989583e+02, 2.92399306e+02, 2.27302083e+02])},\n",
       " 5: {'E_best': array([7.]),\n",
       "  'exp_date': 95.78612847222223,\n",
       "  'date_lower': 11.159722222222221,\n",
       "  'date_higher': 167.78472222222223,\n",
       "  'dates': array([ 53.35763889, 135.64236111,  67.52777778,  91.96875   ,\n",
       "         167.78472222, 105.36458333,  97.92361111, 103.96180556,\n",
       "         137.85416667,  53.67361111, 106.02083333, 121.67361111,\n",
       "         109.30208333,  69.74305556,  72.76736111,  22.38194444,\n",
       "         147.26736111,  72.72222222,  99.62847222,  99.42361111,\n",
       "         127.35416667,   6.93055556,  94.20486111, 110.39930556,\n",
       "          94.15277778,  92.07986111,  69.26736111,  66.13888889,\n",
       "          83.52777778,  70.10416667, 148.65972222,   2.47916667,\n",
       "         149.85069444, 167.32638889,  88.75      ,  44.36458333,\n",
       "          98.79513889, 124.37847222,  86.04861111, 127.50347222,\n",
       "          72.86805556, 114.94097222,  90.92361111,  44.03472222,\n",
       "         188.12152778,  57.02777778,  95.01388889, 136.89236111,\n",
       "         109.76041667, 134.20486111,  95.12152778, 133.        ,\n",
       "           4.71875   , 148.15625   ,  93.60763889,  80.42013889,\n",
       "          49.13888889,  21.08333333,  64.43402778, 125.5625    ,\n",
       "         162.1875    , 117.96527778,  96.18055556, 129.89930556,\n",
       "         101.86111111,  72.97569444,  16.34375   ,  89.0625    ,\n",
       "          99.28472222,  92.36805556,  95.73611111,  88.76041667,\n",
       "         170.80555556, 119.06597222, 129.28472222,  25.84027778,\n",
       "          65.27777778, 107.44791667,  70.48611111,  96.85763889,\n",
       "         111.17708333, 106.61458333,  96.13888889, 114.29861111,\n",
       "           8.90277778,  75.29513889,  83.43402778,  83.65972222,\n",
       "          94.29861111,  94.09722222,  89.18402778, 142.95138889,\n",
       "         103.60763889,  65.99305556, 138.59027778, 106.88541667,\n",
       "         143.35416667, 122.875     ,  72.95138889, 137.46180556,\n",
       "          68.71527778,  68.0625    ,  96.82638889, 121.13888889,\n",
       "         130.99652778,  97.11111111, 117.50694444,  88.10069444,\n",
       "         125.11458333, 115.06944444, 139.45486111,  99.20138889,\n",
       "          79.07638889,  72.80208333,  63.19444444,  91.18402778,\n",
       "          90.31597222,  32.57638889, 142.63541667, 129.83680556,\n",
       "          75.83333333, 140.30902778, 102.05902778,  97.15277778,\n",
       "          69.98611111, 114.97916667, 133.41319444, 101.84027778,\n",
       "         146.8125    , 105.10069444, 142.71875   ,  68.05208333,\n",
       "         102.23263889,  97.56944444, 142.39583333,  59.94791667,\n",
       "         123.45486111,  84.43055556, 111.23611111,  85.30902778,\n",
       "         101.15972222, 129.51041667, 122.26388889,  78.79166667,\n",
       "          76.3125    , 170.94097222,  46.98958333,  91.45833333,\n",
       "         114.58333333, 124.81944444,  26.56597222, 111.1875    ,\n",
       "          60.64236111,  89.60763889,   4.60416667,  95.50347222,\n",
       "          63.1875    ,  79.57986111,  67.90972222, 196.78819444,\n",
       "          97.15972222,  91.94791667,  90.02777778,  86.39583333,\n",
       "          98.4375    ,  63.88888889,  79.69097222,  84.89583333,\n",
       "          81.62152778,  84.52777778, 135.57638889,  11.15972222,\n",
       "         122.77777778,  79.44444444,  82.82291667,  52.96875   ,\n",
       "         109.60416667, 118.92013889,  79.75694444,  91.11458333,\n",
       "         132.61458333,  18.81597222,  73.97222222, 161.88194444,\n",
       "          74.59375   , 117.05555556, 108.59722222, 111.92013889,\n",
       "          65.83333333, 162.39930556,  13.77430556, 163.01041667,\n",
       "          75.65625   , 103.49305556,  94.21527778, 108.71875   ,\n",
       "          46.84375   ,  76.94444444,  73.18055556, 118.00694444])},\n",
       " 10: {'E_best': array([6.4]),\n",
       "  'exp_date': 37.312361111111116,\n",
       "  'date_lower': 5.868055555555555,\n",
       "  'date_higher': 84.73263888888889,\n",
       "  'dates': array([ 56.59027778,  25.44791667,  76.71180556,  21.58680556,\n",
       "          24.14583333,  20.70138889,  29.12152778,  58.51041667,\n",
       "          48.94444444,  35.48611111,  13.12847222,  84.73263889,\n",
       "          72.15277778,  55.66319444,  37.96527778,  40.95486111,\n",
       "          43.28819444,  10.25      ,  30.25      ,  23.48263889,\n",
       "          34.58680556,  57.72222222,  50.5       ,  34.93402778,\n",
       "          55.01388889,  79.64583333,  76.67708333,  39.71875   ,\n",
       "          24.92708333,  33.89583333,  50.69791667,  38.22222222,\n",
       "          28.29861111,  17.95138889,   5.92361111,  28.89930556,\n",
       "          49.75347222,  21.94791667,  43.75347222,  44.05208333,\n",
       "          39.17013889,  29.38194444,  19.61805556,   2.52430556,\n",
       "          59.41319444,  11.82986111,  60.26736111,  33.84027778,\n",
       "          17.62152778,  35.38888889,  23.31944444,  10.56944444,\n",
       "          53.71875   ,  27.90972222,  15.67013889,  12.55208333,\n",
       "          23.68055556,  82.13888889,  23.96180556,  58.18055556,\n",
       "          25.18055556,  50.84722222,  28.98263889,  44.62152778,\n",
       "          28.72916667,  33.07638889,  29.63888889,  11.12847222,\n",
       "          41.29166667,  59.47916667,  27.85763889,  18.24652778,\n",
       "          18.37847222,  15.39236111,  23.39236111,  16.12847222,\n",
       "          40.17013889,  40.86458333,  23.71180556,  26.14583333,\n",
       "          71.21875   ,  18.29513889,  29.03819444,  27.55555556,\n",
       "          32.23611111,  30.22916667,  44.15277778,  23.77083333,\n",
       "          45.97569444,   3.48958333,   3.32638889,   7.71875   ,\n",
       "          37.28472222,  33.36111111,  55.92013889,  52.59027778,\n",
       "          34.59722222,  43.58680556,  56.40277778,   5.30902778,\n",
       "          29.61805556,  65.81944444, 105.54861111,  24.55208333,\n",
       "          39.51736111,   7.51388889,  27.6875    ,  31.6875    ,\n",
       "          52.35763889,  41.55208333,  25.80208333,   6.21875   ,\n",
       "          19.20138889,   4.20138889,  35.21527778,  39.04861111,\n",
       "          34.95833333,  35.22569444,  29.18055556,  19.61458333,\n",
       "          36.30208333,  49.13888889,  16.38888889,  46.94791667,\n",
       "          40.87152778, 127.79861111,   7.11111111,  55.13541667,\n",
       "          57.10416667,  57.65277778,  52.875     ,  19.41666667,\n",
       "          41.22916667,   5.86805556,  30.21527778,  15.39583333,\n",
       "          18.60763889,  60.67361111,  20.57638889,  22.52777778,\n",
       "          64.74305556,  54.83680556,  80.34722222,  54.09722222,\n",
       "          55.86111111,  46.94444444,  16.6875    ,  29.5625    ,\n",
       "           5.9375    ,  34.44791667,  68.45486111,  20.98611111,\n",
       "          58.57291667,  40.81944444,  33.99305556,  35.49305556,\n",
       "          34.93055556,  55.42361111,  26.4375    ,  49.30555556,\n",
       "          17.21875   ,  27.26041667,  24.85069444,  24.05902778,\n",
       "          45.25      ,  24.96180556,  48.38888889,  39.90277778,\n",
       "          84.38194444,  38.81944444,  32.79861111,  37.15972222,\n",
       "          16.87152778,  39.50347222,  71.45486111,  39.42361111,\n",
       "          72.23263889,  24.57638889,   8.09722222,  51.54861111,\n",
       "          17.25694444,  52.96180556,  54.44791667,  32.89930556,\n",
       "          32.53125   ,  62.81597222,  94.56944444,  33.86458333,\n",
       "          32.42361111,  38.94444444,  12.86805556,  39.36805556,\n",
       "          88.22222222,  44.06597222,  16.36111111,  21.34375   ,\n",
       "          27.79513889,  36.86458333,  59.53125   ,  44.02083333])}}"
      ]
     },
     "execution_count": 62,
     "metadata": {},
     "output_type": "execute_result"
    }
   ],
   "source": []
  },
  {
   "cell_type": "code",
   "execution_count": null,
   "id": "858600b3",
   "metadata": {},
   "outputs": [],
   "source": []
  }
 ],
 "metadata": {
  "kernelspec": {
   "display_name": "my_env",
   "language": "python",
   "name": "my_env"
  },
  "language_info": {
   "codemirror_mode": {
    "name": "ipython",
    "version": 3
   },
   "file_extension": ".py",
   "mimetype": "text/x-python",
   "name": "python",
   "nbconvert_exporter": "python",
   "pygments_lexer": "ipython3",
   "version": "3.8.8"
  }
 },
 "nbformat": 4,
 "nbformat_minor": 5
}
